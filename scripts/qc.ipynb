{
 "cells": [
  {
   "cell_type": "markdown",
   "id": "bc25e584",
   "metadata": {},
   "source": [
    "# Utilities"
   ]
  },
  {
   "cell_type": "code",
   "execution_count": 11,
   "id": "d7edc058",
   "metadata": {},
   "outputs": [],
   "source": [
    "import anndata as ad\n",
    "import pandas as pd\n",
    "import scanpy as sc\n",
    "from pathlib import Path\n",
    "import plotly.express as px"
   ]
  },
  {
   "cell_type": "code",
   "execution_count": 12,
   "id": "f206f5f4",
   "metadata": {},
   "outputs": [],
   "source": [
    "sc.settings.set_figure_params(dpi=150, facecolor=\"white\")"
   ]
  },
  {
   "cell_type": "code",
   "execution_count": 13,
   "id": "daa6714d",
   "metadata": {},
   "outputs": [],
   "source": [
    "def replace_underscores(series):\n",
    "    series = series.str.replace(r'[_-]', '<br>', regex=True)\n",
    "\n",
    "    return series"
   ]
  },
  {
   "cell_type": "code",
   "execution_count": 14,
   "id": "90785bdb",
   "metadata": {},
   "outputs": [],
   "source": [
    "def count(col_name: str, data: ad.AnnData) -> pd.Series:\n",
    "\n",
    "    extracted = data.obs[col_name].value_counts()\n",
    "    extracted.index = replace_underscores(extracted.index)\n",
    "\n",
    "    return extracted"
   ]
  },
  {
   "cell_type": "code",
   "execution_count": 15,
   "id": "cf55411e",
   "metadata": {},
   "outputs": [],
   "source": [
    "data_file = Path('../data/endometrium_all.h5ad')\n",
    "data = ad.read_h5ad(data_file)"
   ]
  },
  {
   "cell_type": "markdown",
   "id": "c356eb67",
   "metadata": {},
   "source": [
    "# Observations exploration"
   ]
  },
  {
   "cell_type": "code",
   "execution_count": 16,
   "id": "7b20e1a3",
   "metadata": {},
   "outputs": [
    {
     "data": {
      "text/html": [
       "<div>\n",
       "<style scoped>\n",
       "    .dataframe tbody tr th:only-of-type {\n",
       "        vertical-align: middle;\n",
       "    }\n",
       "\n",
       "    .dataframe tbody tr th {\n",
       "        vertical-align: top;\n",
       "    }\n",
       "\n",
       "    .dataframe thead th {\n",
       "        text-align: right;\n",
       "    }\n",
       "</style>\n",
       "<table border=\"1\" class=\"dataframe\">\n",
       "  <thead>\n",
       "    <tr style=\"text-align: right;\">\n",
       "      <th></th>\n",
       "      <th>SampleID</th>\n",
       "      <th>log2p1_count</th>\n",
       "      <th>percent_mito</th>\n",
       "      <th>n_genes</th>\n",
       "      <th>DonorID</th>\n",
       "      <th>BiopsyType</th>\n",
       "      <th>Location</th>\n",
       "      <th>Binary Stage</th>\n",
       "      <th>Stage</th>\n",
       "      <th>Broad cell type</th>\n",
       "      <th>Cell type</th>\n",
       "      <th>CellCycle Phase</th>\n",
       "    </tr>\n",
       "  </thead>\n",
       "  <tbody>\n",
       "    <tr>\n",
       "      <th>4861STDY7387181_AAACCTGAGGCATGGT</th>\n",
       "      <td>4861STDY7387181</td>\n",
       "      <td>13.951467</td>\n",
       "      <td>0.057320</td>\n",
       "      <td>3842</td>\n",
       "      <td>A13</td>\n",
       "      <td>Organ_Donor</td>\n",
       "      <td>endometrium_enriched</td>\n",
       "      <td>Proliferative</td>\n",
       "      <td>proliferative</td>\n",
       "      <td>Stromal</td>\n",
       "      <td>eS</td>\n",
       "      <td>S</td>\n",
       "    </tr>\n",
       "    <tr>\n",
       "      <th>4861STDY7387181_AAACCTGAGGGCACTA</th>\n",
       "      <td>4861STDY7387181</td>\n",
       "      <td>13.776227</td>\n",
       "      <td>0.043838</td>\n",
       "      <td>3544</td>\n",
       "      <td>A13</td>\n",
       "      <td>Organ_Donor</td>\n",
       "      <td>endometrium_enriched</td>\n",
       "      <td>Proliferative</td>\n",
       "      <td>proliferative</td>\n",
       "      <td>Stromal</td>\n",
       "      <td>eS</td>\n",
       "      <td>G1</td>\n",
       "    </tr>\n",
       "    <tr>\n",
       "      <th>4861STDY7387181_AAACCTGAGTGAAGTT</th>\n",
       "      <td>4861STDY7387181</td>\n",
       "      <td>12.894628</td>\n",
       "      <td>0.070791</td>\n",
       "      <td>2507</td>\n",
       "      <td>A13</td>\n",
       "      <td>Organ_Donor</td>\n",
       "      <td>endometrium_enriched</td>\n",
       "      <td>Proliferative</td>\n",
       "      <td>proliferative</td>\n",
       "      <td>Supporting</td>\n",
       "      <td>PV STEAP4</td>\n",
       "      <td>G1</td>\n",
       "    </tr>\n",
       "    <tr>\n",
       "      <th>4861STDY7387181_AAACCTGAGTGGGCTA</th>\n",
       "      <td>4861STDY7387181</td>\n",
       "      <td>12.329235</td>\n",
       "      <td>0.071137</td>\n",
       "      <td>1928</td>\n",
       "      <td>A13</td>\n",
       "      <td>Organ_Donor</td>\n",
       "      <td>endometrium_enriched</td>\n",
       "      <td>Proliferative</td>\n",
       "      <td>proliferative</td>\n",
       "      <td>Stromal</td>\n",
       "      <td>dS</td>\n",
       "      <td>G1</td>\n",
       "    </tr>\n",
       "    <tr>\n",
       "      <th>4861STDY7387181_AAACCTGCACCGAAAG</th>\n",
       "      <td>4861STDY7387181</td>\n",
       "      <td>12.171176</td>\n",
       "      <td>0.063977</td>\n",
       "      <td>1824</td>\n",
       "      <td>A13</td>\n",
       "      <td>Organ_Donor</td>\n",
       "      <td>endometrium_enriched</td>\n",
       "      <td>Proliferative</td>\n",
       "      <td>proliferative</td>\n",
       "      <td>Stromal</td>\n",
       "      <td>eS</td>\n",
       "      <td>G1</td>\n",
       "    </tr>\n",
       "    <tr>\n",
       "      <th>...</th>\n",
       "      <td>...</td>\n",
       "      <td>...</td>\n",
       "      <td>...</td>\n",
       "      <td>...</td>\n",
       "      <td>...</td>\n",
       "      <td>...</td>\n",
       "      <td>...</td>\n",
       "      <td>...</td>\n",
       "      <td>...</td>\n",
       "      <td>...</td>\n",
       "      <td>...</td>\n",
       "      <td>...</td>\n",
       "    </tr>\n",
       "    <tr>\n",
       "      <th>GSM4577315_TTTGGTTAGGATAATC</th>\n",
       "      <td>GSM4577315</td>\n",
       "      <td>15.003430</td>\n",
       "      <td>0.041133</td>\n",
       "      <td>6244</td>\n",
       "      <td>SAMN15049042</td>\n",
       "      <td>Superficial_Biopsy</td>\n",
       "      <td>endometrium_biopsy</td>\n",
       "      <td>Proliferative</td>\n",
       "      <td>proliferative</td>\n",
       "      <td>Epithelial</td>\n",
       "      <td>SOX9</td>\n",
       "      <td>G2M</td>\n",
       "    </tr>\n",
       "    <tr>\n",
       "      <th>GSM4577315_TTTGGTTCACTACACA</th>\n",
       "      <td>GSM4577315</td>\n",
       "      <td>14.409987</td>\n",
       "      <td>0.025634</td>\n",
       "      <td>5045</td>\n",
       "      <td>SAMN15049042</td>\n",
       "      <td>Superficial_Biopsy</td>\n",
       "      <td>endometrium_biopsy</td>\n",
       "      <td>Proliferative</td>\n",
       "      <td>proliferative</td>\n",
       "      <td>Epithelial</td>\n",
       "      <td>SOX9</td>\n",
       "      <td>G1</td>\n",
       "    </tr>\n",
       "    <tr>\n",
       "      <th>GSM4577315_TTTGGTTGTCCGACGT</th>\n",
       "      <td>GSM4577315</td>\n",
       "      <td>13.338180</td>\n",
       "      <td>0.079575</td>\n",
       "      <td>2911</td>\n",
       "      <td>SAMN15049042</td>\n",
       "      <td>Superficial_Biopsy</td>\n",
       "      <td>endometrium_biopsy</td>\n",
       "      <td>Proliferative</td>\n",
       "      <td>proliferative</td>\n",
       "      <td>Epithelial</td>\n",
       "      <td>SOX9</td>\n",
       "      <td>G1</td>\n",
       "    </tr>\n",
       "    <tr>\n",
       "      <th>GSM4577315_TTTGTTGGTTCGGCCA</th>\n",
       "      <td>GSM4577315</td>\n",
       "      <td>13.996120</td>\n",
       "      <td>0.059918</td>\n",
       "      <td>4592</td>\n",
       "      <td>SAMN15049042</td>\n",
       "      <td>Superficial_Biopsy</td>\n",
       "      <td>endometrium_biopsy</td>\n",
       "      <td>Proliferative</td>\n",
       "      <td>proliferative</td>\n",
       "      <td>Epithelial</td>\n",
       "      <td>SOX9</td>\n",
       "      <td>G2M</td>\n",
       "    </tr>\n",
       "    <tr>\n",
       "      <th>GSM4577315_TTTGTTGTCATCTGTT</th>\n",
       "      <td>GSM4577315</td>\n",
       "      <td>12.164278</td>\n",
       "      <td>0.052953</td>\n",
       "      <td>1924</td>\n",
       "      <td>SAMN15049042</td>\n",
       "      <td>Superficial_Biopsy</td>\n",
       "      <td>endometrium_biopsy</td>\n",
       "      <td>Proliferative</td>\n",
       "      <td>proliferative</td>\n",
       "      <td>Immune</td>\n",
       "      <td>Lymphoid</td>\n",
       "      <td>G1</td>\n",
       "    </tr>\n",
       "  </tbody>\n",
       "</table>\n",
       "<p>100307 rows × 12 columns</p>\n",
       "</div>"
      ],
      "text/plain": [
       "                                         SampleID  log2p1_count  percent_mito  \\\n",
       "4861STDY7387181_AAACCTGAGGCATGGT  4861STDY7387181     13.951467      0.057320   \n",
       "4861STDY7387181_AAACCTGAGGGCACTA  4861STDY7387181     13.776227      0.043838   \n",
       "4861STDY7387181_AAACCTGAGTGAAGTT  4861STDY7387181     12.894628      0.070791   \n",
       "4861STDY7387181_AAACCTGAGTGGGCTA  4861STDY7387181     12.329235      0.071137   \n",
       "4861STDY7387181_AAACCTGCACCGAAAG  4861STDY7387181     12.171176      0.063977   \n",
       "...                                           ...           ...           ...   \n",
       "GSM4577315_TTTGGTTAGGATAATC            GSM4577315     15.003430      0.041133   \n",
       "GSM4577315_TTTGGTTCACTACACA            GSM4577315     14.409987      0.025634   \n",
       "GSM4577315_TTTGGTTGTCCGACGT            GSM4577315     13.338180      0.079575   \n",
       "GSM4577315_TTTGTTGGTTCGGCCA            GSM4577315     13.996120      0.059918   \n",
       "GSM4577315_TTTGTTGTCATCTGTT            GSM4577315     12.164278      0.052953   \n",
       "\n",
       "                                  n_genes       DonorID          BiopsyType  \\\n",
       "4861STDY7387181_AAACCTGAGGCATGGT     3842           A13         Organ_Donor   \n",
       "4861STDY7387181_AAACCTGAGGGCACTA     3544           A13         Organ_Donor   \n",
       "4861STDY7387181_AAACCTGAGTGAAGTT     2507           A13         Organ_Donor   \n",
       "4861STDY7387181_AAACCTGAGTGGGCTA     1928           A13         Organ_Donor   \n",
       "4861STDY7387181_AAACCTGCACCGAAAG     1824           A13         Organ_Donor   \n",
       "...                                   ...           ...                 ...   \n",
       "GSM4577315_TTTGGTTAGGATAATC          6244  SAMN15049042  Superficial_Biopsy   \n",
       "GSM4577315_TTTGGTTCACTACACA          5045  SAMN15049042  Superficial_Biopsy   \n",
       "GSM4577315_TTTGGTTGTCCGACGT          2911  SAMN15049042  Superficial_Biopsy   \n",
       "GSM4577315_TTTGTTGGTTCGGCCA          4592  SAMN15049042  Superficial_Biopsy   \n",
       "GSM4577315_TTTGTTGTCATCTGTT          1924  SAMN15049042  Superficial_Biopsy   \n",
       "\n",
       "                                              Location   Binary Stage  \\\n",
       "4861STDY7387181_AAACCTGAGGCATGGT  endometrium_enriched  Proliferative   \n",
       "4861STDY7387181_AAACCTGAGGGCACTA  endometrium_enriched  Proliferative   \n",
       "4861STDY7387181_AAACCTGAGTGAAGTT  endometrium_enriched  Proliferative   \n",
       "4861STDY7387181_AAACCTGAGTGGGCTA  endometrium_enriched  Proliferative   \n",
       "4861STDY7387181_AAACCTGCACCGAAAG  endometrium_enriched  Proliferative   \n",
       "...                                                ...            ...   \n",
       "GSM4577315_TTTGGTTAGGATAATC         endometrium_biopsy  Proliferative   \n",
       "GSM4577315_TTTGGTTCACTACACA         endometrium_biopsy  Proliferative   \n",
       "GSM4577315_TTTGGTTGTCCGACGT         endometrium_biopsy  Proliferative   \n",
       "GSM4577315_TTTGTTGGTTCGGCCA         endometrium_biopsy  Proliferative   \n",
       "GSM4577315_TTTGTTGTCATCTGTT         endometrium_biopsy  Proliferative   \n",
       "\n",
       "                                          Stage Broad cell type  Cell type  \\\n",
       "4861STDY7387181_AAACCTGAGGCATGGT  proliferative         Stromal         eS   \n",
       "4861STDY7387181_AAACCTGAGGGCACTA  proliferative         Stromal         eS   \n",
       "4861STDY7387181_AAACCTGAGTGAAGTT  proliferative      Supporting  PV STEAP4   \n",
       "4861STDY7387181_AAACCTGAGTGGGCTA  proliferative         Stromal         dS   \n",
       "4861STDY7387181_AAACCTGCACCGAAAG  proliferative         Stromal         eS   \n",
       "...                                         ...             ...        ...   \n",
       "GSM4577315_TTTGGTTAGGATAATC       proliferative      Epithelial       SOX9   \n",
       "GSM4577315_TTTGGTTCACTACACA       proliferative      Epithelial       SOX9   \n",
       "GSM4577315_TTTGGTTGTCCGACGT       proliferative      Epithelial       SOX9   \n",
       "GSM4577315_TTTGTTGGTTCGGCCA       proliferative      Epithelial       SOX9   \n",
       "GSM4577315_TTTGTTGTCATCTGTT       proliferative          Immune   Lymphoid   \n",
       "\n",
       "                                 CellCycle Phase  \n",
       "4861STDY7387181_AAACCTGAGGCATGGT               S  \n",
       "4861STDY7387181_AAACCTGAGGGCACTA              G1  \n",
       "4861STDY7387181_AAACCTGAGTGAAGTT              G1  \n",
       "4861STDY7387181_AAACCTGAGTGGGCTA              G1  \n",
       "4861STDY7387181_AAACCTGCACCGAAAG              G1  \n",
       "...                                          ...  \n",
       "GSM4577315_TTTGGTTAGGATAATC                  G2M  \n",
       "GSM4577315_TTTGGTTCACTACACA                   G1  \n",
       "GSM4577315_TTTGGTTGTCCGACGT                   G1  \n",
       "GSM4577315_TTTGTTGGTTCGGCCA                  G2M  \n",
       "GSM4577315_TTTGTTGTCATCTGTT                   G1  \n",
       "\n",
       "[100307 rows x 12 columns]"
      ]
     },
     "execution_count": 16,
     "metadata": {},
     "output_type": "execute_result"
    }
   ],
   "source": [
    "data.obs"
   ]
  },
  {
   "cell_type": "markdown",
   "id": "e28537ad",
   "metadata": {},
   "source": [
    "Each observation is one cell"
   ]
  },
  {
   "cell_type": "code",
   "execution_count": 17,
   "id": "edf95a3c",
   "metadata": {},
   "outputs": [
    {
     "data": {
      "text/html": [
       "<div>\n",
       "<style scoped>\n",
       "    .dataframe tbody tr th:only-of-type {\n",
       "        vertical-align: middle;\n",
       "    }\n",
       "\n",
       "    .dataframe tbody tr th {\n",
       "        vertical-align: top;\n",
       "    }\n",
       "\n",
       "    .dataframe thead th {\n",
       "        text-align: right;\n",
       "    }\n",
       "</style>\n",
       "<table border=\"1\" class=\"dataframe\">\n",
       "  <thead>\n",
       "    <tr style=\"text-align: right;\">\n",
       "      <th></th>\n",
       "      <th>SampleID</th>\n",
       "      <th>log2p1_count</th>\n",
       "      <th>percent_mito</th>\n",
       "      <th>n_genes</th>\n",
       "      <th>DonorID</th>\n",
       "      <th>BiopsyType</th>\n",
       "      <th>Location</th>\n",
       "      <th>Binary Stage</th>\n",
       "      <th>Stage</th>\n",
       "      <th>Broad cell type</th>\n",
       "      <th>Cell type</th>\n",
       "      <th>CellCycle Phase</th>\n",
       "      <th>n_genes_by_counts</th>\n",
       "      <th>log1p_n_genes_by_counts</th>\n",
       "      <th>total_counts</th>\n",
       "      <th>log1p_total_counts</th>\n",
       "      <th>pct_counts_in_top_50_genes</th>\n",
       "      <th>pct_counts_in_top_100_genes</th>\n",
       "      <th>pct_counts_in_top_200_genes</th>\n",
       "      <th>pct_counts_in_top_500_genes</th>\n",
       "    </tr>\n",
       "  </thead>\n",
       "  <tbody>\n",
       "    <tr>\n",
       "      <th>4861STDY7387181_AAACCTGAGGCATGGT</th>\n",
       "      <td>4861STDY7387181</td>\n",
       "      <td>13.951467</td>\n",
       "      <td>0.057320</td>\n",
       "      <td>3842</td>\n",
       "      <td>A13</td>\n",
       "      <td>Organ_Donor</td>\n",
       "      <td>endometrium_enriched</td>\n",
       "      <td>Proliferative</td>\n",
       "      <td>proliferative</td>\n",
       "      <td>Stromal</td>\n",
       "      <td>eS</td>\n",
       "      <td>S</td>\n",
       "      <td>3842</td>\n",
       "      <td>8.254009</td>\n",
       "      <td>6091.234375</td>\n",
       "      <td>8.714770</td>\n",
       "      <td>5.357813</td>\n",
       "      <td>9.937850</td>\n",
       "      <td>16.461146</td>\n",
       "      <td>30.329796</td>\n",
       "    </tr>\n",
       "    <tr>\n",
       "      <th>4861STDY7387181_AAACCTGAGGGCACTA</th>\n",
       "      <td>4861STDY7387181</td>\n",
       "      <td>13.776227</td>\n",
       "      <td>0.043838</td>\n",
       "      <td>3544</td>\n",
       "      <td>A13</td>\n",
       "      <td>Organ_Donor</td>\n",
       "      <td>endometrium_enriched</td>\n",
       "      <td>Proliferative</td>\n",
       "      <td>proliferative</td>\n",
       "      <td>Stromal</td>\n",
       "      <td>eS</td>\n",
       "      <td>G1</td>\n",
       "      <td>3544</td>\n",
       "      <td>8.173293</td>\n",
       "      <td>5577.414551</td>\n",
       "      <td>8.626660</td>\n",
       "      <td>5.598043</td>\n",
       "      <td>10.338274</td>\n",
       "      <td>17.573845</td>\n",
       "      <td>32.288982</td>\n",
       "    </tr>\n",
       "    <tr>\n",
       "      <th>4861STDY7387181_AAACCTGAGTGAAGTT</th>\n",
       "      <td>4861STDY7387181</td>\n",
       "      <td>12.894628</td>\n",
       "      <td>0.070791</td>\n",
       "      <td>2507</td>\n",
       "      <td>A13</td>\n",
       "      <td>Organ_Donor</td>\n",
       "      <td>endometrium_enriched</td>\n",
       "      <td>Proliferative</td>\n",
       "      <td>proliferative</td>\n",
       "      <td>Supporting</td>\n",
       "      <td>PV STEAP4</td>\n",
       "      <td>G1</td>\n",
       "      <td>2507</td>\n",
       "      <td>7.827241</td>\n",
       "      <td>3600.496338</td>\n",
       "      <td>8.189105</td>\n",
       "      <td>7.620736</td>\n",
       "      <td>13.651716</td>\n",
       "      <td>22.025208</td>\n",
       "      <td>38.717518</td>\n",
       "    </tr>\n",
       "    <tr>\n",
       "      <th>4861STDY7387181_AAACCTGAGTGGGCTA</th>\n",
       "      <td>4861STDY7387181</td>\n",
       "      <td>12.329235</td>\n",
       "      <td>0.071137</td>\n",
       "      <td>1928</td>\n",
       "      <td>A13</td>\n",
       "      <td>Organ_Donor</td>\n",
       "      <td>endometrium_enriched</td>\n",
       "      <td>Proliferative</td>\n",
       "      <td>proliferative</td>\n",
       "      <td>Stromal</td>\n",
       "      <td>dS</td>\n",
       "      <td>G1</td>\n",
       "      <td>1928</td>\n",
       "      <td>7.564757</td>\n",
       "      <td>2623.698730</td>\n",
       "      <td>7.872721</td>\n",
       "      <td>9.540449</td>\n",
       "      <td>16.961205</td>\n",
       "      <td>26.312600</td>\n",
       "      <td>45.305457</td>\n",
       "    </tr>\n",
       "    <tr>\n",
       "      <th>4861STDY7387181_AAACCTGCACCGAAAG</th>\n",
       "      <td>4861STDY7387181</td>\n",
       "      <td>12.171176</td>\n",
       "      <td>0.063977</td>\n",
       "      <td>1824</td>\n",
       "      <td>A13</td>\n",
       "      <td>Organ_Donor</td>\n",
       "      <td>endometrium_enriched</td>\n",
       "      <td>Proliferative</td>\n",
       "      <td>proliferative</td>\n",
       "      <td>Stromal</td>\n",
       "      <td>eS</td>\n",
       "      <td>G1</td>\n",
       "      <td>1824</td>\n",
       "      <td>7.509335</td>\n",
       "      <td>2516.914551</td>\n",
       "      <td>7.831186</td>\n",
       "      <td>8.841314</td>\n",
       "      <td>15.683807</td>\n",
       "      <td>26.020643</td>\n",
       "      <td>46.326791</td>\n",
       "    </tr>\n",
       "    <tr>\n",
       "      <th>...</th>\n",
       "      <td>...</td>\n",
       "      <td>...</td>\n",
       "      <td>...</td>\n",
       "      <td>...</td>\n",
       "      <td>...</td>\n",
       "      <td>...</td>\n",
       "      <td>...</td>\n",
       "      <td>...</td>\n",
       "      <td>...</td>\n",
       "      <td>...</td>\n",
       "      <td>...</td>\n",
       "      <td>...</td>\n",
       "      <td>...</td>\n",
       "      <td>...</td>\n",
       "      <td>...</td>\n",
       "      <td>...</td>\n",
       "      <td>...</td>\n",
       "      <td>...</td>\n",
       "      <td>...</td>\n",
       "      <td>...</td>\n",
       "    </tr>\n",
       "    <tr>\n",
       "      <th>GSM4577315_TTTGGTTAGGATAATC</th>\n",
       "      <td>GSM4577315</td>\n",
       "      <td>15.003430</td>\n",
       "      <td>0.041133</td>\n",
       "      <td>6244</td>\n",
       "      <td>SAMN15049042</td>\n",
       "      <td>Superficial_Biopsy</td>\n",
       "      <td>endometrium_biopsy</td>\n",
       "      <td>Proliferative</td>\n",
       "      <td>proliferative</td>\n",
       "      <td>Epithelial</td>\n",
       "      <td>SOX9</td>\n",
       "      <td>G2M</td>\n",
       "      <td>6244</td>\n",
       "      <td>8.739536</td>\n",
       "      <td>11652.254883</td>\n",
       "      <td>9.363340</td>\n",
       "      <td>3.015491</td>\n",
       "      <td>5.596612</td>\n",
       "      <td>9.970052</td>\n",
       "      <td>20.187622</td>\n",
       "    </tr>\n",
       "    <tr>\n",
       "      <th>GSM4577315_TTTGGTTCACTACACA</th>\n",
       "      <td>GSM4577315</td>\n",
       "      <td>14.409987</td>\n",
       "      <td>0.025634</td>\n",
       "      <td>5045</td>\n",
       "      <td>SAMN15049042</td>\n",
       "      <td>Superficial_Biopsy</td>\n",
       "      <td>endometrium_biopsy</td>\n",
       "      <td>Proliferative</td>\n",
       "      <td>proliferative</td>\n",
       "      <td>Epithelial</td>\n",
       "      <td>SOX9</td>\n",
       "      <td>G1</td>\n",
       "      <td>5045</td>\n",
       "      <td>8.526351</td>\n",
       "      <td>8743.480469</td>\n",
       "      <td>9.076178</td>\n",
       "      <td>3.687187</td>\n",
       "      <td>6.861096</td>\n",
       "      <td>12.209780</td>\n",
       "      <td>24.024767</td>\n",
       "    </tr>\n",
       "    <tr>\n",
       "      <th>GSM4577315_TTTGGTTGTCCGACGT</th>\n",
       "      <td>GSM4577315</td>\n",
       "      <td>13.338180</td>\n",
       "      <td>0.079575</td>\n",
       "      <td>2911</td>\n",
       "      <td>SAMN15049042</td>\n",
       "      <td>Superficial_Biopsy</td>\n",
       "      <td>endometrium_biopsy</td>\n",
       "      <td>Proliferative</td>\n",
       "      <td>proliferative</td>\n",
       "      <td>Epithelial</td>\n",
       "      <td>SOX9</td>\n",
       "      <td>G1</td>\n",
       "      <td>2911</td>\n",
       "      <td>7.976595</td>\n",
       "      <td>4476.934570</td>\n",
       "      <td>8.406918</td>\n",
       "      <td>6.637291</td>\n",
       "      <td>11.842148</td>\n",
       "      <td>19.644060</td>\n",
       "      <td>36.152132</td>\n",
       "    </tr>\n",
       "    <tr>\n",
       "      <th>GSM4577315_TTTGTTGGTTCGGCCA</th>\n",
       "      <td>GSM4577315</td>\n",
       "      <td>13.996120</td>\n",
       "      <td>0.059918</td>\n",
       "      <td>4592</td>\n",
       "      <td>SAMN15049042</td>\n",
       "      <td>Superficial_Biopsy</td>\n",
       "      <td>endometrium_biopsy</td>\n",
       "      <td>Proliferative</td>\n",
       "      <td>proliferative</td>\n",
       "      <td>Epithelial</td>\n",
       "      <td>SOX9</td>\n",
       "      <td>G2M</td>\n",
       "      <td>4592</td>\n",
       "      <td>8.432289</td>\n",
       "      <td>7388.960938</td>\n",
       "      <td>8.907878</td>\n",
       "      <td>4.159953</td>\n",
       "      <td>7.457813</td>\n",
       "      <td>12.898737</td>\n",
       "      <td>25.078706</td>\n",
       "    </tr>\n",
       "    <tr>\n",
       "      <th>GSM4577315_TTTGTTGTCATCTGTT</th>\n",
       "      <td>GSM4577315</td>\n",
       "      <td>12.164278</td>\n",
       "      <td>0.052953</td>\n",
       "      <td>1924</td>\n",
       "      <td>SAMN15049042</td>\n",
       "      <td>Superficial_Biopsy</td>\n",
       "      <td>endometrium_biopsy</td>\n",
       "      <td>Proliferative</td>\n",
       "      <td>proliferative</td>\n",
       "      <td>Immune</td>\n",
       "      <td>Lymphoid</td>\n",
       "      <td>G1</td>\n",
       "      <td>1924</td>\n",
       "      <td>7.562681</td>\n",
       "      <td>2639.087402</td>\n",
       "      <td>7.878567</td>\n",
       "      <td>8.362993</td>\n",
       "      <td>14.470796</td>\n",
       "      <td>23.819537</td>\n",
       "      <td>43.692430</td>\n",
       "    </tr>\n",
       "  </tbody>\n",
       "</table>\n",
       "<p>100307 rows × 20 columns</p>\n",
       "</div>"
      ],
      "text/plain": [
       "                                         SampleID  log2p1_count  percent_mito  \\\n",
       "4861STDY7387181_AAACCTGAGGCATGGT  4861STDY7387181     13.951467      0.057320   \n",
       "4861STDY7387181_AAACCTGAGGGCACTA  4861STDY7387181     13.776227      0.043838   \n",
       "4861STDY7387181_AAACCTGAGTGAAGTT  4861STDY7387181     12.894628      0.070791   \n",
       "4861STDY7387181_AAACCTGAGTGGGCTA  4861STDY7387181     12.329235      0.071137   \n",
       "4861STDY7387181_AAACCTGCACCGAAAG  4861STDY7387181     12.171176      0.063977   \n",
       "...                                           ...           ...           ...   \n",
       "GSM4577315_TTTGGTTAGGATAATC            GSM4577315     15.003430      0.041133   \n",
       "GSM4577315_TTTGGTTCACTACACA            GSM4577315     14.409987      0.025634   \n",
       "GSM4577315_TTTGGTTGTCCGACGT            GSM4577315     13.338180      0.079575   \n",
       "GSM4577315_TTTGTTGGTTCGGCCA            GSM4577315     13.996120      0.059918   \n",
       "GSM4577315_TTTGTTGTCATCTGTT            GSM4577315     12.164278      0.052953   \n",
       "\n",
       "                                  n_genes       DonorID          BiopsyType  \\\n",
       "4861STDY7387181_AAACCTGAGGCATGGT     3842           A13         Organ_Donor   \n",
       "4861STDY7387181_AAACCTGAGGGCACTA     3544           A13         Organ_Donor   \n",
       "4861STDY7387181_AAACCTGAGTGAAGTT     2507           A13         Organ_Donor   \n",
       "4861STDY7387181_AAACCTGAGTGGGCTA     1928           A13         Organ_Donor   \n",
       "4861STDY7387181_AAACCTGCACCGAAAG     1824           A13         Organ_Donor   \n",
       "...                                   ...           ...                 ...   \n",
       "GSM4577315_TTTGGTTAGGATAATC          6244  SAMN15049042  Superficial_Biopsy   \n",
       "GSM4577315_TTTGGTTCACTACACA          5045  SAMN15049042  Superficial_Biopsy   \n",
       "GSM4577315_TTTGGTTGTCCGACGT          2911  SAMN15049042  Superficial_Biopsy   \n",
       "GSM4577315_TTTGTTGGTTCGGCCA          4592  SAMN15049042  Superficial_Biopsy   \n",
       "GSM4577315_TTTGTTGTCATCTGTT          1924  SAMN15049042  Superficial_Biopsy   \n",
       "\n",
       "                                              Location   Binary Stage  \\\n",
       "4861STDY7387181_AAACCTGAGGCATGGT  endometrium_enriched  Proliferative   \n",
       "4861STDY7387181_AAACCTGAGGGCACTA  endometrium_enriched  Proliferative   \n",
       "4861STDY7387181_AAACCTGAGTGAAGTT  endometrium_enriched  Proliferative   \n",
       "4861STDY7387181_AAACCTGAGTGGGCTA  endometrium_enriched  Proliferative   \n",
       "4861STDY7387181_AAACCTGCACCGAAAG  endometrium_enriched  Proliferative   \n",
       "...                                                ...            ...   \n",
       "GSM4577315_TTTGGTTAGGATAATC         endometrium_biopsy  Proliferative   \n",
       "GSM4577315_TTTGGTTCACTACACA         endometrium_biopsy  Proliferative   \n",
       "GSM4577315_TTTGGTTGTCCGACGT         endometrium_biopsy  Proliferative   \n",
       "GSM4577315_TTTGTTGGTTCGGCCA         endometrium_biopsy  Proliferative   \n",
       "GSM4577315_TTTGTTGTCATCTGTT         endometrium_biopsy  Proliferative   \n",
       "\n",
       "                                          Stage Broad cell type  Cell type  \\\n",
       "4861STDY7387181_AAACCTGAGGCATGGT  proliferative         Stromal         eS   \n",
       "4861STDY7387181_AAACCTGAGGGCACTA  proliferative         Stromal         eS   \n",
       "4861STDY7387181_AAACCTGAGTGAAGTT  proliferative      Supporting  PV STEAP4   \n",
       "4861STDY7387181_AAACCTGAGTGGGCTA  proliferative         Stromal         dS   \n",
       "4861STDY7387181_AAACCTGCACCGAAAG  proliferative         Stromal         eS   \n",
       "...                                         ...             ...        ...   \n",
       "GSM4577315_TTTGGTTAGGATAATC       proliferative      Epithelial       SOX9   \n",
       "GSM4577315_TTTGGTTCACTACACA       proliferative      Epithelial       SOX9   \n",
       "GSM4577315_TTTGGTTGTCCGACGT       proliferative      Epithelial       SOX9   \n",
       "GSM4577315_TTTGTTGGTTCGGCCA       proliferative      Epithelial       SOX9   \n",
       "GSM4577315_TTTGTTGTCATCTGTT       proliferative          Immune   Lymphoid   \n",
       "\n",
       "                                 CellCycle Phase  n_genes_by_counts  \\\n",
       "4861STDY7387181_AAACCTGAGGCATGGT               S               3842   \n",
       "4861STDY7387181_AAACCTGAGGGCACTA              G1               3544   \n",
       "4861STDY7387181_AAACCTGAGTGAAGTT              G1               2507   \n",
       "4861STDY7387181_AAACCTGAGTGGGCTA              G1               1928   \n",
       "4861STDY7387181_AAACCTGCACCGAAAG              G1               1824   \n",
       "...                                          ...                ...   \n",
       "GSM4577315_TTTGGTTAGGATAATC                  G2M               6244   \n",
       "GSM4577315_TTTGGTTCACTACACA                   G1               5045   \n",
       "GSM4577315_TTTGGTTGTCCGACGT                   G1               2911   \n",
       "GSM4577315_TTTGTTGGTTCGGCCA                  G2M               4592   \n",
       "GSM4577315_TTTGTTGTCATCTGTT                   G1               1924   \n",
       "\n",
       "                                  log1p_n_genes_by_counts  total_counts  \\\n",
       "4861STDY7387181_AAACCTGAGGCATGGT                 8.254009   6091.234375   \n",
       "4861STDY7387181_AAACCTGAGGGCACTA                 8.173293   5577.414551   \n",
       "4861STDY7387181_AAACCTGAGTGAAGTT                 7.827241   3600.496338   \n",
       "4861STDY7387181_AAACCTGAGTGGGCTA                 7.564757   2623.698730   \n",
       "4861STDY7387181_AAACCTGCACCGAAAG                 7.509335   2516.914551   \n",
       "...                                                   ...           ...   \n",
       "GSM4577315_TTTGGTTAGGATAATC                      8.739536  11652.254883   \n",
       "GSM4577315_TTTGGTTCACTACACA                      8.526351   8743.480469   \n",
       "GSM4577315_TTTGGTTGTCCGACGT                      7.976595   4476.934570   \n",
       "GSM4577315_TTTGTTGGTTCGGCCA                      8.432289   7388.960938   \n",
       "GSM4577315_TTTGTTGTCATCTGTT                      7.562681   2639.087402   \n",
       "\n",
       "                                  log1p_total_counts  \\\n",
       "4861STDY7387181_AAACCTGAGGCATGGT            8.714770   \n",
       "4861STDY7387181_AAACCTGAGGGCACTA            8.626660   \n",
       "4861STDY7387181_AAACCTGAGTGAAGTT            8.189105   \n",
       "4861STDY7387181_AAACCTGAGTGGGCTA            7.872721   \n",
       "4861STDY7387181_AAACCTGCACCGAAAG            7.831186   \n",
       "...                                              ...   \n",
       "GSM4577315_TTTGGTTAGGATAATC                 9.363340   \n",
       "GSM4577315_TTTGGTTCACTACACA                 9.076178   \n",
       "GSM4577315_TTTGGTTGTCCGACGT                 8.406918   \n",
       "GSM4577315_TTTGTTGGTTCGGCCA                 8.907878   \n",
       "GSM4577315_TTTGTTGTCATCTGTT                 7.878567   \n",
       "\n",
       "                                  pct_counts_in_top_50_genes  \\\n",
       "4861STDY7387181_AAACCTGAGGCATGGT                    5.357813   \n",
       "4861STDY7387181_AAACCTGAGGGCACTA                    5.598043   \n",
       "4861STDY7387181_AAACCTGAGTGAAGTT                    7.620736   \n",
       "4861STDY7387181_AAACCTGAGTGGGCTA                    9.540449   \n",
       "4861STDY7387181_AAACCTGCACCGAAAG                    8.841314   \n",
       "...                                                      ...   \n",
       "GSM4577315_TTTGGTTAGGATAATC                         3.015491   \n",
       "GSM4577315_TTTGGTTCACTACACA                         3.687187   \n",
       "GSM4577315_TTTGGTTGTCCGACGT                         6.637291   \n",
       "GSM4577315_TTTGTTGGTTCGGCCA                         4.159953   \n",
       "GSM4577315_TTTGTTGTCATCTGTT                         8.362993   \n",
       "\n",
       "                                  pct_counts_in_top_100_genes  \\\n",
       "4861STDY7387181_AAACCTGAGGCATGGT                     9.937850   \n",
       "4861STDY7387181_AAACCTGAGGGCACTA                    10.338274   \n",
       "4861STDY7387181_AAACCTGAGTGAAGTT                    13.651716   \n",
       "4861STDY7387181_AAACCTGAGTGGGCTA                    16.961205   \n",
       "4861STDY7387181_AAACCTGCACCGAAAG                    15.683807   \n",
       "...                                                       ...   \n",
       "GSM4577315_TTTGGTTAGGATAATC                          5.596612   \n",
       "GSM4577315_TTTGGTTCACTACACA                          6.861096   \n",
       "GSM4577315_TTTGGTTGTCCGACGT                         11.842148   \n",
       "GSM4577315_TTTGTTGGTTCGGCCA                          7.457813   \n",
       "GSM4577315_TTTGTTGTCATCTGTT                         14.470796   \n",
       "\n",
       "                                  pct_counts_in_top_200_genes  \\\n",
       "4861STDY7387181_AAACCTGAGGCATGGT                    16.461146   \n",
       "4861STDY7387181_AAACCTGAGGGCACTA                    17.573845   \n",
       "4861STDY7387181_AAACCTGAGTGAAGTT                    22.025208   \n",
       "4861STDY7387181_AAACCTGAGTGGGCTA                    26.312600   \n",
       "4861STDY7387181_AAACCTGCACCGAAAG                    26.020643   \n",
       "...                                                       ...   \n",
       "GSM4577315_TTTGGTTAGGATAATC                          9.970052   \n",
       "GSM4577315_TTTGGTTCACTACACA                         12.209780   \n",
       "GSM4577315_TTTGGTTGTCCGACGT                         19.644060   \n",
       "GSM4577315_TTTGTTGGTTCGGCCA                         12.898737   \n",
       "GSM4577315_TTTGTTGTCATCTGTT                         23.819537   \n",
       "\n",
       "                                  pct_counts_in_top_500_genes  \n",
       "4861STDY7387181_AAACCTGAGGCATGGT                    30.329796  \n",
       "4861STDY7387181_AAACCTGAGGGCACTA                    32.288982  \n",
       "4861STDY7387181_AAACCTGAGTGAAGTT                    38.717518  \n",
       "4861STDY7387181_AAACCTGAGTGGGCTA                    45.305457  \n",
       "4861STDY7387181_AAACCTGCACCGAAAG                    46.326791  \n",
       "...                                                       ...  \n",
       "GSM4577315_TTTGGTTAGGATAATC                         20.187622  \n",
       "GSM4577315_TTTGGTTCACTACACA                         24.024767  \n",
       "GSM4577315_TTTGGTTGTCCGACGT                         36.152132  \n",
       "GSM4577315_TTTGTTGGTTCGGCCA                         25.078706  \n",
       "GSM4577315_TTTGTTGTCATCTGTT                         43.692430  \n",
       "\n",
       "[100307 rows x 20 columns]"
      ]
     },
     "execution_count": 17,
     "metadata": {},
     "output_type": "execute_result"
    }
   ],
   "source": [
    "sc.pp.calculate_qc_metrics(data, inplace=True)\n",
    "data.obs"
   ]
  },
  {
   "cell_type": "markdown",
   "id": "03bd8abb",
   "metadata": {},
   "source": [
    "## Samples"
   ]
  },
  {
   "cell_type": "code",
   "execution_count": 18,
   "id": "7942cb09",
   "metadata": {},
   "outputs": [
    {
     "data": {
      "text/plain": [
       "21"
      ]
     },
     "execution_count": 18,
     "metadata": {},
     "output_type": "execute_result"
    }
   ],
   "source": [
    "data.obs['SampleID'].nunique()"
   ]
  },
  {
   "cell_type": "code",
   "execution_count": 19,
   "id": "bec59b10",
   "metadata": {},
   "outputs": [
    {
     "data": {
      "text/plain": [
       "SampleID\n",
       "GSM4577309            20816\n",
       "4861STDY7771123       12665\n",
       "GSM4577310             7095\n",
       "GSM4577308             6737\n",
       "4861STDY7387183        6344\n",
       "4861STDY7387181        6072\n",
       "4861STDY7387182        6007\n",
       "4861STDY7771115        4335\n",
       "MRC<br>Endo8625698     4310\n",
       "GSM4577312             3384\n",
       "GSM4577314             3069\n",
       "GSM4577313             3002\n",
       "GSM4577311             2945\n",
       "MRC<br>Endo8715416     2415\n",
       "MRC<br>Endo8625699     2368\n",
       "GSM4577306             2025\n",
       "GSM4577315             1958\n",
       "GSM4577307             1870\n",
       "MRC<br>Endo8712032     1408\n",
       "MRC<br>Endo8712024      879\n",
       "MRC<br>Endo8715415      603\n",
       "Name: count, dtype: int64"
      ]
     },
     "execution_count": 19,
     "metadata": {},
     "output_type": "execute_result"
    }
   ],
   "source": [
    "count('SampleID', data)"
   ]
  },
  {
   "cell_type": "code",
   "execution_count": 20,
   "id": "670da606",
   "metadata": {},
   "outputs": [
    {
     "data": {
      "application/vnd.plotly.v1+json": {
       "config": {
        "plotlyServerURL": "https://plot.ly"
       },
       "data": [
        {
         "hovertemplate": "SampleID=4861STDY7387181<br>DonorID=%{x}<br>cells=%{y}<extra></extra>",
         "legendgroup": "4861STDY7387181",
         "marker": {
          "color": "#AA0DFE",
          "pattern": {
           "shape": ""
          }
         },
         "name": "4861STDY7387181",
         "orientation": "v",
         "showlegend": true,
         "textposition": "auto",
         "type": "bar",
         "x": [
          "A13",
          "A30",
          "E1",
          "E2",
          "E3",
          "SAMN15049042",
          "SAMN15049043",
          "SAMN15049044",
          "SAMN15049045",
          "SAMN15049046",
          "SAMN15049047",
          "SAMN15049048",
          "SAMN15049049",
          "SAMN15049050",
          "SAMN15049051"
         ],
         "xaxis": "x",
         "y": {
          "bdata": "uBcAAAAAAAAAAAAAAAAAAAAAAAAAAAAAAAAAAAAA",
          "dtype": "i2"
         },
         "yaxis": "y"
        },
        {
         "hovertemplate": "SampleID=4861STDY7387182<br>DonorID=%{x}<br>cells=%{y}<extra></extra>",
         "legendgroup": "4861STDY7387182",
         "marker": {
          "color": "#3283FE",
          "pattern": {
           "shape": ""
          }
         },
         "name": "4861STDY7387182",
         "orientation": "v",
         "showlegend": true,
         "textposition": "auto",
         "type": "bar",
         "x": [
          "A13",
          "A30",
          "E1",
          "E2",
          "E3",
          "SAMN15049042",
          "SAMN15049043",
          "SAMN15049044",
          "SAMN15049045",
          "SAMN15049046",
          "SAMN15049047",
          "SAMN15049048",
          "SAMN15049049",
          "SAMN15049050",
          "SAMN15049051"
         ],
         "xaxis": "x",
         "y": {
          "bdata": "dxcAAAAAAAAAAAAAAAAAAAAAAAAAAAAAAAAAAAAA",
          "dtype": "i2"
         },
         "yaxis": "y"
        },
        {
         "hovertemplate": "SampleID=4861STDY7387183<br>DonorID=%{x}<br>cells=%{y}<extra></extra>",
         "legendgroup": "4861STDY7387183",
         "marker": {
          "color": "#85660D",
          "pattern": {
           "shape": ""
          }
         },
         "name": "4861STDY7387183",
         "orientation": "v",
         "showlegend": true,
         "textposition": "auto",
         "type": "bar",
         "x": [
          "A13",
          "A30",
          "E1",
          "E2",
          "E3",
          "SAMN15049042",
          "SAMN15049043",
          "SAMN15049044",
          "SAMN15049045",
          "SAMN15049046",
          "SAMN15049047",
          "SAMN15049048",
          "SAMN15049049",
          "SAMN15049050",
          "SAMN15049051"
         ],
         "xaxis": "x",
         "y": {
          "bdata": "yBgAAAAAAAAAAAAAAAAAAAAAAAAAAAAAAAAAAAAA",
          "dtype": "i2"
         },
         "yaxis": "y"
        },
        {
         "hovertemplate": "SampleID=4861STDY7771115<br>DonorID=%{x}<br>cells=%{y}<extra></extra>",
         "legendgroup": "4861STDY7771115",
         "marker": {
          "color": "#782AB6",
          "pattern": {
           "shape": ""
          }
         },
         "name": "4861STDY7771115",
         "orientation": "v",
         "showlegend": true,
         "textposition": "auto",
         "type": "bar",
         "x": [
          "A13",
          "A30",
          "E1",
          "E2",
          "E3",
          "SAMN15049042",
          "SAMN15049043",
          "SAMN15049044",
          "SAMN15049045",
          "SAMN15049046",
          "SAMN15049047",
          "SAMN15049048",
          "SAMN15049049",
          "SAMN15049050",
          "SAMN15049051"
         ],
         "xaxis": "x",
         "y": {
          "bdata": "AADvEAAAAAAAAAAAAAAAAAAAAAAAAAAAAAAAAAAA",
          "dtype": "i2"
         },
         "yaxis": "y"
        },
        {
         "hovertemplate": "SampleID=4861STDY7771123<br>DonorID=%{x}<br>cells=%{y}<extra></extra>",
         "legendgroup": "4861STDY7771123",
         "marker": {
          "color": "#565656",
          "pattern": {
           "shape": ""
          }
         },
         "name": "4861STDY7771123",
         "orientation": "v",
         "showlegend": true,
         "textposition": "auto",
         "type": "bar",
         "x": [
          "A13",
          "A30",
          "E1",
          "E2",
          "E3",
          "SAMN15049042",
          "SAMN15049043",
          "SAMN15049044",
          "SAMN15049045",
          "SAMN15049046",
          "SAMN15049047",
          "SAMN15049048",
          "SAMN15049049",
          "SAMN15049050",
          "SAMN15049051"
         ],
         "xaxis": "x",
         "y": {
          "bdata": "AAB5MQAAAAAAAAAAAAAAAAAAAAAAAAAAAAAAAAAA",
          "dtype": "i2"
         },
         "yaxis": "y"
        },
        {
         "hovertemplate": "SampleID=GSM4577306<br>DonorID=%{x}<br>cells=%{y}<extra></extra>",
         "legendgroup": "GSM4577306",
         "marker": {
          "color": "#1C8356",
          "pattern": {
           "shape": ""
          }
         },
         "name": "GSM4577306",
         "orientation": "v",
         "showlegend": true,
         "textposition": "auto",
         "type": "bar",
         "x": [
          "A13",
          "A30",
          "E1",
          "E2",
          "E3",
          "SAMN15049042",
          "SAMN15049043",
          "SAMN15049044",
          "SAMN15049045",
          "SAMN15049046",
          "SAMN15049047",
          "SAMN15049048",
          "SAMN15049049",
          "SAMN15049050",
          "SAMN15049051"
         ],
         "xaxis": "x",
         "y": {
          "bdata": "AAAAAAAAAAAAAAAAAAAAAAAAAAAAAAAAAAAAAOkH",
          "dtype": "i2"
         },
         "yaxis": "y"
        },
        {
         "hovertemplate": "SampleID=GSM4577307<br>DonorID=%{x}<br>cells=%{y}<extra></extra>",
         "legendgroup": "GSM4577307",
         "marker": {
          "color": "#16FF32",
          "pattern": {
           "shape": ""
          }
         },
         "name": "GSM4577307",
         "orientation": "v",
         "showlegend": true,
         "textposition": "auto",
         "type": "bar",
         "x": [
          "A13",
          "A30",
          "E1",
          "E2",
          "E3",
          "SAMN15049042",
          "SAMN15049043",
          "SAMN15049044",
          "SAMN15049045",
          "SAMN15049046",
          "SAMN15049047",
          "SAMN15049048",
          "SAMN15049049",
          "SAMN15049050",
          "SAMN15049051"
         ],
         "xaxis": "x",
         "y": {
          "bdata": "AAAAAAAAAAAAAAAAAAAAAAAAAAAAAAAAAABOBwAA",
          "dtype": "i2"
         },
         "yaxis": "y"
        },
        {
         "hovertemplate": "SampleID=GSM4577308<br>DonorID=%{x}<br>cells=%{y}<extra></extra>",
         "legendgroup": "GSM4577308",
         "marker": {
          "color": "#F7E1A0",
          "pattern": {
           "shape": ""
          }
         },
         "name": "GSM4577308",
         "orientation": "v",
         "showlegend": true,
         "textposition": "auto",
         "type": "bar",
         "x": [
          "A13",
          "A30",
          "E1",
          "E2",
          "E3",
          "SAMN15049042",
          "SAMN15049043",
          "SAMN15049044",
          "SAMN15049045",
          "SAMN15049046",
          "SAMN15049047",
          "SAMN15049048",
          "SAMN15049049",
          "SAMN15049050",
          "SAMN15049051"
         ],
         "xaxis": "x",
         "y": {
          "bdata": "AAAAAAAAAAAAAAAAAAAAAAAAAAAAAAAAURoAAAAA",
          "dtype": "i2"
         },
         "yaxis": "y"
        },
        {
         "hovertemplate": "SampleID=GSM4577309<br>DonorID=%{x}<br>cells=%{y}<extra></extra>",
         "legendgroup": "GSM4577309",
         "marker": {
          "color": "#E2E2E2",
          "pattern": {
           "shape": ""
          }
         },
         "name": "GSM4577309",
         "orientation": "v",
         "showlegend": true,
         "textposition": "auto",
         "type": "bar",
         "x": [
          "A13",
          "A30",
          "E1",
          "E2",
          "E3",
          "SAMN15049042",
          "SAMN15049043",
          "SAMN15049044",
          "SAMN15049045",
          "SAMN15049046",
          "SAMN15049047",
          "SAMN15049048",
          "SAMN15049049",
          "SAMN15049050",
          "SAMN15049051"
         ],
         "xaxis": "x",
         "y": {
          "bdata": "AAAAAAAAAAAAAAAAAAAAAAAAAAAAAFBRAAAAAAAA",
          "dtype": "i2"
         },
         "yaxis": "y"
        },
        {
         "hovertemplate": "SampleID=GSM4577310<br>DonorID=%{x}<br>cells=%{y}<extra></extra>",
         "legendgroup": "GSM4577310",
         "marker": {
          "color": "#1CBE4F",
          "pattern": {
           "shape": ""
          }
         },
         "name": "GSM4577310",
         "orientation": "v",
         "showlegend": true,
         "textposition": "auto",
         "type": "bar",
         "x": [
          "A13",
          "A30",
          "E1",
          "E2",
          "E3",
          "SAMN15049042",
          "SAMN15049043",
          "SAMN15049044",
          "SAMN15049045",
          "SAMN15049046",
          "SAMN15049047",
          "SAMN15049048",
          "SAMN15049049",
          "SAMN15049050",
          "SAMN15049051"
         ],
         "xaxis": "x",
         "y": {
          "bdata": "AAAAAAAAAAAAAAAAAAAAAAAAAAC3GwAAAAAAAAAA",
          "dtype": "i2"
         },
         "yaxis": "y"
        },
        {
         "hovertemplate": "SampleID=GSM4577311<br>DonorID=%{x}<br>cells=%{y}<extra></extra>",
         "legendgroup": "GSM4577311",
         "marker": {
          "color": "#C4451C",
          "pattern": {
           "shape": ""
          }
         },
         "name": "GSM4577311",
         "orientation": "v",
         "showlegend": true,
         "textposition": "auto",
         "type": "bar",
         "x": [
          "A13",
          "A30",
          "E1",
          "E2",
          "E3",
          "SAMN15049042",
          "SAMN15049043",
          "SAMN15049044",
          "SAMN15049045",
          "SAMN15049046",
          "SAMN15049047",
          "SAMN15049048",
          "SAMN15049049",
          "SAMN15049050",
          "SAMN15049051"
         ],
         "xaxis": "x",
         "y": {
          "bdata": "AAAAAAAAAAAAAAAAAAAAAAAAgQsAAAAAAAAAAAAA",
          "dtype": "i2"
         },
         "yaxis": "y"
        },
        {
         "hovertemplate": "SampleID=GSM4577312<br>DonorID=%{x}<br>cells=%{y}<extra></extra>",
         "legendgroup": "GSM4577312",
         "marker": {
          "color": "#DEA0FD",
          "pattern": {
           "shape": ""
          }
         },
         "name": "GSM4577312",
         "orientation": "v",
         "showlegend": true,
         "textposition": "auto",
         "type": "bar",
         "x": [
          "A13",
          "A30",
          "E1",
          "E2",
          "E3",
          "SAMN15049042",
          "SAMN15049043",
          "SAMN15049044",
          "SAMN15049045",
          "SAMN15049046",
          "SAMN15049047",
          "SAMN15049048",
          "SAMN15049049",
          "SAMN15049050",
          "SAMN15049051"
         ],
         "xaxis": "x",
         "y": {
          "bdata": "AAAAAAAAAAAAAAAAAAAAADgNAAAAAAAAAAAAAAAA",
          "dtype": "i2"
         },
         "yaxis": "y"
        },
        {
         "hovertemplate": "SampleID=GSM4577313<br>DonorID=%{x}<br>cells=%{y}<extra></extra>",
         "legendgroup": "GSM4577313",
         "marker": {
          "color": "#FE00FA",
          "pattern": {
           "shape": ""
          }
         },
         "name": "GSM4577313",
         "orientation": "v",
         "showlegend": true,
         "textposition": "auto",
         "type": "bar",
         "x": [
          "A13",
          "A30",
          "E1",
          "E2",
          "E3",
          "SAMN15049042",
          "SAMN15049043",
          "SAMN15049044",
          "SAMN15049045",
          "SAMN15049046",
          "SAMN15049047",
          "SAMN15049048",
          "SAMN15049049",
          "SAMN15049050",
          "SAMN15049051"
         ],
         "xaxis": "x",
         "y": {
          "bdata": "AAAAAAAAAAAAAAAAAAC6CwAAAAAAAAAAAAAAAAAA",
          "dtype": "i2"
         },
         "yaxis": "y"
        },
        {
         "hovertemplate": "SampleID=GSM4577314<br>DonorID=%{x}<br>cells=%{y}<extra></extra>",
         "legendgroup": "GSM4577314",
         "marker": {
          "color": "#325A9B",
          "pattern": {
           "shape": ""
          }
         },
         "name": "GSM4577314",
         "orientation": "v",
         "showlegend": true,
         "textposition": "auto",
         "type": "bar",
         "x": [
          "A13",
          "A30",
          "E1",
          "E2",
          "E3",
          "SAMN15049042",
          "SAMN15049043",
          "SAMN15049044",
          "SAMN15049045",
          "SAMN15049046",
          "SAMN15049047",
          "SAMN15049048",
          "SAMN15049049",
          "SAMN15049050",
          "SAMN15049051"
         ],
         "xaxis": "x",
         "y": {
          "bdata": "AAAAAAAAAAAAAAAA/QsAAAAAAAAAAAAAAAAAAAAA",
          "dtype": "i2"
         },
         "yaxis": "y"
        },
        {
         "hovertemplate": "SampleID=GSM4577315<br>DonorID=%{x}<br>cells=%{y}<extra></extra>",
         "legendgroup": "GSM4577315",
         "marker": {
          "color": "#FEAF16",
          "pattern": {
           "shape": ""
          }
         },
         "name": "GSM4577315",
         "orientation": "v",
         "showlegend": true,
         "textposition": "auto",
         "type": "bar",
         "x": [
          "A13",
          "A30",
          "E1",
          "E2",
          "E3",
          "SAMN15049042",
          "SAMN15049043",
          "SAMN15049044",
          "SAMN15049045",
          "SAMN15049046",
          "SAMN15049047",
          "SAMN15049048",
          "SAMN15049049",
          "SAMN15049050",
          "SAMN15049051"
         ],
         "xaxis": "x",
         "y": {
          "bdata": "AAAAAAAAAAAAAKYHAAAAAAAAAAAAAAAAAAAAAAAA",
          "dtype": "i2"
         },
         "yaxis": "y"
        },
        {
         "hovertemplate": "SampleID=MRC_Endo8625698<br>DonorID=%{x}<br>cells=%{y}<extra></extra>",
         "legendgroup": "MRC_Endo8625698",
         "marker": {
          "color": "#F8A19F",
          "pattern": {
           "shape": ""
          }
         },
         "name": "MRC_Endo8625698",
         "orientation": "v",
         "showlegend": true,
         "textposition": "auto",
         "type": "bar",
         "x": [
          "A13",
          "A30",
          "E1",
          "E2",
          "E3",
          "SAMN15049042",
          "SAMN15049043",
          "SAMN15049044",
          "SAMN15049045",
          "SAMN15049046",
          "SAMN15049047",
          "SAMN15049048",
          "SAMN15049049",
          "SAMN15049050",
          "SAMN15049051"
         ],
         "xaxis": "x",
         "y": {
          "bdata": "AAAAANYQAAAAAAAAAAAAAAAAAAAAAAAAAAAAAAAA",
          "dtype": "i2"
         },
         "yaxis": "y"
        },
        {
         "hovertemplate": "SampleID=MRC_Endo8625699<br>DonorID=%{x}<br>cells=%{y}<extra></extra>",
         "legendgroup": "MRC_Endo8625699",
         "marker": {
          "color": "#90AD1C",
          "pattern": {
           "shape": ""
          }
         },
         "name": "MRC_Endo8625699",
         "orientation": "v",
         "showlegend": true,
         "textposition": "auto",
         "type": "bar",
         "x": [
          "A13",
          "A30",
          "E1",
          "E2",
          "E3",
          "SAMN15049042",
          "SAMN15049043",
          "SAMN15049044",
          "SAMN15049045",
          "SAMN15049046",
          "SAMN15049047",
          "SAMN15049048",
          "SAMN15049049",
          "SAMN15049050",
          "SAMN15049051"
         ],
         "xaxis": "x",
         "y": {
          "bdata": "AAAAAEAJAAAAAAAAAAAAAAAAAAAAAAAAAAAAAAAA",
          "dtype": "i2"
         },
         "yaxis": "y"
        },
        {
         "hovertemplate": "SampleID=MRC_Endo8712024<br>DonorID=%{x}<br>cells=%{y}<extra></extra>",
         "legendgroup": "MRC_Endo8712024",
         "marker": {
          "color": "#F6222E",
          "pattern": {
           "shape": ""
          }
         },
         "name": "MRC_Endo8712024",
         "orientation": "v",
         "showlegend": true,
         "textposition": "auto",
         "type": "bar",
         "x": [
          "A13",
          "A30",
          "E1",
          "E2",
          "E3",
          "SAMN15049042",
          "SAMN15049043",
          "SAMN15049044",
          "SAMN15049045",
          "SAMN15049046",
          "SAMN15049047",
          "SAMN15049048",
          "SAMN15049049",
          "SAMN15049050",
          "SAMN15049051"
         ],
         "xaxis": "x",
         "y": {
          "bdata": "AAAAAAAAbwMAAAAAAAAAAAAAAAAAAAAAAAAAAAAA",
          "dtype": "i2"
         },
         "yaxis": "y"
        },
        {
         "hovertemplate": "SampleID=MRC_Endo8712032<br>DonorID=%{x}<br>cells=%{y}<extra></extra>",
         "legendgroup": "MRC_Endo8712032",
         "marker": {
          "color": "#1CFFCE",
          "pattern": {
           "shape": ""
          }
         },
         "name": "MRC_Endo8712032",
         "orientation": "v",
         "showlegend": true,
         "textposition": "auto",
         "type": "bar",
         "x": [
          "A13",
          "A30",
          "E1",
          "E2",
          "E3",
          "SAMN15049042",
          "SAMN15049043",
          "SAMN15049044",
          "SAMN15049045",
          "SAMN15049046",
          "SAMN15049047",
          "SAMN15049048",
          "SAMN15049049",
          "SAMN15049050",
          "SAMN15049051"
         ],
         "xaxis": "x",
         "y": {
          "bdata": "AAAAAAAAgAUAAAAAAAAAAAAAAAAAAAAAAAAAAAAA",
          "dtype": "i2"
         },
         "yaxis": "y"
        },
        {
         "hovertemplate": "SampleID=MRC_Endo8715415<br>DonorID=%{x}<br>cells=%{y}<extra></extra>",
         "legendgroup": "MRC_Endo8715415",
         "marker": {
          "color": "#2ED9FF",
          "pattern": {
           "shape": ""
          }
         },
         "name": "MRC_Endo8715415",
         "orientation": "v",
         "showlegend": true,
         "textposition": "auto",
         "type": "bar",
         "x": [
          "A13",
          "A30",
          "E1",
          "E2",
          "E3",
          "SAMN15049042",
          "SAMN15049043",
          "SAMN15049044",
          "SAMN15049045",
          "SAMN15049046",
          "SAMN15049047",
          "SAMN15049048",
          "SAMN15049049",
          "SAMN15049050",
          "SAMN15049051"
         ],
         "xaxis": "x",
         "y": {
          "bdata": "AAAAAAAAAABbAgAAAAAAAAAAAAAAAAAAAAAAAAAA",
          "dtype": "i2"
         },
         "yaxis": "y"
        },
        {
         "hovertemplate": "SampleID=MRC_Endo8715416<br>DonorID=%{x}<br>cells=%{y}<extra></extra>",
         "legendgroup": "MRC_Endo8715416",
         "marker": {
          "color": "#B10DA1",
          "pattern": {
           "shape": ""
          }
         },
         "name": "MRC_Endo8715416",
         "orientation": "v",
         "showlegend": true,
         "textposition": "auto",
         "type": "bar",
         "x": [
          "A13",
          "A30",
          "E1",
          "E2",
          "E3",
          "SAMN15049042",
          "SAMN15049043",
          "SAMN15049044",
          "SAMN15049045",
          "SAMN15049046",
          "SAMN15049047",
          "SAMN15049048",
          "SAMN15049049",
          "SAMN15049050",
          "SAMN15049051"
         ],
         "xaxis": "x",
         "y": {
          "bdata": "AAAAAAAAAABvCQAAAAAAAAAAAAAAAAAAAAAAAAAA",
          "dtype": "i2"
         },
         "yaxis": "y"
        }
       ],
       "layout": {
        "barmode": "relative",
        "font": {
         "size": 16
        },
        "height": 600,
        "legend": {
         "title": {
          "text": "SampleID"
         },
         "tracegroupgap": 0
        },
        "showlegend": false,
        "template": {
         "data": {
          "bar": [
           {
            "error_x": {
             "color": "#2a3f5f"
            },
            "error_y": {
             "color": "#2a3f5f"
            },
            "marker": {
             "line": {
              "color": "#E5ECF6",
              "width": 0.5
             },
             "pattern": {
              "fillmode": "overlay",
              "size": 10,
              "solidity": 0.2
             }
            },
            "type": "bar"
           }
          ],
          "barpolar": [
           {
            "marker": {
             "line": {
              "color": "#E5ECF6",
              "width": 0.5
             },
             "pattern": {
              "fillmode": "overlay",
              "size": 10,
              "solidity": 0.2
             }
            },
            "type": "barpolar"
           }
          ],
          "carpet": [
           {
            "aaxis": {
             "endlinecolor": "#2a3f5f",
             "gridcolor": "white",
             "linecolor": "white",
             "minorgridcolor": "white",
             "startlinecolor": "#2a3f5f"
            },
            "baxis": {
             "endlinecolor": "#2a3f5f",
             "gridcolor": "white",
             "linecolor": "white",
             "minorgridcolor": "white",
             "startlinecolor": "#2a3f5f"
            },
            "type": "carpet"
           }
          ],
          "choropleth": [
           {
            "colorbar": {
             "outlinewidth": 0,
             "ticks": ""
            },
            "type": "choropleth"
           }
          ],
          "contour": [
           {
            "colorbar": {
             "outlinewidth": 0,
             "ticks": ""
            },
            "colorscale": [
             [
              0,
              "#0d0887"
             ],
             [
              0.1111111111111111,
              "#46039f"
             ],
             [
              0.2222222222222222,
              "#7201a8"
             ],
             [
              0.3333333333333333,
              "#9c179e"
             ],
             [
              0.4444444444444444,
              "#bd3786"
             ],
             [
              0.5555555555555556,
              "#d8576b"
             ],
             [
              0.6666666666666666,
              "#ed7953"
             ],
             [
              0.7777777777777778,
              "#fb9f3a"
             ],
             [
              0.8888888888888888,
              "#fdca26"
             ],
             [
              1,
              "#f0f921"
             ]
            ],
            "type": "contour"
           }
          ],
          "contourcarpet": [
           {
            "colorbar": {
             "outlinewidth": 0,
             "ticks": ""
            },
            "type": "contourcarpet"
           }
          ],
          "heatmap": [
           {
            "colorbar": {
             "outlinewidth": 0,
             "ticks": ""
            },
            "colorscale": [
             [
              0,
              "#0d0887"
             ],
             [
              0.1111111111111111,
              "#46039f"
             ],
             [
              0.2222222222222222,
              "#7201a8"
             ],
             [
              0.3333333333333333,
              "#9c179e"
             ],
             [
              0.4444444444444444,
              "#bd3786"
             ],
             [
              0.5555555555555556,
              "#d8576b"
             ],
             [
              0.6666666666666666,
              "#ed7953"
             ],
             [
              0.7777777777777778,
              "#fb9f3a"
             ],
             [
              0.8888888888888888,
              "#fdca26"
             ],
             [
              1,
              "#f0f921"
             ]
            ],
            "type": "heatmap"
           }
          ],
          "histogram": [
           {
            "marker": {
             "pattern": {
              "fillmode": "overlay",
              "size": 10,
              "solidity": 0.2
             }
            },
            "type": "histogram"
           }
          ],
          "histogram2d": [
           {
            "colorbar": {
             "outlinewidth": 0,
             "ticks": ""
            },
            "colorscale": [
             [
              0,
              "#0d0887"
             ],
             [
              0.1111111111111111,
              "#46039f"
             ],
             [
              0.2222222222222222,
              "#7201a8"
             ],
             [
              0.3333333333333333,
              "#9c179e"
             ],
             [
              0.4444444444444444,
              "#bd3786"
             ],
             [
              0.5555555555555556,
              "#d8576b"
             ],
             [
              0.6666666666666666,
              "#ed7953"
             ],
             [
              0.7777777777777778,
              "#fb9f3a"
             ],
             [
              0.8888888888888888,
              "#fdca26"
             ],
             [
              1,
              "#f0f921"
             ]
            ],
            "type": "histogram2d"
           }
          ],
          "histogram2dcontour": [
           {
            "colorbar": {
             "outlinewidth": 0,
             "ticks": ""
            },
            "colorscale": [
             [
              0,
              "#0d0887"
             ],
             [
              0.1111111111111111,
              "#46039f"
             ],
             [
              0.2222222222222222,
              "#7201a8"
             ],
             [
              0.3333333333333333,
              "#9c179e"
             ],
             [
              0.4444444444444444,
              "#bd3786"
             ],
             [
              0.5555555555555556,
              "#d8576b"
             ],
             [
              0.6666666666666666,
              "#ed7953"
             ],
             [
              0.7777777777777778,
              "#fb9f3a"
             ],
             [
              0.8888888888888888,
              "#fdca26"
             ],
             [
              1,
              "#f0f921"
             ]
            ],
            "type": "histogram2dcontour"
           }
          ],
          "mesh3d": [
           {
            "colorbar": {
             "outlinewidth": 0,
             "ticks": ""
            },
            "type": "mesh3d"
           }
          ],
          "parcoords": [
           {
            "line": {
             "colorbar": {
              "outlinewidth": 0,
              "ticks": ""
             }
            },
            "type": "parcoords"
           }
          ],
          "pie": [
           {
            "automargin": true,
            "type": "pie"
           }
          ],
          "scatter": [
           {
            "fillpattern": {
             "fillmode": "overlay",
             "size": 10,
             "solidity": 0.2
            },
            "type": "scatter"
           }
          ],
          "scatter3d": [
           {
            "line": {
             "colorbar": {
              "outlinewidth": 0,
              "ticks": ""
             }
            },
            "marker": {
             "colorbar": {
              "outlinewidth": 0,
              "ticks": ""
             }
            },
            "type": "scatter3d"
           }
          ],
          "scattercarpet": [
           {
            "marker": {
             "colorbar": {
              "outlinewidth": 0,
              "ticks": ""
             }
            },
            "type": "scattercarpet"
           }
          ],
          "scattergeo": [
           {
            "marker": {
             "colorbar": {
              "outlinewidth": 0,
              "ticks": ""
             }
            },
            "type": "scattergeo"
           }
          ],
          "scattergl": [
           {
            "marker": {
             "colorbar": {
              "outlinewidth": 0,
              "ticks": ""
             }
            },
            "type": "scattergl"
           }
          ],
          "scattermap": [
           {
            "marker": {
             "colorbar": {
              "outlinewidth": 0,
              "ticks": ""
             }
            },
            "type": "scattermap"
           }
          ],
          "scattermapbox": [
           {
            "marker": {
             "colorbar": {
              "outlinewidth": 0,
              "ticks": ""
             }
            },
            "type": "scattermapbox"
           }
          ],
          "scatterpolar": [
           {
            "marker": {
             "colorbar": {
              "outlinewidth": 0,
              "ticks": ""
             }
            },
            "type": "scatterpolar"
           }
          ],
          "scatterpolargl": [
           {
            "marker": {
             "colorbar": {
              "outlinewidth": 0,
              "ticks": ""
             }
            },
            "type": "scatterpolargl"
           }
          ],
          "scatterternary": [
           {
            "marker": {
             "colorbar": {
              "outlinewidth": 0,
              "ticks": ""
             }
            },
            "type": "scatterternary"
           }
          ],
          "surface": [
           {
            "colorbar": {
             "outlinewidth": 0,
             "ticks": ""
            },
            "colorscale": [
             [
              0,
              "#0d0887"
             ],
             [
              0.1111111111111111,
              "#46039f"
             ],
             [
              0.2222222222222222,
              "#7201a8"
             ],
             [
              0.3333333333333333,
              "#9c179e"
             ],
             [
              0.4444444444444444,
              "#bd3786"
             ],
             [
              0.5555555555555556,
              "#d8576b"
             ],
             [
              0.6666666666666666,
              "#ed7953"
             ],
             [
              0.7777777777777778,
              "#fb9f3a"
             ],
             [
              0.8888888888888888,
              "#fdca26"
             ],
             [
              1,
              "#f0f921"
             ]
            ],
            "type": "surface"
           }
          ],
          "table": [
           {
            "cells": {
             "fill": {
              "color": "#EBF0F8"
             },
             "line": {
              "color": "white"
             }
            },
            "header": {
             "fill": {
              "color": "#C8D4E3"
             },
             "line": {
              "color": "white"
             }
            },
            "type": "table"
           }
          ]
         },
         "layout": {
          "annotationdefaults": {
           "arrowcolor": "#2a3f5f",
           "arrowhead": 0,
           "arrowwidth": 1
          },
          "autotypenumbers": "strict",
          "coloraxis": {
           "colorbar": {
            "outlinewidth": 0,
            "ticks": ""
           }
          },
          "colorscale": {
           "diverging": [
            [
             0,
             "#8e0152"
            ],
            [
             0.1,
             "#c51b7d"
            ],
            [
             0.2,
             "#de77ae"
            ],
            [
             0.3,
             "#f1b6da"
            ],
            [
             0.4,
             "#fde0ef"
            ],
            [
             0.5,
             "#f7f7f7"
            ],
            [
             0.6,
             "#e6f5d0"
            ],
            [
             0.7,
             "#b8e186"
            ],
            [
             0.8,
             "#7fbc41"
            ],
            [
             0.9,
             "#4d9221"
            ],
            [
             1,
             "#276419"
            ]
           ],
           "sequential": [
            [
             0,
             "#0d0887"
            ],
            [
             0.1111111111111111,
             "#46039f"
            ],
            [
             0.2222222222222222,
             "#7201a8"
            ],
            [
             0.3333333333333333,
             "#9c179e"
            ],
            [
             0.4444444444444444,
             "#bd3786"
            ],
            [
             0.5555555555555556,
             "#d8576b"
            ],
            [
             0.6666666666666666,
             "#ed7953"
            ],
            [
             0.7777777777777778,
             "#fb9f3a"
            ],
            [
             0.8888888888888888,
             "#fdca26"
            ],
            [
             1,
             "#f0f921"
            ]
           ],
           "sequentialminus": [
            [
             0,
             "#0d0887"
            ],
            [
             0.1111111111111111,
             "#46039f"
            ],
            [
             0.2222222222222222,
             "#7201a8"
            ],
            [
             0.3333333333333333,
             "#9c179e"
            ],
            [
             0.4444444444444444,
             "#bd3786"
            ],
            [
             0.5555555555555556,
             "#d8576b"
            ],
            [
             0.6666666666666666,
             "#ed7953"
            ],
            [
             0.7777777777777778,
             "#fb9f3a"
            ],
            [
             0.8888888888888888,
             "#fdca26"
            ],
            [
             1,
             "#f0f921"
            ]
           ]
          },
          "colorway": [
           "#636efa",
           "#EF553B",
           "#00cc96",
           "#ab63fa",
           "#FFA15A",
           "#19d3f3",
           "#FF6692",
           "#B6E880",
           "#FF97FF",
           "#FECB52"
          ],
          "font": {
           "color": "#2a3f5f"
          },
          "geo": {
           "bgcolor": "white",
           "lakecolor": "white",
           "landcolor": "#E5ECF6",
           "showlakes": true,
           "showland": true,
           "subunitcolor": "white"
          },
          "hoverlabel": {
           "align": "left"
          },
          "hovermode": "closest",
          "mapbox": {
           "style": "light"
          },
          "paper_bgcolor": "white",
          "plot_bgcolor": "#E5ECF6",
          "polar": {
           "angularaxis": {
            "gridcolor": "white",
            "linecolor": "white",
            "ticks": ""
           },
           "bgcolor": "#E5ECF6",
           "radialaxis": {
            "gridcolor": "white",
            "linecolor": "white",
            "ticks": ""
           }
          },
          "scene": {
           "xaxis": {
            "backgroundcolor": "#E5ECF6",
            "gridcolor": "white",
            "gridwidth": 2,
            "linecolor": "white",
            "showbackground": true,
            "ticks": "",
            "zerolinecolor": "white"
           },
           "yaxis": {
            "backgroundcolor": "#E5ECF6",
            "gridcolor": "white",
            "gridwidth": 2,
            "linecolor": "white",
            "showbackground": true,
            "ticks": "",
            "zerolinecolor": "white"
           },
           "zaxis": {
            "backgroundcolor": "#E5ECF6",
            "gridcolor": "white",
            "gridwidth": 2,
            "linecolor": "white",
            "showbackground": true,
            "ticks": "",
            "zerolinecolor": "white"
           }
          },
          "shapedefaults": {
           "line": {
            "color": "#2a3f5f"
           }
          },
          "ternary": {
           "aaxis": {
            "gridcolor": "white",
            "linecolor": "white",
            "ticks": ""
           },
           "baxis": {
            "gridcolor": "white",
            "linecolor": "white",
            "ticks": ""
           },
           "bgcolor": "#E5ECF6",
           "caxis": {
            "gridcolor": "white",
            "linecolor": "white",
            "ticks": ""
           }
          },
          "title": {
           "x": 0.05
          },
          "xaxis": {
           "automargin": true,
           "gridcolor": "white",
           "linecolor": "white",
           "ticks": "",
           "title": {
            "standoff": 15
           },
           "zerolinecolor": "white",
           "zerolinewidth": 2
          },
          "yaxis": {
           "automargin": true,
           "gridcolor": "white",
           "linecolor": "white",
           "ticks": "",
           "title": {
            "standoff": 15
           },
           "zerolinecolor": "white",
           "zerolinewidth": 2
          }
         }
        },
        "title": {
         "text": "Samples per donor"
        },
        "width": 600,
        "xaxis": {
         "anchor": "y",
         "domain": [
          0,
          1
         ],
         "title": {
          "text": "DonorID"
         }
        },
        "yaxis": {
         "anchor": "x",
         "domain": [
          0,
          1
         ],
         "title": {
          "text": "cells"
         }
        }
       }
      }
     },
     "metadata": {},
     "output_type": "display_data"
    }
   ],
   "source": [
    "si_di = data.obs.groupby(['SampleID', 'DonorID'], observed=False).size()\n",
    "si_di = si_di.reset_index(name='cells')\n",
    "\n",
    "plt = px.bar(si_di,\n",
    "             x='DonorID',\n",
    "             y='cells',\n",
    "             color = 'SampleID',\n",
    "             title='Samples per donor',\n",
    "             width=600,\n",
    "             height=600,\n",
    "             category_orders={'BiopsyType':['Superficial<br>Biopsy', 'Organ<br>Donor']},\n",
    "             labels={'BiopsyType':'Biopsy type'},\n",
    "             color_discrete_sequence=px.colors.qualitative.Alphabet)\n",
    "\n",
    "plt.update_layout(font={'size':16},\n",
    "                  showlegend=False)\n",
    "plt"
   ]
  },
  {
   "cell_type": "markdown",
   "id": "25f55797",
   "metadata": {},
   "source": [
    "## Donors"
   ]
  },
  {
   "cell_type": "code",
   "execution_count": 21,
   "id": "f73183b7",
   "metadata": {},
   "outputs": [
    {
     "data": {
      "text/plain": [
       "15"
      ]
     },
     "execution_count": 21,
     "metadata": {},
     "output_type": "execute_result"
    }
   ],
   "source": [
    "data.obs['DonorID'].nunique()"
   ]
  },
  {
   "cell_type": "code",
   "execution_count": 22,
   "id": "a6f6c124",
   "metadata": {},
   "outputs": [
    {
     "data": {
      "text/plain": [
       "DonorID\n",
       "SAMN15049048    20816\n",
       "A13             18423\n",
       "A30             17000\n",
       "SAMN15049047     7095\n",
       "SAMN15049049     6737\n",
       "E1               6678\n",
       "SAMN15049045     3384\n",
       "SAMN15049043     3069\n",
       "E3               3018\n",
       "SAMN15049044     3002\n",
       "SAMN15049046     2945\n",
       "E2               2287\n",
       "SAMN15049051     2025\n",
       "SAMN15049042     1958\n",
       "SAMN15049050     1870\n",
       "Name: count, dtype: int64"
      ]
     },
     "execution_count": 22,
     "metadata": {},
     "output_type": "execute_result"
    }
   ],
   "source": [
    "count('DonorID', data)"
   ]
  },
  {
   "cell_type": "markdown",
   "id": "02754248",
   "metadata": {},
   "source": [
    "## Biopsy type"
   ]
  },
  {
   "cell_type": "code",
   "execution_count": 23,
   "id": "38aa1932",
   "metadata": {},
   "outputs": [
    {
     "data": {
      "application/vnd.plotly.v1+json": {
       "config": {
        "plotlyServerURL": "https://plot.ly"
       },
       "data": [
        {
         "hovertemplate": "Biopsy type=%{x}<br>cells=%{y}<extra></extra>",
         "legendgroup": "Superficial<br>Biopsy",
         "marker": {
          "color": "#636efa",
          "pattern": {
           "shape": ""
          }
         },
         "name": "Superficial<br>Biopsy",
         "orientation": "v",
         "showlegend": true,
         "textposition": "auto",
         "type": "bar",
         "x": [
          "Superficial<br>Biopsy"
         ],
         "xaxis": "x",
         "y": {
          "bdata": "dP0AAA==",
          "dtype": "i4"
         },
         "yaxis": "y"
        },
        {
         "hovertemplate": "Biopsy type=%{x}<br>cells=%{y}<extra></extra>",
         "legendgroup": "Organ<br>Donor",
         "marker": {
          "color": "#EF553B",
          "pattern": {
           "shape": ""
          }
         },
         "name": "Organ<br>Donor",
         "orientation": "v",
         "showlegend": true,
         "textposition": "auto",
         "type": "bar",
         "x": [
          "Organ<br>Donor"
         ],
         "xaxis": "x",
         "y": {
          "bdata": "X4oAAA==",
          "dtype": "i4"
         },
         "yaxis": "y"
        }
       ],
       "layout": {
        "barmode": "relative",
        "font": {
         "size": 14
        },
        "height": 400,
        "legend": {
         "title": {
          "text": "Biopsy type"
         },
         "tracegroupgap": 0
        },
        "showlegend": false,
        "template": {
         "data": {
          "bar": [
           {
            "error_x": {
             "color": "#2a3f5f"
            },
            "error_y": {
             "color": "#2a3f5f"
            },
            "marker": {
             "line": {
              "color": "#E5ECF6",
              "width": 0.5
             },
             "pattern": {
              "fillmode": "overlay",
              "size": 10,
              "solidity": 0.2
             }
            },
            "type": "bar"
           }
          ],
          "barpolar": [
           {
            "marker": {
             "line": {
              "color": "#E5ECF6",
              "width": 0.5
             },
             "pattern": {
              "fillmode": "overlay",
              "size": 10,
              "solidity": 0.2
             }
            },
            "type": "barpolar"
           }
          ],
          "carpet": [
           {
            "aaxis": {
             "endlinecolor": "#2a3f5f",
             "gridcolor": "white",
             "linecolor": "white",
             "minorgridcolor": "white",
             "startlinecolor": "#2a3f5f"
            },
            "baxis": {
             "endlinecolor": "#2a3f5f",
             "gridcolor": "white",
             "linecolor": "white",
             "minorgridcolor": "white",
             "startlinecolor": "#2a3f5f"
            },
            "type": "carpet"
           }
          ],
          "choropleth": [
           {
            "colorbar": {
             "outlinewidth": 0,
             "ticks": ""
            },
            "type": "choropleth"
           }
          ],
          "contour": [
           {
            "colorbar": {
             "outlinewidth": 0,
             "ticks": ""
            },
            "colorscale": [
             [
              0,
              "#0d0887"
             ],
             [
              0.1111111111111111,
              "#46039f"
             ],
             [
              0.2222222222222222,
              "#7201a8"
             ],
             [
              0.3333333333333333,
              "#9c179e"
             ],
             [
              0.4444444444444444,
              "#bd3786"
             ],
             [
              0.5555555555555556,
              "#d8576b"
             ],
             [
              0.6666666666666666,
              "#ed7953"
             ],
             [
              0.7777777777777778,
              "#fb9f3a"
             ],
             [
              0.8888888888888888,
              "#fdca26"
             ],
             [
              1,
              "#f0f921"
             ]
            ],
            "type": "contour"
           }
          ],
          "contourcarpet": [
           {
            "colorbar": {
             "outlinewidth": 0,
             "ticks": ""
            },
            "type": "contourcarpet"
           }
          ],
          "heatmap": [
           {
            "colorbar": {
             "outlinewidth": 0,
             "ticks": ""
            },
            "colorscale": [
             [
              0,
              "#0d0887"
             ],
             [
              0.1111111111111111,
              "#46039f"
             ],
             [
              0.2222222222222222,
              "#7201a8"
             ],
             [
              0.3333333333333333,
              "#9c179e"
             ],
             [
              0.4444444444444444,
              "#bd3786"
             ],
             [
              0.5555555555555556,
              "#d8576b"
             ],
             [
              0.6666666666666666,
              "#ed7953"
             ],
             [
              0.7777777777777778,
              "#fb9f3a"
             ],
             [
              0.8888888888888888,
              "#fdca26"
             ],
             [
              1,
              "#f0f921"
             ]
            ],
            "type": "heatmap"
           }
          ],
          "histogram": [
           {
            "marker": {
             "pattern": {
              "fillmode": "overlay",
              "size": 10,
              "solidity": 0.2
             }
            },
            "type": "histogram"
           }
          ],
          "histogram2d": [
           {
            "colorbar": {
             "outlinewidth": 0,
             "ticks": ""
            },
            "colorscale": [
             [
              0,
              "#0d0887"
             ],
             [
              0.1111111111111111,
              "#46039f"
             ],
             [
              0.2222222222222222,
              "#7201a8"
             ],
             [
              0.3333333333333333,
              "#9c179e"
             ],
             [
              0.4444444444444444,
              "#bd3786"
             ],
             [
              0.5555555555555556,
              "#d8576b"
             ],
             [
              0.6666666666666666,
              "#ed7953"
             ],
             [
              0.7777777777777778,
              "#fb9f3a"
             ],
             [
              0.8888888888888888,
              "#fdca26"
             ],
             [
              1,
              "#f0f921"
             ]
            ],
            "type": "histogram2d"
           }
          ],
          "histogram2dcontour": [
           {
            "colorbar": {
             "outlinewidth": 0,
             "ticks": ""
            },
            "colorscale": [
             [
              0,
              "#0d0887"
             ],
             [
              0.1111111111111111,
              "#46039f"
             ],
             [
              0.2222222222222222,
              "#7201a8"
             ],
             [
              0.3333333333333333,
              "#9c179e"
             ],
             [
              0.4444444444444444,
              "#bd3786"
             ],
             [
              0.5555555555555556,
              "#d8576b"
             ],
             [
              0.6666666666666666,
              "#ed7953"
             ],
             [
              0.7777777777777778,
              "#fb9f3a"
             ],
             [
              0.8888888888888888,
              "#fdca26"
             ],
             [
              1,
              "#f0f921"
             ]
            ],
            "type": "histogram2dcontour"
           }
          ],
          "mesh3d": [
           {
            "colorbar": {
             "outlinewidth": 0,
             "ticks": ""
            },
            "type": "mesh3d"
           }
          ],
          "parcoords": [
           {
            "line": {
             "colorbar": {
              "outlinewidth": 0,
              "ticks": ""
             }
            },
            "type": "parcoords"
           }
          ],
          "pie": [
           {
            "automargin": true,
            "type": "pie"
           }
          ],
          "scatter": [
           {
            "fillpattern": {
             "fillmode": "overlay",
             "size": 10,
             "solidity": 0.2
            },
            "type": "scatter"
           }
          ],
          "scatter3d": [
           {
            "line": {
             "colorbar": {
              "outlinewidth": 0,
              "ticks": ""
             }
            },
            "marker": {
             "colorbar": {
              "outlinewidth": 0,
              "ticks": ""
             }
            },
            "type": "scatter3d"
           }
          ],
          "scattercarpet": [
           {
            "marker": {
             "colorbar": {
              "outlinewidth": 0,
              "ticks": ""
             }
            },
            "type": "scattercarpet"
           }
          ],
          "scattergeo": [
           {
            "marker": {
             "colorbar": {
              "outlinewidth": 0,
              "ticks": ""
             }
            },
            "type": "scattergeo"
           }
          ],
          "scattergl": [
           {
            "marker": {
             "colorbar": {
              "outlinewidth": 0,
              "ticks": ""
             }
            },
            "type": "scattergl"
           }
          ],
          "scattermap": [
           {
            "marker": {
             "colorbar": {
              "outlinewidth": 0,
              "ticks": ""
             }
            },
            "type": "scattermap"
           }
          ],
          "scattermapbox": [
           {
            "marker": {
             "colorbar": {
              "outlinewidth": 0,
              "ticks": ""
             }
            },
            "type": "scattermapbox"
           }
          ],
          "scatterpolar": [
           {
            "marker": {
             "colorbar": {
              "outlinewidth": 0,
              "ticks": ""
             }
            },
            "type": "scatterpolar"
           }
          ],
          "scatterpolargl": [
           {
            "marker": {
             "colorbar": {
              "outlinewidth": 0,
              "ticks": ""
             }
            },
            "type": "scatterpolargl"
           }
          ],
          "scatterternary": [
           {
            "marker": {
             "colorbar": {
              "outlinewidth": 0,
              "ticks": ""
             }
            },
            "type": "scatterternary"
           }
          ],
          "surface": [
           {
            "colorbar": {
             "outlinewidth": 0,
             "ticks": ""
            },
            "colorscale": [
             [
              0,
              "#0d0887"
             ],
             [
              0.1111111111111111,
              "#46039f"
             ],
             [
              0.2222222222222222,
              "#7201a8"
             ],
             [
              0.3333333333333333,
              "#9c179e"
             ],
             [
              0.4444444444444444,
              "#bd3786"
             ],
             [
              0.5555555555555556,
              "#d8576b"
             ],
             [
              0.6666666666666666,
              "#ed7953"
             ],
             [
              0.7777777777777778,
              "#fb9f3a"
             ],
             [
              0.8888888888888888,
              "#fdca26"
             ],
             [
              1,
              "#f0f921"
             ]
            ],
            "type": "surface"
           }
          ],
          "table": [
           {
            "cells": {
             "fill": {
              "color": "#EBF0F8"
             },
             "line": {
              "color": "white"
             }
            },
            "header": {
             "fill": {
              "color": "#C8D4E3"
             },
             "line": {
              "color": "white"
             }
            },
            "type": "table"
           }
          ]
         },
         "layout": {
          "annotationdefaults": {
           "arrowcolor": "#2a3f5f",
           "arrowhead": 0,
           "arrowwidth": 1
          },
          "autotypenumbers": "strict",
          "coloraxis": {
           "colorbar": {
            "outlinewidth": 0,
            "ticks": ""
           }
          },
          "colorscale": {
           "diverging": [
            [
             0,
             "#8e0152"
            ],
            [
             0.1,
             "#c51b7d"
            ],
            [
             0.2,
             "#de77ae"
            ],
            [
             0.3,
             "#f1b6da"
            ],
            [
             0.4,
             "#fde0ef"
            ],
            [
             0.5,
             "#f7f7f7"
            ],
            [
             0.6,
             "#e6f5d0"
            ],
            [
             0.7,
             "#b8e186"
            ],
            [
             0.8,
             "#7fbc41"
            ],
            [
             0.9,
             "#4d9221"
            ],
            [
             1,
             "#276419"
            ]
           ],
           "sequential": [
            [
             0,
             "#0d0887"
            ],
            [
             0.1111111111111111,
             "#46039f"
            ],
            [
             0.2222222222222222,
             "#7201a8"
            ],
            [
             0.3333333333333333,
             "#9c179e"
            ],
            [
             0.4444444444444444,
             "#bd3786"
            ],
            [
             0.5555555555555556,
             "#d8576b"
            ],
            [
             0.6666666666666666,
             "#ed7953"
            ],
            [
             0.7777777777777778,
             "#fb9f3a"
            ],
            [
             0.8888888888888888,
             "#fdca26"
            ],
            [
             1,
             "#f0f921"
            ]
           ],
           "sequentialminus": [
            [
             0,
             "#0d0887"
            ],
            [
             0.1111111111111111,
             "#46039f"
            ],
            [
             0.2222222222222222,
             "#7201a8"
            ],
            [
             0.3333333333333333,
             "#9c179e"
            ],
            [
             0.4444444444444444,
             "#bd3786"
            ],
            [
             0.5555555555555556,
             "#d8576b"
            ],
            [
             0.6666666666666666,
             "#ed7953"
            ],
            [
             0.7777777777777778,
             "#fb9f3a"
            ],
            [
             0.8888888888888888,
             "#fdca26"
            ],
            [
             1,
             "#f0f921"
            ]
           ]
          },
          "colorway": [
           "#636efa",
           "#EF553B",
           "#00cc96",
           "#ab63fa",
           "#FFA15A",
           "#19d3f3",
           "#FF6692",
           "#B6E880",
           "#FF97FF",
           "#FECB52"
          ],
          "font": {
           "color": "#2a3f5f"
          },
          "geo": {
           "bgcolor": "white",
           "lakecolor": "white",
           "landcolor": "#E5ECF6",
           "showlakes": true,
           "showland": true,
           "subunitcolor": "white"
          },
          "hoverlabel": {
           "align": "left"
          },
          "hovermode": "closest",
          "mapbox": {
           "style": "light"
          },
          "paper_bgcolor": "white",
          "plot_bgcolor": "#E5ECF6",
          "polar": {
           "angularaxis": {
            "gridcolor": "white",
            "linecolor": "white",
            "ticks": ""
           },
           "bgcolor": "#E5ECF6",
           "radialaxis": {
            "gridcolor": "white",
            "linecolor": "white",
            "ticks": ""
           }
          },
          "scene": {
           "xaxis": {
            "backgroundcolor": "#E5ECF6",
            "gridcolor": "white",
            "gridwidth": 2,
            "linecolor": "white",
            "showbackground": true,
            "ticks": "",
            "zerolinecolor": "white"
           },
           "yaxis": {
            "backgroundcolor": "#E5ECF6",
            "gridcolor": "white",
            "gridwidth": 2,
            "linecolor": "white",
            "showbackground": true,
            "ticks": "",
            "zerolinecolor": "white"
           },
           "zaxis": {
            "backgroundcolor": "#E5ECF6",
            "gridcolor": "white",
            "gridwidth": 2,
            "linecolor": "white",
            "showbackground": true,
            "ticks": "",
            "zerolinecolor": "white"
           }
          },
          "shapedefaults": {
           "line": {
            "color": "#2a3f5f"
           }
          },
          "ternary": {
           "aaxis": {
            "gridcolor": "white",
            "linecolor": "white",
            "ticks": ""
           },
           "baxis": {
            "gridcolor": "white",
            "linecolor": "white",
            "ticks": ""
           },
           "bgcolor": "#E5ECF6",
           "caxis": {
            "gridcolor": "white",
            "linecolor": "white",
            "ticks": ""
           }
          },
          "title": {
           "x": 0.05
          },
          "xaxis": {
           "automargin": true,
           "gridcolor": "white",
           "linecolor": "white",
           "ticks": "",
           "title": {
            "standoff": 15
           },
           "zerolinecolor": "white",
           "zerolinewidth": 2
          },
          "yaxis": {
           "automargin": true,
           "gridcolor": "white",
           "linecolor": "white",
           "ticks": "",
           "title": {
            "standoff": 15
           },
           "zerolinecolor": "white",
           "zerolinewidth": 2
          }
         }
        },
        "title": {
         "text": "Number of cells by biopsy type"
        },
        "width": 400,
        "xaxis": {
         "anchor": "y",
         "categoryarray": [
          "Superficial<br>Biopsy",
          "Organ<br>Donor"
         ],
         "categoryorder": "array",
         "domain": [
          0,
          1
         ],
         "title": {
          "text": "Biopsy type"
         }
        },
        "yaxis": {
         "anchor": "x",
         "domain": [
          0,
          1
         ],
         "title": {
          "text": "cells"
         }
        }
       }
      }
     },
     "metadata": {},
     "output_type": "display_data"
    }
   ],
   "source": [
    "biopsy_type = count('BiopsyType', data)\n",
    "\n",
    "bt_plt = px.bar(biopsy_type,\n",
    "                color=biopsy_type.index,\n",
    "                title='Number of cells by biopsy type',\n",
    "                width=400,\n",
    "                height=400,\n",
    "                labels={'BiopsyType':'Biopsy type',\n",
    "                        'value':'cells'})\n",
    "\n",
    "bt_plt.update_layout(showlegend=False,\n",
    "                     font={'size':14})\n",
    "bt_plt"
   ]
  },
  {
   "cell_type": "markdown",
   "id": "f9e7dbfc",
   "metadata": {},
   "source": [
    "## Biopsy type and Donor ID"
   ]
  },
  {
   "cell_type": "code",
   "execution_count": 40,
   "id": "20e1f7ba",
   "metadata": {},
   "outputs": [
    {
     "data": {
      "application/vnd.plotly.v1+json": {
       "config": {
        "plotlyServerURL": "https://plot.ly"
       },
       "data": [
        {
         "hovertemplate": "DonorID=A13<br>Biopsy type=%{x}<br>cells=%{y}<extra></extra>",
         "legendgroup": "A13",
         "marker": {
          "color": "#565656",
          "pattern": {
           "shape": ""
          }
         },
         "name": "A13",
         "orientation": "v",
         "showlegend": true,
         "textposition": "auto",
         "type": "bar",
         "x": [
          "Organ<br>Donor",
          "Superficial<br>Biopsy"
         ],
         "xaxis": "x",
         "y": {
          "bdata": "90cAAA==",
          "dtype": "i2"
         },
         "yaxis": "y"
        },
        {
         "hovertemplate": "DonorID=A30<br>Biopsy type=%{x}<br>cells=%{y}<extra></extra>",
         "legendgroup": "A30",
         "marker": {
          "color": "#1C8356",
          "pattern": {
           "shape": ""
          }
         },
         "name": "A30",
         "orientation": "v",
         "showlegend": true,
         "textposition": "auto",
         "type": "bar",
         "x": [
          "Organ<br>Donor",
          "Superficial<br>Biopsy"
         ],
         "xaxis": "x",
         "y": {
          "bdata": "aEIAAA==",
          "dtype": "i2"
         },
         "yaxis": "y"
        },
        {
         "hovertemplate": "DonorID=E1<br>Biopsy type=%{x}<br>cells=%{y}<extra></extra>",
         "legendgroup": "E1",
         "marker": {
          "color": "#16FF32",
          "pattern": {
           "shape": ""
          }
         },
         "name": "E1",
         "orientation": "v",
         "showlegend": true,
         "textposition": "auto",
         "type": "bar",
         "x": [
          "Organ<br>Donor",
          "Superficial<br>Biopsy"
         ],
         "xaxis": "x",
         "y": {
          "bdata": "AAAWGg==",
          "dtype": "i2"
         },
         "yaxis": "y"
        },
        {
         "hovertemplate": "DonorID=E2<br>Biopsy type=%{x}<br>cells=%{y}<extra></extra>",
         "legendgroup": "E2",
         "marker": {
          "color": "#F7E1A0",
          "pattern": {
           "shape": ""
          }
         },
         "name": "E2",
         "orientation": "v",
         "showlegend": true,
         "textposition": "auto",
         "type": "bar",
         "x": [
          "Organ<br>Donor",
          "Superficial<br>Biopsy"
         ],
         "xaxis": "x",
         "y": {
          "bdata": "AADvCA==",
          "dtype": "i2"
         },
         "yaxis": "y"
        },
        {
         "hovertemplate": "DonorID=E3<br>Biopsy type=%{x}<br>cells=%{y}<extra></extra>",
         "legendgroup": "E3",
         "marker": {
          "color": "#E2E2E2",
          "pattern": {
           "shape": ""
          }
         },
         "name": "E3",
         "orientation": "v",
         "showlegend": true,
         "textposition": "auto",
         "type": "bar",
         "x": [
          "Organ<br>Donor",
          "Superficial<br>Biopsy"
         ],
         "xaxis": "x",
         "y": {
          "bdata": "AADKCw==",
          "dtype": "i2"
         },
         "yaxis": "y"
        },
        {
         "hovertemplate": "DonorID=SAMN15049042<br>Biopsy type=%{x}<br>cells=%{y}<extra></extra>",
         "legendgroup": "SAMN15049042",
         "marker": {
          "color": "#1CBE4F",
          "pattern": {
           "shape": ""
          }
         },
         "name": "SAMN15049042",
         "orientation": "v",
         "showlegend": true,
         "textposition": "auto",
         "type": "bar",
         "x": [
          "Organ<br>Donor",
          "Superficial<br>Biopsy"
         ],
         "xaxis": "x",
         "y": {
          "bdata": "AACmBw==",
          "dtype": "i2"
         },
         "yaxis": "y"
        },
        {
         "hovertemplate": "DonorID=SAMN15049043<br>Biopsy type=%{x}<br>cells=%{y}<extra></extra>",
         "legendgroup": "SAMN15049043",
         "marker": {
          "color": "#C4451C",
          "pattern": {
           "shape": ""
          }
         },
         "name": "SAMN15049043",
         "orientation": "v",
         "showlegend": true,
         "textposition": "auto",
         "type": "bar",
         "x": [
          "Organ<br>Donor",
          "Superficial<br>Biopsy"
         ],
         "xaxis": "x",
         "y": {
          "bdata": "AAD9Cw==",
          "dtype": "i2"
         },
         "yaxis": "y"
        },
        {
         "hovertemplate": "DonorID=SAMN15049044<br>Biopsy type=%{x}<br>cells=%{y}<extra></extra>",
         "legendgroup": "SAMN15049044",
         "marker": {
          "color": "#DEA0FD",
          "pattern": {
           "shape": ""
          }
         },
         "name": "SAMN15049044",
         "orientation": "v",
         "showlegend": true,
         "textposition": "auto",
         "type": "bar",
         "x": [
          "Organ<br>Donor",
          "Superficial<br>Biopsy"
         ],
         "xaxis": "x",
         "y": {
          "bdata": "AAC6Cw==",
          "dtype": "i2"
         },
         "yaxis": "y"
        },
        {
         "hovertemplate": "DonorID=SAMN15049045<br>Biopsy type=%{x}<br>cells=%{y}<extra></extra>",
         "legendgroup": "SAMN15049045",
         "marker": {
          "color": "#FE00FA",
          "pattern": {
           "shape": ""
          }
         },
         "name": "SAMN15049045",
         "orientation": "v",
         "showlegend": true,
         "textposition": "auto",
         "type": "bar",
         "x": [
          "Organ<br>Donor",
          "Superficial<br>Biopsy"
         ],
         "xaxis": "x",
         "y": {
          "bdata": "AAA4DQ==",
          "dtype": "i2"
         },
         "yaxis": "y"
        },
        {
         "hovertemplate": "DonorID=SAMN15049046<br>Biopsy type=%{x}<br>cells=%{y}<extra></extra>",
         "legendgroup": "SAMN15049046",
         "marker": {
          "color": "#325A9B",
          "pattern": {
           "shape": ""
          }
         },
         "name": "SAMN15049046",
         "orientation": "v",
         "showlegend": true,
         "textposition": "auto",
         "type": "bar",
         "x": [
          "Organ<br>Donor",
          "Superficial<br>Biopsy"
         ],
         "xaxis": "x",
         "y": {
          "bdata": "AACBCw==",
          "dtype": "i2"
         },
         "yaxis": "y"
        },
        {
         "hovertemplate": "DonorID=SAMN15049047<br>Biopsy type=%{x}<br>cells=%{y}<extra></extra>",
         "legendgroup": "SAMN15049047",
         "marker": {
          "color": "#FEAF16",
          "pattern": {
           "shape": ""
          }
         },
         "name": "SAMN15049047",
         "orientation": "v",
         "showlegend": true,
         "textposition": "auto",
         "type": "bar",
         "x": [
          "Organ<br>Donor",
          "Superficial<br>Biopsy"
         ],
         "xaxis": "x",
         "y": {
          "bdata": "AAC3Gw==",
          "dtype": "i2"
         },
         "yaxis": "y"
        },
        {
         "hovertemplate": "DonorID=SAMN15049048<br>Biopsy type=%{x}<br>cells=%{y}<extra></extra>",
         "legendgroup": "SAMN15049048",
         "marker": {
          "color": "#F8A19F",
          "pattern": {
           "shape": ""
          }
         },
         "name": "SAMN15049048",
         "orientation": "v",
         "showlegend": true,
         "textposition": "auto",
         "type": "bar",
         "x": [
          "Organ<br>Donor",
          "Superficial<br>Biopsy"
         ],
         "xaxis": "x",
         "y": {
          "bdata": "AABQUQ==",
          "dtype": "i2"
         },
         "yaxis": "y"
        },
        {
         "hovertemplate": "DonorID=SAMN15049049<br>Biopsy type=%{x}<br>cells=%{y}<extra></extra>",
         "legendgroup": "SAMN15049049",
         "marker": {
          "color": "#90AD1C",
          "pattern": {
           "shape": ""
          }
         },
         "name": "SAMN15049049",
         "orientation": "v",
         "showlegend": true,
         "textposition": "auto",
         "type": "bar",
         "x": [
          "Organ<br>Donor",
          "Superficial<br>Biopsy"
         ],
         "xaxis": "x",
         "y": {
          "bdata": "AABRGg==",
          "dtype": "i2"
         },
         "yaxis": "y"
        },
        {
         "hovertemplate": "DonorID=SAMN15049050<br>Biopsy type=%{x}<br>cells=%{y}<extra></extra>",
         "legendgroup": "SAMN15049050",
         "marker": {
          "color": "#F6222E",
          "pattern": {
           "shape": ""
          }
         },
         "name": "SAMN15049050",
         "orientation": "v",
         "showlegend": true,
         "textposition": "auto",
         "type": "bar",
         "x": [
          "Organ<br>Donor",
          "Superficial<br>Biopsy"
         ],
         "xaxis": "x",
         "y": {
          "bdata": "AABOBw==",
          "dtype": "i2"
         },
         "yaxis": "y"
        },
        {
         "hovertemplate": "DonorID=SAMN15049051<br>Biopsy type=%{x}<br>cells=%{y}<extra></extra>",
         "legendgroup": "SAMN15049051",
         "marker": {
          "color": "#1CFFCE",
          "pattern": {
           "shape": ""
          }
         },
         "name": "SAMN15049051",
         "orientation": "v",
         "showlegend": true,
         "textposition": "auto",
         "type": "bar",
         "x": [
          "Organ<br>Donor",
          "Superficial<br>Biopsy"
         ],
         "xaxis": "x",
         "y": {
          "bdata": "AADpBw==",
          "dtype": "i2"
         },
         "yaxis": "y"
        }
       ],
       "layout": {
        "barmode": "relative",
        "font": {
         "size": 16
        },
        "height": 600,
        "legend": {
         "title": {
          "text": "DonorID"
         },
         "tracegroupgap": 0
        },
        "showlegend": false,
        "template": {
         "data": {
          "bar": [
           {
            "error_x": {
             "color": "#2a3f5f"
            },
            "error_y": {
             "color": "#2a3f5f"
            },
            "marker": {
             "line": {
              "color": "#E5ECF6",
              "width": 0.5
             },
             "pattern": {
              "fillmode": "overlay",
              "size": 10,
              "solidity": 0.2
             }
            },
            "type": "bar"
           }
          ],
          "barpolar": [
           {
            "marker": {
             "line": {
              "color": "#E5ECF6",
              "width": 0.5
             },
             "pattern": {
              "fillmode": "overlay",
              "size": 10,
              "solidity": 0.2
             }
            },
            "type": "barpolar"
           }
          ],
          "carpet": [
           {
            "aaxis": {
             "endlinecolor": "#2a3f5f",
             "gridcolor": "white",
             "linecolor": "white",
             "minorgridcolor": "white",
             "startlinecolor": "#2a3f5f"
            },
            "baxis": {
             "endlinecolor": "#2a3f5f",
             "gridcolor": "white",
             "linecolor": "white",
             "minorgridcolor": "white",
             "startlinecolor": "#2a3f5f"
            },
            "type": "carpet"
           }
          ],
          "choropleth": [
           {
            "colorbar": {
             "outlinewidth": 0,
             "ticks": ""
            },
            "type": "choropleth"
           }
          ],
          "contour": [
           {
            "colorbar": {
             "outlinewidth": 0,
             "ticks": ""
            },
            "colorscale": [
             [
              0,
              "#0d0887"
             ],
             [
              0.1111111111111111,
              "#46039f"
             ],
             [
              0.2222222222222222,
              "#7201a8"
             ],
             [
              0.3333333333333333,
              "#9c179e"
             ],
             [
              0.4444444444444444,
              "#bd3786"
             ],
             [
              0.5555555555555556,
              "#d8576b"
             ],
             [
              0.6666666666666666,
              "#ed7953"
             ],
             [
              0.7777777777777778,
              "#fb9f3a"
             ],
             [
              0.8888888888888888,
              "#fdca26"
             ],
             [
              1,
              "#f0f921"
             ]
            ],
            "type": "contour"
           }
          ],
          "contourcarpet": [
           {
            "colorbar": {
             "outlinewidth": 0,
             "ticks": ""
            },
            "type": "contourcarpet"
           }
          ],
          "heatmap": [
           {
            "colorbar": {
             "outlinewidth": 0,
             "ticks": ""
            },
            "colorscale": [
             [
              0,
              "#0d0887"
             ],
             [
              0.1111111111111111,
              "#46039f"
             ],
             [
              0.2222222222222222,
              "#7201a8"
             ],
             [
              0.3333333333333333,
              "#9c179e"
             ],
             [
              0.4444444444444444,
              "#bd3786"
             ],
             [
              0.5555555555555556,
              "#d8576b"
             ],
             [
              0.6666666666666666,
              "#ed7953"
             ],
             [
              0.7777777777777778,
              "#fb9f3a"
             ],
             [
              0.8888888888888888,
              "#fdca26"
             ],
             [
              1,
              "#f0f921"
             ]
            ],
            "type": "heatmap"
           }
          ],
          "histogram": [
           {
            "marker": {
             "pattern": {
              "fillmode": "overlay",
              "size": 10,
              "solidity": 0.2
             }
            },
            "type": "histogram"
           }
          ],
          "histogram2d": [
           {
            "colorbar": {
             "outlinewidth": 0,
             "ticks": ""
            },
            "colorscale": [
             [
              0,
              "#0d0887"
             ],
             [
              0.1111111111111111,
              "#46039f"
             ],
             [
              0.2222222222222222,
              "#7201a8"
             ],
             [
              0.3333333333333333,
              "#9c179e"
             ],
             [
              0.4444444444444444,
              "#bd3786"
             ],
             [
              0.5555555555555556,
              "#d8576b"
             ],
             [
              0.6666666666666666,
              "#ed7953"
             ],
             [
              0.7777777777777778,
              "#fb9f3a"
             ],
             [
              0.8888888888888888,
              "#fdca26"
             ],
             [
              1,
              "#f0f921"
             ]
            ],
            "type": "histogram2d"
           }
          ],
          "histogram2dcontour": [
           {
            "colorbar": {
             "outlinewidth": 0,
             "ticks": ""
            },
            "colorscale": [
             [
              0,
              "#0d0887"
             ],
             [
              0.1111111111111111,
              "#46039f"
             ],
             [
              0.2222222222222222,
              "#7201a8"
             ],
             [
              0.3333333333333333,
              "#9c179e"
             ],
             [
              0.4444444444444444,
              "#bd3786"
             ],
             [
              0.5555555555555556,
              "#d8576b"
             ],
             [
              0.6666666666666666,
              "#ed7953"
             ],
             [
              0.7777777777777778,
              "#fb9f3a"
             ],
             [
              0.8888888888888888,
              "#fdca26"
             ],
             [
              1,
              "#f0f921"
             ]
            ],
            "type": "histogram2dcontour"
           }
          ],
          "mesh3d": [
           {
            "colorbar": {
             "outlinewidth": 0,
             "ticks": ""
            },
            "type": "mesh3d"
           }
          ],
          "parcoords": [
           {
            "line": {
             "colorbar": {
              "outlinewidth": 0,
              "ticks": ""
             }
            },
            "type": "parcoords"
           }
          ],
          "pie": [
           {
            "automargin": true,
            "type": "pie"
           }
          ],
          "scatter": [
           {
            "fillpattern": {
             "fillmode": "overlay",
             "size": 10,
             "solidity": 0.2
            },
            "type": "scatter"
           }
          ],
          "scatter3d": [
           {
            "line": {
             "colorbar": {
              "outlinewidth": 0,
              "ticks": ""
             }
            },
            "marker": {
             "colorbar": {
              "outlinewidth": 0,
              "ticks": ""
             }
            },
            "type": "scatter3d"
           }
          ],
          "scattercarpet": [
           {
            "marker": {
             "colorbar": {
              "outlinewidth": 0,
              "ticks": ""
             }
            },
            "type": "scattercarpet"
           }
          ],
          "scattergeo": [
           {
            "marker": {
             "colorbar": {
              "outlinewidth": 0,
              "ticks": ""
             }
            },
            "type": "scattergeo"
           }
          ],
          "scattergl": [
           {
            "marker": {
             "colorbar": {
              "outlinewidth": 0,
              "ticks": ""
             }
            },
            "type": "scattergl"
           }
          ],
          "scattermap": [
           {
            "marker": {
             "colorbar": {
              "outlinewidth": 0,
              "ticks": ""
             }
            },
            "type": "scattermap"
           }
          ],
          "scattermapbox": [
           {
            "marker": {
             "colorbar": {
              "outlinewidth": 0,
              "ticks": ""
             }
            },
            "type": "scattermapbox"
           }
          ],
          "scatterpolar": [
           {
            "marker": {
             "colorbar": {
              "outlinewidth": 0,
              "ticks": ""
             }
            },
            "type": "scatterpolar"
           }
          ],
          "scatterpolargl": [
           {
            "marker": {
             "colorbar": {
              "outlinewidth": 0,
              "ticks": ""
             }
            },
            "type": "scatterpolargl"
           }
          ],
          "scatterternary": [
           {
            "marker": {
             "colorbar": {
              "outlinewidth": 0,
              "ticks": ""
             }
            },
            "type": "scatterternary"
           }
          ],
          "surface": [
           {
            "colorbar": {
             "outlinewidth": 0,
             "ticks": ""
            },
            "colorscale": [
             [
              0,
              "#0d0887"
             ],
             [
              0.1111111111111111,
              "#46039f"
             ],
             [
              0.2222222222222222,
              "#7201a8"
             ],
             [
              0.3333333333333333,
              "#9c179e"
             ],
             [
              0.4444444444444444,
              "#bd3786"
             ],
             [
              0.5555555555555556,
              "#d8576b"
             ],
             [
              0.6666666666666666,
              "#ed7953"
             ],
             [
              0.7777777777777778,
              "#fb9f3a"
             ],
             [
              0.8888888888888888,
              "#fdca26"
             ],
             [
              1,
              "#f0f921"
             ]
            ],
            "type": "surface"
           }
          ],
          "table": [
           {
            "cells": {
             "fill": {
              "color": "#EBF0F8"
             },
             "line": {
              "color": "white"
             }
            },
            "header": {
             "fill": {
              "color": "#C8D4E3"
             },
             "line": {
              "color": "white"
             }
            },
            "type": "table"
           }
          ]
         },
         "layout": {
          "annotationdefaults": {
           "arrowcolor": "#2a3f5f",
           "arrowhead": 0,
           "arrowwidth": 1
          },
          "autotypenumbers": "strict",
          "coloraxis": {
           "colorbar": {
            "outlinewidth": 0,
            "ticks": ""
           }
          },
          "colorscale": {
           "diverging": [
            [
             0,
             "#8e0152"
            ],
            [
             0.1,
             "#c51b7d"
            ],
            [
             0.2,
             "#de77ae"
            ],
            [
             0.3,
             "#f1b6da"
            ],
            [
             0.4,
             "#fde0ef"
            ],
            [
             0.5,
             "#f7f7f7"
            ],
            [
             0.6,
             "#e6f5d0"
            ],
            [
             0.7,
             "#b8e186"
            ],
            [
             0.8,
             "#7fbc41"
            ],
            [
             0.9,
             "#4d9221"
            ],
            [
             1,
             "#276419"
            ]
           ],
           "sequential": [
            [
             0,
             "#0d0887"
            ],
            [
             0.1111111111111111,
             "#46039f"
            ],
            [
             0.2222222222222222,
             "#7201a8"
            ],
            [
             0.3333333333333333,
             "#9c179e"
            ],
            [
             0.4444444444444444,
             "#bd3786"
            ],
            [
             0.5555555555555556,
             "#d8576b"
            ],
            [
             0.6666666666666666,
             "#ed7953"
            ],
            [
             0.7777777777777778,
             "#fb9f3a"
            ],
            [
             0.8888888888888888,
             "#fdca26"
            ],
            [
             1,
             "#f0f921"
            ]
           ],
           "sequentialminus": [
            [
             0,
             "#0d0887"
            ],
            [
             0.1111111111111111,
             "#46039f"
            ],
            [
             0.2222222222222222,
             "#7201a8"
            ],
            [
             0.3333333333333333,
             "#9c179e"
            ],
            [
             0.4444444444444444,
             "#bd3786"
            ],
            [
             0.5555555555555556,
             "#d8576b"
            ],
            [
             0.6666666666666666,
             "#ed7953"
            ],
            [
             0.7777777777777778,
             "#fb9f3a"
            ],
            [
             0.8888888888888888,
             "#fdca26"
            ],
            [
             1,
             "#f0f921"
            ]
           ]
          },
          "colorway": [
           "#636efa",
           "#EF553B",
           "#00cc96",
           "#ab63fa",
           "#FFA15A",
           "#19d3f3",
           "#FF6692",
           "#B6E880",
           "#FF97FF",
           "#FECB52"
          ],
          "font": {
           "color": "#2a3f5f"
          },
          "geo": {
           "bgcolor": "white",
           "lakecolor": "white",
           "landcolor": "#E5ECF6",
           "showlakes": true,
           "showland": true,
           "subunitcolor": "white"
          },
          "hoverlabel": {
           "align": "left"
          },
          "hovermode": "closest",
          "mapbox": {
           "style": "light"
          },
          "paper_bgcolor": "white",
          "plot_bgcolor": "#E5ECF6",
          "polar": {
           "angularaxis": {
            "gridcolor": "white",
            "linecolor": "white",
            "ticks": ""
           },
           "bgcolor": "#E5ECF6",
           "radialaxis": {
            "gridcolor": "white",
            "linecolor": "white",
            "ticks": ""
           }
          },
          "scene": {
           "xaxis": {
            "backgroundcolor": "#E5ECF6",
            "gridcolor": "white",
            "gridwidth": 2,
            "linecolor": "white",
            "showbackground": true,
            "ticks": "",
            "zerolinecolor": "white"
           },
           "yaxis": {
            "backgroundcolor": "#E5ECF6",
            "gridcolor": "white",
            "gridwidth": 2,
            "linecolor": "white",
            "showbackground": true,
            "ticks": "",
            "zerolinecolor": "white"
           },
           "zaxis": {
            "backgroundcolor": "#E5ECF6",
            "gridcolor": "white",
            "gridwidth": 2,
            "linecolor": "white",
            "showbackground": true,
            "ticks": "",
            "zerolinecolor": "white"
           }
          },
          "shapedefaults": {
           "line": {
            "color": "#2a3f5f"
           }
          },
          "ternary": {
           "aaxis": {
            "gridcolor": "white",
            "linecolor": "white",
            "ticks": ""
           },
           "baxis": {
            "gridcolor": "white",
            "linecolor": "white",
            "ticks": ""
           },
           "bgcolor": "#E5ECF6",
           "caxis": {
            "gridcolor": "white",
            "linecolor": "white",
            "ticks": ""
           }
          },
          "title": {
           "x": 0.05
          },
          "xaxis": {
           "automargin": true,
           "gridcolor": "white",
           "linecolor": "white",
           "ticks": "",
           "title": {
            "standoff": 15
           },
           "zerolinecolor": "white",
           "zerolinewidth": 2
          },
          "yaxis": {
           "automargin": true,
           "gridcolor": "white",
           "linecolor": "white",
           "ticks": "",
           "title": {
            "standoff": 15
           },
           "zerolinecolor": "white",
           "zerolinewidth": 2
          }
         }
        },
        "title": {
         "text": "Donors per biopsy type"
        },
        "width": 400,
        "xaxis": {
         "anchor": "y",
         "categoryarray": [
          "Superficial<br>Biopsy",
          "Organ<br>Donor"
         ],
         "categoryorder": "array",
         "domain": [
          0,
          1
         ],
         "title": {
          "text": "Biopsy type"
         }
        },
        "yaxis": {
         "anchor": "x",
         "domain": [
          0,
          1
         ],
         "title": {
          "text": "cells"
         }
        }
       }
      }
     },
     "metadata": {},
     "output_type": "display_data"
    }
   ],
   "source": [
    "bt_dr = data.obs.groupby(['BiopsyType', 'DonorID'], observed=False).size()\n",
    "bt_dr = bt_dr.reset_index(name='cells')\n",
    "bt_dr['BiopsyType'] = replace_underscores(bt_dr['BiopsyType'])\n",
    "\n",
    "plt = px.bar(bt_dr,\n",
    "             x='BiopsyType',\n",
    "             y='cells',\n",
    "             color = 'DonorID',\n",
    "             title='Donors per biopsy type',\n",
    "             width=400,\n",
    "             height=600,\n",
    "             category_orders={'BiopsyType':['Superficial<br>Biopsy', 'Organ<br>Donor']},\n",
    "             labels={'BiopsyType':'Biopsy type'},\n",
    "             color_discrete_sequence=px.colors.qualitative.Alphabet[4:])\n",
    "\n",
    "plt.update_layout(font={'size':16},\n",
    "                  showlegend=False)\n",
    "plt"
   ]
  },
  {
   "cell_type": "markdown",
   "id": "ad7acc13",
   "metadata": {},
   "source": [
    "## Location"
   ]
  },
  {
   "cell_type": "code",
   "execution_count": 25,
   "id": "d5541f61",
   "metadata": {},
   "outputs": [
    {
     "data": {
      "text/plain": [
       "Location\n",
       "endometrium<br>biopsy      64884\n",
       "endometrium<br>enriched    29079\n",
       "myometrium                  6344\n",
       "Name: count, dtype: int64"
      ]
     },
     "execution_count": 25,
     "metadata": {},
     "output_type": "execute_result"
    }
   ],
   "source": [
    "count('Location', data)"
   ]
  },
  {
   "cell_type": "markdown",
   "id": "5448f32c",
   "metadata": {},
   "source": [
    "## Binary stage"
   ]
  },
  {
   "cell_type": "code",
   "execution_count": 26,
   "id": "8abe34a8",
   "metadata": {},
   "outputs": [
    {
     "data": {
      "text/plain": [
       "Binary Stage\n",
       "Secretory        75038\n",
       "Proliferative    25269\n",
       "Name: count, dtype: int64"
      ]
     },
     "execution_count": 26,
     "metadata": {},
     "output_type": "execute_result"
    }
   ],
   "source": [
    "count('Binary Stage', data)"
   ]
  },
  {
   "cell_type": "markdown",
   "id": "ebc15fdc",
   "metadata": {},
   "source": [
    "## Stage"
   ]
  },
  {
   "cell_type": "code",
   "execution_count": null,
   "id": "2b6a8e63",
   "metadata": {},
   "outputs": [
    {
     "data": {
      "application/vnd.plotly.v1+json": {
       "config": {
        "plotlyServerURL": "https://plot.ly"
       },
       "data": [
        {
         "hovertemplate": "color=p<br>Stage=%{x}<br>cells=%{y}<extra></extra>",
         "legendgroup": "p",
         "marker": {
          "color": "#636efa",
          "pattern": {
           "shape": ""
          }
         },
         "name": "p",
         "orientation": "v",
         "showlegend": true,
         "textposition": "auto",
         "type": "bar",
         "x": [
          "proliferative"
         ],
         "xaxis": "x",
         "y": {
          "bdata": "tWI=",
          "dtype": "i2"
         },
         "yaxis": "y"
        },
        {
         "hovertemplate": "color=s<br>Stage=%{x}<br>cells=%{y}<extra></extra>",
         "legendgroup": "s",
         "marker": {
          "color": "#EF553B",
          "pattern": {
           "shape": ""
          }
         },
         "name": "s",
         "orientation": "v",
         "showlegend": true,
         "textposition": "auto",
         "type": "bar",
         "x": [
          "early<br>secretory",
          "early<br>mid<br>secretory",
          "mid<br>secretory",
          "late<br>secretory"
         ],
         "xaxis": "x",
         "y": {
          "bdata": "CGKIeEAjTic=",
          "dtype": "i2"
         },
         "yaxis": "y"
        }
       ],
       "layout": {
        "barmode": "relative",
        "font": {
         "size": 16
        },
        "height": 400,
        "legend": {
         "title": {
          "text": "color"
         },
         "tracegroupgap": 0
        },
        "showlegend": false,
        "template": {
         "data": {
          "bar": [
           {
            "error_x": {
             "color": "#2a3f5f"
            },
            "error_y": {
             "color": "#2a3f5f"
            },
            "marker": {
             "line": {
              "color": "#E5ECF6",
              "width": 0.5
             },
             "pattern": {
              "fillmode": "overlay",
              "size": 10,
              "solidity": 0.2
             }
            },
            "type": "bar"
           }
          ],
          "barpolar": [
           {
            "marker": {
             "line": {
              "color": "#E5ECF6",
              "width": 0.5
             },
             "pattern": {
              "fillmode": "overlay",
              "size": 10,
              "solidity": 0.2
             }
            },
            "type": "barpolar"
           }
          ],
          "carpet": [
           {
            "aaxis": {
             "endlinecolor": "#2a3f5f",
             "gridcolor": "white",
             "linecolor": "white",
             "minorgridcolor": "white",
             "startlinecolor": "#2a3f5f"
            },
            "baxis": {
             "endlinecolor": "#2a3f5f",
             "gridcolor": "white",
             "linecolor": "white",
             "minorgridcolor": "white",
             "startlinecolor": "#2a3f5f"
            },
            "type": "carpet"
           }
          ],
          "choropleth": [
           {
            "colorbar": {
             "outlinewidth": 0,
             "ticks": ""
            },
            "type": "choropleth"
           }
          ],
          "contour": [
           {
            "colorbar": {
             "outlinewidth": 0,
             "ticks": ""
            },
            "colorscale": [
             [
              0,
              "#0d0887"
             ],
             [
              0.1111111111111111,
              "#46039f"
             ],
             [
              0.2222222222222222,
              "#7201a8"
             ],
             [
              0.3333333333333333,
              "#9c179e"
             ],
             [
              0.4444444444444444,
              "#bd3786"
             ],
             [
              0.5555555555555556,
              "#d8576b"
             ],
             [
              0.6666666666666666,
              "#ed7953"
             ],
             [
              0.7777777777777778,
              "#fb9f3a"
             ],
             [
              0.8888888888888888,
              "#fdca26"
             ],
             [
              1,
              "#f0f921"
             ]
            ],
            "type": "contour"
           }
          ],
          "contourcarpet": [
           {
            "colorbar": {
             "outlinewidth": 0,
             "ticks": ""
            },
            "type": "contourcarpet"
           }
          ],
          "heatmap": [
           {
            "colorbar": {
             "outlinewidth": 0,
             "ticks": ""
            },
            "colorscale": [
             [
              0,
              "#0d0887"
             ],
             [
              0.1111111111111111,
              "#46039f"
             ],
             [
              0.2222222222222222,
              "#7201a8"
             ],
             [
              0.3333333333333333,
              "#9c179e"
             ],
             [
              0.4444444444444444,
              "#bd3786"
             ],
             [
              0.5555555555555556,
              "#d8576b"
             ],
             [
              0.6666666666666666,
              "#ed7953"
             ],
             [
              0.7777777777777778,
              "#fb9f3a"
             ],
             [
              0.8888888888888888,
              "#fdca26"
             ],
             [
              1,
              "#f0f921"
             ]
            ],
            "type": "heatmap"
           }
          ],
          "histogram": [
           {
            "marker": {
             "pattern": {
              "fillmode": "overlay",
              "size": 10,
              "solidity": 0.2
             }
            },
            "type": "histogram"
           }
          ],
          "histogram2d": [
           {
            "colorbar": {
             "outlinewidth": 0,
             "ticks": ""
            },
            "colorscale": [
             [
              0,
              "#0d0887"
             ],
             [
              0.1111111111111111,
              "#46039f"
             ],
             [
              0.2222222222222222,
              "#7201a8"
             ],
             [
              0.3333333333333333,
              "#9c179e"
             ],
             [
              0.4444444444444444,
              "#bd3786"
             ],
             [
              0.5555555555555556,
              "#d8576b"
             ],
             [
              0.6666666666666666,
              "#ed7953"
             ],
             [
              0.7777777777777778,
              "#fb9f3a"
             ],
             [
              0.8888888888888888,
              "#fdca26"
             ],
             [
              1,
              "#f0f921"
             ]
            ],
            "type": "histogram2d"
           }
          ],
          "histogram2dcontour": [
           {
            "colorbar": {
             "outlinewidth": 0,
             "ticks": ""
            },
            "colorscale": [
             [
              0,
              "#0d0887"
             ],
             [
              0.1111111111111111,
              "#46039f"
             ],
             [
              0.2222222222222222,
              "#7201a8"
             ],
             [
              0.3333333333333333,
              "#9c179e"
             ],
             [
              0.4444444444444444,
              "#bd3786"
             ],
             [
              0.5555555555555556,
              "#d8576b"
             ],
             [
              0.6666666666666666,
              "#ed7953"
             ],
             [
              0.7777777777777778,
              "#fb9f3a"
             ],
             [
              0.8888888888888888,
              "#fdca26"
             ],
             [
              1,
              "#f0f921"
             ]
            ],
            "type": "histogram2dcontour"
           }
          ],
          "mesh3d": [
           {
            "colorbar": {
             "outlinewidth": 0,
             "ticks": ""
            },
            "type": "mesh3d"
           }
          ],
          "parcoords": [
           {
            "line": {
             "colorbar": {
              "outlinewidth": 0,
              "ticks": ""
             }
            },
            "type": "parcoords"
           }
          ],
          "pie": [
           {
            "automargin": true,
            "type": "pie"
           }
          ],
          "scatter": [
           {
            "fillpattern": {
             "fillmode": "overlay",
             "size": 10,
             "solidity": 0.2
            },
            "type": "scatter"
           }
          ],
          "scatter3d": [
           {
            "line": {
             "colorbar": {
              "outlinewidth": 0,
              "ticks": ""
             }
            },
            "marker": {
             "colorbar": {
              "outlinewidth": 0,
              "ticks": ""
             }
            },
            "type": "scatter3d"
           }
          ],
          "scattercarpet": [
           {
            "marker": {
             "colorbar": {
              "outlinewidth": 0,
              "ticks": ""
             }
            },
            "type": "scattercarpet"
           }
          ],
          "scattergeo": [
           {
            "marker": {
             "colorbar": {
              "outlinewidth": 0,
              "ticks": ""
             }
            },
            "type": "scattergeo"
           }
          ],
          "scattergl": [
           {
            "marker": {
             "colorbar": {
              "outlinewidth": 0,
              "ticks": ""
             }
            },
            "type": "scattergl"
           }
          ],
          "scattermap": [
           {
            "marker": {
             "colorbar": {
              "outlinewidth": 0,
              "ticks": ""
             }
            },
            "type": "scattermap"
           }
          ],
          "scattermapbox": [
           {
            "marker": {
             "colorbar": {
              "outlinewidth": 0,
              "ticks": ""
             }
            },
            "type": "scattermapbox"
           }
          ],
          "scatterpolar": [
           {
            "marker": {
             "colorbar": {
              "outlinewidth": 0,
              "ticks": ""
             }
            },
            "type": "scatterpolar"
           }
          ],
          "scatterpolargl": [
           {
            "marker": {
             "colorbar": {
              "outlinewidth": 0,
              "ticks": ""
             }
            },
            "type": "scatterpolargl"
           }
          ],
          "scatterternary": [
           {
            "marker": {
             "colorbar": {
              "outlinewidth": 0,
              "ticks": ""
             }
            },
            "type": "scatterternary"
           }
          ],
          "surface": [
           {
            "colorbar": {
             "outlinewidth": 0,
             "ticks": ""
            },
            "colorscale": [
             [
              0,
              "#0d0887"
             ],
             [
              0.1111111111111111,
              "#46039f"
             ],
             [
              0.2222222222222222,
              "#7201a8"
             ],
             [
              0.3333333333333333,
              "#9c179e"
             ],
             [
              0.4444444444444444,
              "#bd3786"
             ],
             [
              0.5555555555555556,
              "#d8576b"
             ],
             [
              0.6666666666666666,
              "#ed7953"
             ],
             [
              0.7777777777777778,
              "#fb9f3a"
             ],
             [
              0.8888888888888888,
              "#fdca26"
             ],
             [
              1,
              "#f0f921"
             ]
            ],
            "type": "surface"
           }
          ],
          "table": [
           {
            "cells": {
             "fill": {
              "color": "#EBF0F8"
             },
             "line": {
              "color": "white"
             }
            },
            "header": {
             "fill": {
              "color": "#C8D4E3"
             },
             "line": {
              "color": "white"
             }
            },
            "type": "table"
           }
          ]
         },
         "layout": {
          "annotationdefaults": {
           "arrowcolor": "#2a3f5f",
           "arrowhead": 0,
           "arrowwidth": 1
          },
          "autotypenumbers": "strict",
          "coloraxis": {
           "colorbar": {
            "outlinewidth": 0,
            "ticks": ""
           }
          },
          "colorscale": {
           "diverging": [
            [
             0,
             "#8e0152"
            ],
            [
             0.1,
             "#c51b7d"
            ],
            [
             0.2,
             "#de77ae"
            ],
            [
             0.3,
             "#f1b6da"
            ],
            [
             0.4,
             "#fde0ef"
            ],
            [
             0.5,
             "#f7f7f7"
            ],
            [
             0.6,
             "#e6f5d0"
            ],
            [
             0.7,
             "#b8e186"
            ],
            [
             0.8,
             "#7fbc41"
            ],
            [
             0.9,
             "#4d9221"
            ],
            [
             1,
             "#276419"
            ]
           ],
           "sequential": [
            [
             0,
             "#0d0887"
            ],
            [
             0.1111111111111111,
             "#46039f"
            ],
            [
             0.2222222222222222,
             "#7201a8"
            ],
            [
             0.3333333333333333,
             "#9c179e"
            ],
            [
             0.4444444444444444,
             "#bd3786"
            ],
            [
             0.5555555555555556,
             "#d8576b"
            ],
            [
             0.6666666666666666,
             "#ed7953"
            ],
            [
             0.7777777777777778,
             "#fb9f3a"
            ],
            [
             0.8888888888888888,
             "#fdca26"
            ],
            [
             1,
             "#f0f921"
            ]
           ],
           "sequentialminus": [
            [
             0,
             "#0d0887"
            ],
            [
             0.1111111111111111,
             "#46039f"
            ],
            [
             0.2222222222222222,
             "#7201a8"
            ],
            [
             0.3333333333333333,
             "#9c179e"
            ],
            [
             0.4444444444444444,
             "#bd3786"
            ],
            [
             0.5555555555555556,
             "#d8576b"
            ],
            [
             0.6666666666666666,
             "#ed7953"
            ],
            [
             0.7777777777777778,
             "#fb9f3a"
            ],
            [
             0.8888888888888888,
             "#fdca26"
            ],
            [
             1,
             "#f0f921"
            ]
           ]
          },
          "colorway": [
           "#636efa",
           "#EF553B",
           "#00cc96",
           "#ab63fa",
           "#FFA15A",
           "#19d3f3",
           "#FF6692",
           "#B6E880",
           "#FF97FF",
           "#FECB52"
          ],
          "font": {
           "color": "#2a3f5f"
          },
          "geo": {
           "bgcolor": "white",
           "lakecolor": "white",
           "landcolor": "#E5ECF6",
           "showlakes": true,
           "showland": true,
           "subunitcolor": "white"
          },
          "hoverlabel": {
           "align": "left"
          },
          "hovermode": "closest",
          "mapbox": {
           "style": "light"
          },
          "paper_bgcolor": "white",
          "plot_bgcolor": "#E5ECF6",
          "polar": {
           "angularaxis": {
            "gridcolor": "white",
            "linecolor": "white",
            "ticks": ""
           },
           "bgcolor": "#E5ECF6",
           "radialaxis": {
            "gridcolor": "white",
            "linecolor": "white",
            "ticks": ""
           }
          },
          "scene": {
           "xaxis": {
            "backgroundcolor": "#E5ECF6",
            "gridcolor": "white",
            "gridwidth": 2,
            "linecolor": "white",
            "showbackground": true,
            "ticks": "",
            "zerolinecolor": "white"
           },
           "yaxis": {
            "backgroundcolor": "#E5ECF6",
            "gridcolor": "white",
            "gridwidth": 2,
            "linecolor": "white",
            "showbackground": true,
            "ticks": "",
            "zerolinecolor": "white"
           },
           "zaxis": {
            "backgroundcolor": "#E5ECF6",
            "gridcolor": "white",
            "gridwidth": 2,
            "linecolor": "white",
            "showbackground": true,
            "ticks": "",
            "zerolinecolor": "white"
           }
          },
          "shapedefaults": {
           "line": {
            "color": "#2a3f5f"
           }
          },
          "ternary": {
           "aaxis": {
            "gridcolor": "white",
            "linecolor": "white",
            "ticks": ""
           },
           "baxis": {
            "gridcolor": "white",
            "linecolor": "white",
            "ticks": ""
           },
           "bgcolor": "#E5ECF6",
           "caxis": {
            "gridcolor": "white",
            "linecolor": "white",
            "ticks": ""
           }
          },
          "title": {
           "x": 0.05
          },
          "xaxis": {
           "automargin": true,
           "gridcolor": "white",
           "linecolor": "white",
           "ticks": "",
           "title": {
            "standoff": 15
           },
           "zerolinecolor": "white",
           "zerolinewidth": 2
          },
          "yaxis": {
           "automargin": true,
           "gridcolor": "white",
           "linecolor": "white",
           "ticks": "",
           "title": {
            "standoff": 15
           },
           "zerolinecolor": "white",
           "zerolinewidth": 2
          }
         }
        },
        "title": {
         "text": "Number of cells in stages of a menstrual cycle"
        },
        "width": 800,
        "xaxis": {
         "anchor": "y",
         "domain": [
          0,
          1
         ],
         "title": {
          "text": "Stage"
         }
        },
        "yaxis": {
         "anchor": "x",
         "domain": [
          0,
          1
         ],
         "title": {
          "text": "cells"
         }
        }
       }
      }
     },
     "metadata": {},
     "output_type": "display_data"
    }
   ],
   "source": [
    "stage = count('Stage', data)\n",
    "menstrual_cycle= ['proliferative', 'early<br>secretory', 'early<br>mid<br>secretory', 'mid<br>secretory', 'late<br>secretory']\n",
    "stage = stage.reindex(menstrual_cycle)\n",
    "\n",
    "plt = px.bar(stage,\n",
    "             color=['p', 's', 's', 's', 's'],\n",
    "             title='Number of cells in stages of a menstrual cycle',\n",
    "             width=800,\n",
    "             height=400,\n",
    "             labels={'value':'cells'})\n",
    "\n",
    "plt.update_layout(showlegend=False,\n",
    "                  font={'size':16})\n",
    "plt"
   ]
  },
  {
   "cell_type": "markdown",
   "id": "4cf3aafa",
   "metadata": {},
   "source": [
    "## Broad cell type"
   ]
  },
  {
   "cell_type": "code",
   "execution_count": 28,
   "id": "9b8bad31",
   "metadata": {},
   "outputs": [
    {
     "data": {
      "application/vnd.plotly.v1+json": {
       "config": {
        "plotlyServerURL": "https://plot.ly"
       },
       "data": [
        {
         "hovertemplate": "Broad cell type=%{x}<br>cells=%{y}<extra></extra>",
         "legendgroup": "Stromal",
         "marker": {
          "color": "#636efa",
          "pattern": {
           "shape": ""
          }
         },
         "name": "Stromal",
         "orientation": "v",
         "showlegend": true,
         "textposition": "auto",
         "type": "bar",
         "x": [
          "Stromal"
         ],
         "xaxis": "x",
         "y": {
          "bdata": "95AAAA==",
          "dtype": "i4"
         },
         "yaxis": "y"
        },
        {
         "hovertemplate": "Broad cell type=%{x}<br>cells=%{y}<extra></extra>",
         "legendgroup": "Epithelial",
         "marker": {
          "color": "#EF553B",
          "pattern": {
           "shape": ""
          }
         },
         "name": "Epithelial",
         "orientation": "v",
         "showlegend": true,
         "textposition": "auto",
         "type": "bar",
         "x": [
          "Epithelial"
         ],
         "xaxis": "x",
         "y": {
          "bdata": "i4UAAA==",
          "dtype": "i4"
         },
         "yaxis": "y"
        },
        {
         "hovertemplate": "Broad cell type=%{x}<br>cells=%{y}<extra></extra>",
         "legendgroup": "Supporting",
         "marker": {
          "color": "#00cc96",
          "pattern": {
           "shape": ""
          }
         },
         "name": "Supporting",
         "orientation": "v",
         "showlegend": true,
         "textposition": "auto",
         "type": "bar",
         "x": [
          "Supporting"
         ],
         "xaxis": "x",
         "y": {
          "bdata": "7UA=",
          "dtype": "i2"
         },
         "yaxis": "y"
        },
        {
         "hovertemplate": "Broad cell type=%{x}<br>cells=%{y}<extra></extra>",
         "legendgroup": "Endothelial",
         "marker": {
          "color": "#ab63fa",
          "pattern": {
           "shape": ""
          }
         },
         "name": "Endothelial",
         "orientation": "v",
         "showlegend": true,
         "textposition": "auto",
         "type": "bar",
         "x": [
          "Endothelial"
         ],
         "xaxis": "x",
         "y": {
          "bdata": "mR0=",
          "dtype": "i2"
         },
         "yaxis": "y"
        },
        {
         "hovertemplate": "Broad cell type=%{x}<br>cells=%{y}<extra></extra>",
         "legendgroup": "Immune",
         "marker": {
          "color": "#FFA15A",
          "pattern": {
           "shape": ""
          }
         },
         "name": "Immune",
         "orientation": "v",
         "showlegend": true,
         "textposition": "auto",
         "type": "bar",
         "x": [
          "Immune"
         ],
         "xaxis": "x",
         "y": {
          "bdata": "AAw=",
          "dtype": "i2"
         },
         "yaxis": "y"
        },
        {
         "hovertemplate": "Broad cell type=%{x}<br>cells=%{y}<extra></extra>",
         "legendgroup": "Excluded",
         "marker": {
          "color": "#19d3f3",
          "pattern": {
           "shape": ""
          }
         },
         "name": "Excluded",
         "orientation": "v",
         "showlegend": true,
         "textposition": "auto",
         "type": "bar",
         "x": [
          "Excluded"
         ],
         "xaxis": "x",
         "y": {
          "bdata": "ywY=",
          "dtype": "i2"
         },
         "yaxis": "y"
        }
       ],
       "layout": {
        "barmode": "relative",
        "font": {
         "size": 16
        },
        "height": 400,
        "legend": {
         "title": {
          "text": "Broad cell type"
         },
         "tracegroupgap": 0
        },
        "showlegend": false,
        "template": {
         "data": {
          "bar": [
           {
            "error_x": {
             "color": "#2a3f5f"
            },
            "error_y": {
             "color": "#2a3f5f"
            },
            "marker": {
             "line": {
              "color": "#E5ECF6",
              "width": 0.5
             },
             "pattern": {
              "fillmode": "overlay",
              "size": 10,
              "solidity": 0.2
             }
            },
            "type": "bar"
           }
          ],
          "barpolar": [
           {
            "marker": {
             "line": {
              "color": "#E5ECF6",
              "width": 0.5
             },
             "pattern": {
              "fillmode": "overlay",
              "size": 10,
              "solidity": 0.2
             }
            },
            "type": "barpolar"
           }
          ],
          "carpet": [
           {
            "aaxis": {
             "endlinecolor": "#2a3f5f",
             "gridcolor": "white",
             "linecolor": "white",
             "minorgridcolor": "white",
             "startlinecolor": "#2a3f5f"
            },
            "baxis": {
             "endlinecolor": "#2a3f5f",
             "gridcolor": "white",
             "linecolor": "white",
             "minorgridcolor": "white",
             "startlinecolor": "#2a3f5f"
            },
            "type": "carpet"
           }
          ],
          "choropleth": [
           {
            "colorbar": {
             "outlinewidth": 0,
             "ticks": ""
            },
            "type": "choropleth"
           }
          ],
          "contour": [
           {
            "colorbar": {
             "outlinewidth": 0,
             "ticks": ""
            },
            "colorscale": [
             [
              0,
              "#0d0887"
             ],
             [
              0.1111111111111111,
              "#46039f"
             ],
             [
              0.2222222222222222,
              "#7201a8"
             ],
             [
              0.3333333333333333,
              "#9c179e"
             ],
             [
              0.4444444444444444,
              "#bd3786"
             ],
             [
              0.5555555555555556,
              "#d8576b"
             ],
             [
              0.6666666666666666,
              "#ed7953"
             ],
             [
              0.7777777777777778,
              "#fb9f3a"
             ],
             [
              0.8888888888888888,
              "#fdca26"
             ],
             [
              1,
              "#f0f921"
             ]
            ],
            "type": "contour"
           }
          ],
          "contourcarpet": [
           {
            "colorbar": {
             "outlinewidth": 0,
             "ticks": ""
            },
            "type": "contourcarpet"
           }
          ],
          "heatmap": [
           {
            "colorbar": {
             "outlinewidth": 0,
             "ticks": ""
            },
            "colorscale": [
             [
              0,
              "#0d0887"
             ],
             [
              0.1111111111111111,
              "#46039f"
             ],
             [
              0.2222222222222222,
              "#7201a8"
             ],
             [
              0.3333333333333333,
              "#9c179e"
             ],
             [
              0.4444444444444444,
              "#bd3786"
             ],
             [
              0.5555555555555556,
              "#d8576b"
             ],
             [
              0.6666666666666666,
              "#ed7953"
             ],
             [
              0.7777777777777778,
              "#fb9f3a"
             ],
             [
              0.8888888888888888,
              "#fdca26"
             ],
             [
              1,
              "#f0f921"
             ]
            ],
            "type": "heatmap"
           }
          ],
          "histogram": [
           {
            "marker": {
             "pattern": {
              "fillmode": "overlay",
              "size": 10,
              "solidity": 0.2
             }
            },
            "type": "histogram"
           }
          ],
          "histogram2d": [
           {
            "colorbar": {
             "outlinewidth": 0,
             "ticks": ""
            },
            "colorscale": [
             [
              0,
              "#0d0887"
             ],
             [
              0.1111111111111111,
              "#46039f"
             ],
             [
              0.2222222222222222,
              "#7201a8"
             ],
             [
              0.3333333333333333,
              "#9c179e"
             ],
             [
              0.4444444444444444,
              "#bd3786"
             ],
             [
              0.5555555555555556,
              "#d8576b"
             ],
             [
              0.6666666666666666,
              "#ed7953"
             ],
             [
              0.7777777777777778,
              "#fb9f3a"
             ],
             [
              0.8888888888888888,
              "#fdca26"
             ],
             [
              1,
              "#f0f921"
             ]
            ],
            "type": "histogram2d"
           }
          ],
          "histogram2dcontour": [
           {
            "colorbar": {
             "outlinewidth": 0,
             "ticks": ""
            },
            "colorscale": [
             [
              0,
              "#0d0887"
             ],
             [
              0.1111111111111111,
              "#46039f"
             ],
             [
              0.2222222222222222,
              "#7201a8"
             ],
             [
              0.3333333333333333,
              "#9c179e"
             ],
             [
              0.4444444444444444,
              "#bd3786"
             ],
             [
              0.5555555555555556,
              "#d8576b"
             ],
             [
              0.6666666666666666,
              "#ed7953"
             ],
             [
              0.7777777777777778,
              "#fb9f3a"
             ],
             [
              0.8888888888888888,
              "#fdca26"
             ],
             [
              1,
              "#f0f921"
             ]
            ],
            "type": "histogram2dcontour"
           }
          ],
          "mesh3d": [
           {
            "colorbar": {
             "outlinewidth": 0,
             "ticks": ""
            },
            "type": "mesh3d"
           }
          ],
          "parcoords": [
           {
            "line": {
             "colorbar": {
              "outlinewidth": 0,
              "ticks": ""
             }
            },
            "type": "parcoords"
           }
          ],
          "pie": [
           {
            "automargin": true,
            "type": "pie"
           }
          ],
          "scatter": [
           {
            "fillpattern": {
             "fillmode": "overlay",
             "size": 10,
             "solidity": 0.2
            },
            "type": "scatter"
           }
          ],
          "scatter3d": [
           {
            "line": {
             "colorbar": {
              "outlinewidth": 0,
              "ticks": ""
             }
            },
            "marker": {
             "colorbar": {
              "outlinewidth": 0,
              "ticks": ""
             }
            },
            "type": "scatter3d"
           }
          ],
          "scattercarpet": [
           {
            "marker": {
             "colorbar": {
              "outlinewidth": 0,
              "ticks": ""
             }
            },
            "type": "scattercarpet"
           }
          ],
          "scattergeo": [
           {
            "marker": {
             "colorbar": {
              "outlinewidth": 0,
              "ticks": ""
             }
            },
            "type": "scattergeo"
           }
          ],
          "scattergl": [
           {
            "marker": {
             "colorbar": {
              "outlinewidth": 0,
              "ticks": ""
             }
            },
            "type": "scattergl"
           }
          ],
          "scattermap": [
           {
            "marker": {
             "colorbar": {
              "outlinewidth": 0,
              "ticks": ""
             }
            },
            "type": "scattermap"
           }
          ],
          "scattermapbox": [
           {
            "marker": {
             "colorbar": {
              "outlinewidth": 0,
              "ticks": ""
             }
            },
            "type": "scattermapbox"
           }
          ],
          "scatterpolar": [
           {
            "marker": {
             "colorbar": {
              "outlinewidth": 0,
              "ticks": ""
             }
            },
            "type": "scatterpolar"
           }
          ],
          "scatterpolargl": [
           {
            "marker": {
             "colorbar": {
              "outlinewidth": 0,
              "ticks": ""
             }
            },
            "type": "scatterpolargl"
           }
          ],
          "scatterternary": [
           {
            "marker": {
             "colorbar": {
              "outlinewidth": 0,
              "ticks": ""
             }
            },
            "type": "scatterternary"
           }
          ],
          "surface": [
           {
            "colorbar": {
             "outlinewidth": 0,
             "ticks": ""
            },
            "colorscale": [
             [
              0,
              "#0d0887"
             ],
             [
              0.1111111111111111,
              "#46039f"
             ],
             [
              0.2222222222222222,
              "#7201a8"
             ],
             [
              0.3333333333333333,
              "#9c179e"
             ],
             [
              0.4444444444444444,
              "#bd3786"
             ],
             [
              0.5555555555555556,
              "#d8576b"
             ],
             [
              0.6666666666666666,
              "#ed7953"
             ],
             [
              0.7777777777777778,
              "#fb9f3a"
             ],
             [
              0.8888888888888888,
              "#fdca26"
             ],
             [
              1,
              "#f0f921"
             ]
            ],
            "type": "surface"
           }
          ],
          "table": [
           {
            "cells": {
             "fill": {
              "color": "#EBF0F8"
             },
             "line": {
              "color": "white"
             }
            },
            "header": {
             "fill": {
              "color": "#C8D4E3"
             },
             "line": {
              "color": "white"
             }
            },
            "type": "table"
           }
          ]
         },
         "layout": {
          "annotationdefaults": {
           "arrowcolor": "#2a3f5f",
           "arrowhead": 0,
           "arrowwidth": 1
          },
          "autotypenumbers": "strict",
          "coloraxis": {
           "colorbar": {
            "outlinewidth": 0,
            "ticks": ""
           }
          },
          "colorscale": {
           "diverging": [
            [
             0,
             "#8e0152"
            ],
            [
             0.1,
             "#c51b7d"
            ],
            [
             0.2,
             "#de77ae"
            ],
            [
             0.3,
             "#f1b6da"
            ],
            [
             0.4,
             "#fde0ef"
            ],
            [
             0.5,
             "#f7f7f7"
            ],
            [
             0.6,
             "#e6f5d0"
            ],
            [
             0.7,
             "#b8e186"
            ],
            [
             0.8,
             "#7fbc41"
            ],
            [
             0.9,
             "#4d9221"
            ],
            [
             1,
             "#276419"
            ]
           ],
           "sequential": [
            [
             0,
             "#0d0887"
            ],
            [
             0.1111111111111111,
             "#46039f"
            ],
            [
             0.2222222222222222,
             "#7201a8"
            ],
            [
             0.3333333333333333,
             "#9c179e"
            ],
            [
             0.4444444444444444,
             "#bd3786"
            ],
            [
             0.5555555555555556,
             "#d8576b"
            ],
            [
             0.6666666666666666,
             "#ed7953"
            ],
            [
             0.7777777777777778,
             "#fb9f3a"
            ],
            [
             0.8888888888888888,
             "#fdca26"
            ],
            [
             1,
             "#f0f921"
            ]
           ],
           "sequentialminus": [
            [
             0,
             "#0d0887"
            ],
            [
             0.1111111111111111,
             "#46039f"
            ],
            [
             0.2222222222222222,
             "#7201a8"
            ],
            [
             0.3333333333333333,
             "#9c179e"
            ],
            [
             0.4444444444444444,
             "#bd3786"
            ],
            [
             0.5555555555555556,
             "#d8576b"
            ],
            [
             0.6666666666666666,
             "#ed7953"
            ],
            [
             0.7777777777777778,
             "#fb9f3a"
            ],
            [
             0.8888888888888888,
             "#fdca26"
            ],
            [
             1,
             "#f0f921"
            ]
           ]
          },
          "colorway": [
           "#636efa",
           "#EF553B",
           "#00cc96",
           "#ab63fa",
           "#FFA15A",
           "#19d3f3",
           "#FF6692",
           "#B6E880",
           "#FF97FF",
           "#FECB52"
          ],
          "font": {
           "color": "#2a3f5f"
          },
          "geo": {
           "bgcolor": "white",
           "lakecolor": "white",
           "landcolor": "#E5ECF6",
           "showlakes": true,
           "showland": true,
           "subunitcolor": "white"
          },
          "hoverlabel": {
           "align": "left"
          },
          "hovermode": "closest",
          "mapbox": {
           "style": "light"
          },
          "paper_bgcolor": "white",
          "plot_bgcolor": "#E5ECF6",
          "polar": {
           "angularaxis": {
            "gridcolor": "white",
            "linecolor": "white",
            "ticks": ""
           },
           "bgcolor": "#E5ECF6",
           "radialaxis": {
            "gridcolor": "white",
            "linecolor": "white",
            "ticks": ""
           }
          },
          "scene": {
           "xaxis": {
            "backgroundcolor": "#E5ECF6",
            "gridcolor": "white",
            "gridwidth": 2,
            "linecolor": "white",
            "showbackground": true,
            "ticks": "",
            "zerolinecolor": "white"
           },
           "yaxis": {
            "backgroundcolor": "#E5ECF6",
            "gridcolor": "white",
            "gridwidth": 2,
            "linecolor": "white",
            "showbackground": true,
            "ticks": "",
            "zerolinecolor": "white"
           },
           "zaxis": {
            "backgroundcolor": "#E5ECF6",
            "gridcolor": "white",
            "gridwidth": 2,
            "linecolor": "white",
            "showbackground": true,
            "ticks": "",
            "zerolinecolor": "white"
           }
          },
          "shapedefaults": {
           "line": {
            "color": "#2a3f5f"
           }
          },
          "ternary": {
           "aaxis": {
            "gridcolor": "white",
            "linecolor": "white",
            "ticks": ""
           },
           "baxis": {
            "gridcolor": "white",
            "linecolor": "white",
            "ticks": ""
           },
           "bgcolor": "#E5ECF6",
           "caxis": {
            "gridcolor": "white",
            "linecolor": "white",
            "ticks": ""
           }
          },
          "title": {
           "x": 0.05
          },
          "xaxis": {
           "automargin": true,
           "gridcolor": "white",
           "linecolor": "white",
           "ticks": "",
           "title": {
            "standoff": 15
           },
           "zerolinecolor": "white",
           "zerolinewidth": 2
          },
          "yaxis": {
           "automargin": true,
           "gridcolor": "white",
           "linecolor": "white",
           "ticks": "",
           "title": {
            "standoff": 15
           },
           "zerolinecolor": "white",
           "zerolinewidth": 2
          }
         }
        },
        "title": {
         "text": "Number of cells by type"
        },
        "width": 800,
        "xaxis": {
         "anchor": "y",
         "categoryarray": [
          "Stromal",
          "Epithelial",
          "Supporting",
          "Endothelial",
          "Immune",
          "Excluded"
         ],
         "categoryorder": "array",
         "domain": [
          0,
          1
         ],
         "title": {
          "text": "Broad cell type"
         }
        },
        "yaxis": {
         "anchor": "x",
         "domain": [
          0,
          1
         ],
         "title": {
          "text": "cells"
         }
        }
       }
      }
     },
     "metadata": {},
     "output_type": "display_data"
    }
   ],
   "source": [
    "cell_type = count('Broad cell type', data)\n",
    "\n",
    "plt = px.bar(cell_type,\n",
    "             color=cell_type.index,\n",
    "             title='Number of cells by type',\n",
    "             width=800,\n",
    "             height=400,\n",
    "             labels={'value':'cells'})\n",
    "\n",
    "plt.update_layout(showlegend=False,\n",
    "                  font={'size':16})\n",
    "plt"
   ]
  },
  {
   "cell_type": "markdown",
   "id": "4de2ebc3",
   "metadata": {},
   "source": [
    "## Biopsy type vs cell type"
   ]
  },
  {
   "cell_type": "code",
   "execution_count": 29,
   "id": "b4e37b57",
   "metadata": {},
   "outputs": [
    {
     "data": {
      "text/html": [
       "<div>\n",
       "<style scoped>\n",
       "    .dataframe tbody tr th:only-of-type {\n",
       "        vertical-align: middle;\n",
       "    }\n",
       "\n",
       "    .dataframe tbody tr th {\n",
       "        vertical-align: top;\n",
       "    }\n",
       "\n",
       "    .dataframe thead th {\n",
       "        text-align: right;\n",
       "    }\n",
       "</style>\n",
       "<table border=\"1\" class=\"dataframe\">\n",
       "  <thead>\n",
       "    <tr style=\"text-align: right;\">\n",
       "      <th></th>\n",
       "      <th>BiopsyType</th>\n",
       "      <th>Broad cell type</th>\n",
       "      <th>cells</th>\n",
       "      <th>Percentage</th>\n",
       "    </tr>\n",
       "  </thead>\n",
       "  <tbody>\n",
       "    <tr>\n",
       "      <th>0</th>\n",
       "      <td>Organ&lt;br&gt;Donor</td>\n",
       "      <td>Epithelial</td>\n",
       "      <td>1856</td>\n",
       "      <td>5.239534</td>\n",
       "    </tr>\n",
       "    <tr>\n",
       "      <th>1</th>\n",
       "      <td>Organ&lt;br&gt;Donor</td>\n",
       "      <td>Endothelial</td>\n",
       "      <td>5771</td>\n",
       "      <td>16.291675</td>\n",
       "    </tr>\n",
       "    <tr>\n",
       "      <th>2</th>\n",
       "      <td>Organ&lt;br&gt;Donor</td>\n",
       "      <td>Immune</td>\n",
       "      <td>663</td>\n",
       "      <td>1.871665</td>\n",
       "    </tr>\n",
       "    <tr>\n",
       "      <th>3</th>\n",
       "      <td>Organ&lt;br&gt;Donor</td>\n",
       "      <td>Supporting</td>\n",
       "      <td>15143</td>\n",
       "      <td>42.749061</td>\n",
       "    </tr>\n",
       "    <tr>\n",
       "      <th>4</th>\n",
       "      <td>Organ&lt;br&gt;Donor</td>\n",
       "      <td>Stromal</td>\n",
       "      <td>11637</td>\n",
       "      <td>32.851537</td>\n",
       "    </tr>\n",
       "    <tr>\n",
       "      <th>5</th>\n",
       "      <td>Organ&lt;br&gt;Donor</td>\n",
       "      <td>Excluded</td>\n",
       "      <td>353</td>\n",
       "      <td>0.996528</td>\n",
       "    </tr>\n",
       "    <tr>\n",
       "      <th>6</th>\n",
       "      <td>Superficial&lt;br&gt;Biopsy</td>\n",
       "      <td>Epithelial</td>\n",
       "      <td>32331</td>\n",
       "      <td>49.828925</td>\n",
       "    </tr>\n",
       "    <tr>\n",
       "      <th>7</th>\n",
       "      <td>Superficial&lt;br&gt;Biopsy</td>\n",
       "      <td>Endothelial</td>\n",
       "      <td>1806</td>\n",
       "      <td>2.783429</td>\n",
       "    </tr>\n",
       "    <tr>\n",
       "      <th>8</th>\n",
       "      <td>Superficial&lt;br&gt;Biopsy</td>\n",
       "      <td>Immune</td>\n",
       "      <td>2409</td>\n",
       "      <td>3.712780</td>\n",
       "    </tr>\n",
       "    <tr>\n",
       "      <th>9</th>\n",
       "      <td>Superficial&lt;br&gt;Biopsy</td>\n",
       "      <td>Supporting</td>\n",
       "      <td>1478</td>\n",
       "      <td>2.277911</td>\n",
       "    </tr>\n",
       "    <tr>\n",
       "      <th>10</th>\n",
       "      <td>Superficial&lt;br&gt;Biopsy</td>\n",
       "      <td>Stromal</td>\n",
       "      <td>25474</td>\n",
       "      <td>39.260835</td>\n",
       "    </tr>\n",
       "    <tr>\n",
       "      <th>11</th>\n",
       "      <td>Superficial&lt;br&gt;Biopsy</td>\n",
       "      <td>Excluded</td>\n",
       "      <td>1386</td>\n",
       "      <td>2.136120</td>\n",
       "    </tr>\n",
       "  </tbody>\n",
       "</table>\n",
       "</div>"
      ],
      "text/plain": [
       "               BiopsyType Broad cell type  cells  Percentage\n",
       "0          Organ<br>Donor      Epithelial   1856    5.239534\n",
       "1          Organ<br>Donor     Endothelial   5771   16.291675\n",
       "2          Organ<br>Donor          Immune    663    1.871665\n",
       "3          Organ<br>Donor      Supporting  15143   42.749061\n",
       "4          Organ<br>Donor         Stromal  11637   32.851537\n",
       "5          Organ<br>Donor        Excluded    353    0.996528\n",
       "6   Superficial<br>Biopsy      Epithelial  32331   49.828925\n",
       "7   Superficial<br>Biopsy     Endothelial   1806    2.783429\n",
       "8   Superficial<br>Biopsy          Immune   2409    3.712780\n",
       "9   Superficial<br>Biopsy      Supporting   1478    2.277911\n",
       "10  Superficial<br>Biopsy         Stromal  25474   39.260835\n",
       "11  Superficial<br>Biopsy        Excluded   1386    2.136120"
      ]
     },
     "execution_count": 29,
     "metadata": {},
     "output_type": "execute_result"
    }
   ],
   "source": [
    "bt_ct = data.obs.groupby(['BiopsyType','Broad cell type'], observed=False).size()\n",
    "bt_ct = bt_ct.reset_index(name='cells')\n",
    "bt_ct['BiopsyType'] = replace_underscores(bt_ct['BiopsyType'])\n",
    "bt_ct['Percentage'] = bt_ct.groupby('BiopsyType', observed=False)['cells'].transform(lambda x: (100 * x / x.sum()))\n",
    "bt_ct"
   ]
  },
  {
   "cell_type": "code",
   "execution_count": 41,
   "id": "f261b1f3",
   "metadata": {},
   "outputs": [
    {
     "data": {
      "application/vnd.plotly.v1+json": {
       "config": {
        "plotlyServerURL": "https://plot.ly"
       },
       "data": [
        {
         "hovertemplate": "Cell type=Epithelial<br>Biopsy type=%{x}<br>cells [%]=%{y}<extra></extra>",
         "legendgroup": "Epithelial",
         "marker": {
          "color": "#636efa",
          "pattern": {
           "shape": ""
          }
         },
         "name": "Epithelial",
         "orientation": "v",
         "showlegend": true,
         "textposition": "auto",
         "type": "bar",
         "x": [
          "Organ<br>Donor",
          "Superficial<br>Biopsy"
         ],
         "xaxis": "x",
         "y": {
          "bdata": "RnQ5Tkj1FEAPxM06GupIQA==",
          "dtype": "f8"
         },
         "yaxis": "y"
        },
        {
         "hovertemplate": "Cell type=Endothelial<br>Biopsy type=%{x}<br>cells [%]=%{y}<extra></extra>",
         "legendgroup": "Endothelial",
         "marker": {
          "color": "#EF553B",
          "pattern": {
           "shape": ""
          }
         },
         "name": "Endothelial",
         "orientation": "v",
         "showlegend": true,
         "textposition": "auto",
         "type": "bar",
         "x": [
          "Organ<br>Donor",
          "Superficial<br>Biopsy"
         ],
         "xaxis": "x",
         "y": {
          "bdata": "Y6nONKtKMECeCHZddkQGQA==",
          "dtype": "f8"
         },
         "yaxis": "y"
        },
        {
         "hovertemplate": "Cell type=Immune<br>Biopsy type=%{x}<br>cells [%]=%{y}<extra></extra>",
         "legendgroup": "Immune",
         "marker": {
          "color": "#00cc96",
          "pattern": {
           "shape": ""
          }
         },
         "name": "Immune",
         "orientation": "v",
         "showlegend": true,
         "textposition": "auto",
         "type": "bar",
         "x": [
          "Organ<br>Donor",
          "Superficial<br>Biopsy"
         ],
         "xaxis": "x",
         "y": {
          "bdata": "oHDgUFfy/T9bHezbxbMNQA==",
          "dtype": "f8"
         },
         "yaxis": "y"
        },
        {
         "hovertemplate": "Cell type=Supporting<br>Biopsy type=%{x}<br>cells [%]=%{y}<extra></extra>",
         "legendgroup": "Supporting",
         "marker": {
          "color": "#ab63fa",
          "pattern": {
           "shape": ""
          }
         },
         "name": "Supporting",
         "orientation": "v",
         "showlegend": true,
         "textposition": "auto",
         "type": "bar",
         "x": [
          "Organ<br>Donor",
          "Superficial<br>Biopsy"
         ],
         "xaxis": "x",
         "y": {
          "bdata": "DUn8PeFfRUB8z+mVKTkCQA==",
          "dtype": "f8"
         },
         "yaxis": "y"
        },
        {
         "hovertemplate": "Cell type=Stromal<br>Biopsy type=%{x}<br>cells [%]=%{y}<extra></extra>",
         "legendgroup": "Stromal",
         "marker": {
          "color": "#FFA15A",
          "pattern": {
           "shape": ""
          }
         },
         "name": "Stromal",
         "orientation": "v",
         "showlegend": true,
         "textposition": "auto",
         "type": "bar",
         "x": [
          "Organ<br>Donor",
          "Superficial<br>Biopsy"
         ],
         "xaxis": "x",
         "y": {
          "bdata": "+SE9K/9sQEAG8TgIY6FDQA==",
          "dtype": "f8"
         },
         "yaxis": "y"
        },
        {
         "hovertemplate": "Cell type=Excluded<br>Biopsy type=%{x}<br>cells [%]=%{y}<extra></extra>",
         "legendgroup": "Excluded",
         "marker": {
          "color": "#19d3f3",
          "pattern": {
           "shape": ""
          }
         },
         "name": "Excluded",
         "orientation": "v",
         "showlegend": true,
         "textposition": "auto",
         "type": "bar",
         "x": [
          "Organ<br>Donor",
          "Superficial<br>Biopsy"
         ],
         "xaxis": "x",
         "y": {
          "bdata": "to5DBI7j7z84uUgAxhYBQA==",
          "dtype": "f8"
         },
         "yaxis": "y"
        }
       ],
       "layout": {
        "barmode": "relative",
        "font": {
         "size": 16
        },
        "height": 600,
        "legend": {
         "title": {
          "text": "Cell type"
         },
         "tracegroupgap": 0
        },
        "template": {
         "data": {
          "bar": [
           {
            "error_x": {
             "color": "#2a3f5f"
            },
            "error_y": {
             "color": "#2a3f5f"
            },
            "marker": {
             "line": {
              "color": "#E5ECF6",
              "width": 0.5
             },
             "pattern": {
              "fillmode": "overlay",
              "size": 10,
              "solidity": 0.2
             }
            },
            "type": "bar"
           }
          ],
          "barpolar": [
           {
            "marker": {
             "line": {
              "color": "#E5ECF6",
              "width": 0.5
             },
             "pattern": {
              "fillmode": "overlay",
              "size": 10,
              "solidity": 0.2
             }
            },
            "type": "barpolar"
           }
          ],
          "carpet": [
           {
            "aaxis": {
             "endlinecolor": "#2a3f5f",
             "gridcolor": "white",
             "linecolor": "white",
             "minorgridcolor": "white",
             "startlinecolor": "#2a3f5f"
            },
            "baxis": {
             "endlinecolor": "#2a3f5f",
             "gridcolor": "white",
             "linecolor": "white",
             "minorgridcolor": "white",
             "startlinecolor": "#2a3f5f"
            },
            "type": "carpet"
           }
          ],
          "choropleth": [
           {
            "colorbar": {
             "outlinewidth": 0,
             "ticks": ""
            },
            "type": "choropleth"
           }
          ],
          "contour": [
           {
            "colorbar": {
             "outlinewidth": 0,
             "ticks": ""
            },
            "colorscale": [
             [
              0,
              "#0d0887"
             ],
             [
              0.1111111111111111,
              "#46039f"
             ],
             [
              0.2222222222222222,
              "#7201a8"
             ],
             [
              0.3333333333333333,
              "#9c179e"
             ],
             [
              0.4444444444444444,
              "#bd3786"
             ],
             [
              0.5555555555555556,
              "#d8576b"
             ],
             [
              0.6666666666666666,
              "#ed7953"
             ],
             [
              0.7777777777777778,
              "#fb9f3a"
             ],
             [
              0.8888888888888888,
              "#fdca26"
             ],
             [
              1,
              "#f0f921"
             ]
            ],
            "type": "contour"
           }
          ],
          "contourcarpet": [
           {
            "colorbar": {
             "outlinewidth": 0,
             "ticks": ""
            },
            "type": "contourcarpet"
           }
          ],
          "heatmap": [
           {
            "colorbar": {
             "outlinewidth": 0,
             "ticks": ""
            },
            "colorscale": [
             [
              0,
              "#0d0887"
             ],
             [
              0.1111111111111111,
              "#46039f"
             ],
             [
              0.2222222222222222,
              "#7201a8"
             ],
             [
              0.3333333333333333,
              "#9c179e"
             ],
             [
              0.4444444444444444,
              "#bd3786"
             ],
             [
              0.5555555555555556,
              "#d8576b"
             ],
             [
              0.6666666666666666,
              "#ed7953"
             ],
             [
              0.7777777777777778,
              "#fb9f3a"
             ],
             [
              0.8888888888888888,
              "#fdca26"
             ],
             [
              1,
              "#f0f921"
             ]
            ],
            "type": "heatmap"
           }
          ],
          "histogram": [
           {
            "marker": {
             "pattern": {
              "fillmode": "overlay",
              "size": 10,
              "solidity": 0.2
             }
            },
            "type": "histogram"
           }
          ],
          "histogram2d": [
           {
            "colorbar": {
             "outlinewidth": 0,
             "ticks": ""
            },
            "colorscale": [
             [
              0,
              "#0d0887"
             ],
             [
              0.1111111111111111,
              "#46039f"
             ],
             [
              0.2222222222222222,
              "#7201a8"
             ],
             [
              0.3333333333333333,
              "#9c179e"
             ],
             [
              0.4444444444444444,
              "#bd3786"
             ],
             [
              0.5555555555555556,
              "#d8576b"
             ],
             [
              0.6666666666666666,
              "#ed7953"
             ],
             [
              0.7777777777777778,
              "#fb9f3a"
             ],
             [
              0.8888888888888888,
              "#fdca26"
             ],
             [
              1,
              "#f0f921"
             ]
            ],
            "type": "histogram2d"
           }
          ],
          "histogram2dcontour": [
           {
            "colorbar": {
             "outlinewidth": 0,
             "ticks": ""
            },
            "colorscale": [
             [
              0,
              "#0d0887"
             ],
             [
              0.1111111111111111,
              "#46039f"
             ],
             [
              0.2222222222222222,
              "#7201a8"
             ],
             [
              0.3333333333333333,
              "#9c179e"
             ],
             [
              0.4444444444444444,
              "#bd3786"
             ],
             [
              0.5555555555555556,
              "#d8576b"
             ],
             [
              0.6666666666666666,
              "#ed7953"
             ],
             [
              0.7777777777777778,
              "#fb9f3a"
             ],
             [
              0.8888888888888888,
              "#fdca26"
             ],
             [
              1,
              "#f0f921"
             ]
            ],
            "type": "histogram2dcontour"
           }
          ],
          "mesh3d": [
           {
            "colorbar": {
             "outlinewidth": 0,
             "ticks": ""
            },
            "type": "mesh3d"
           }
          ],
          "parcoords": [
           {
            "line": {
             "colorbar": {
              "outlinewidth": 0,
              "ticks": ""
             }
            },
            "type": "parcoords"
           }
          ],
          "pie": [
           {
            "automargin": true,
            "type": "pie"
           }
          ],
          "scatter": [
           {
            "fillpattern": {
             "fillmode": "overlay",
             "size": 10,
             "solidity": 0.2
            },
            "type": "scatter"
           }
          ],
          "scatter3d": [
           {
            "line": {
             "colorbar": {
              "outlinewidth": 0,
              "ticks": ""
             }
            },
            "marker": {
             "colorbar": {
              "outlinewidth": 0,
              "ticks": ""
             }
            },
            "type": "scatter3d"
           }
          ],
          "scattercarpet": [
           {
            "marker": {
             "colorbar": {
              "outlinewidth": 0,
              "ticks": ""
             }
            },
            "type": "scattercarpet"
           }
          ],
          "scattergeo": [
           {
            "marker": {
             "colorbar": {
              "outlinewidth": 0,
              "ticks": ""
             }
            },
            "type": "scattergeo"
           }
          ],
          "scattergl": [
           {
            "marker": {
             "colorbar": {
              "outlinewidth": 0,
              "ticks": ""
             }
            },
            "type": "scattergl"
           }
          ],
          "scattermap": [
           {
            "marker": {
             "colorbar": {
              "outlinewidth": 0,
              "ticks": ""
             }
            },
            "type": "scattermap"
           }
          ],
          "scattermapbox": [
           {
            "marker": {
             "colorbar": {
              "outlinewidth": 0,
              "ticks": ""
             }
            },
            "type": "scattermapbox"
           }
          ],
          "scatterpolar": [
           {
            "marker": {
             "colorbar": {
              "outlinewidth": 0,
              "ticks": ""
             }
            },
            "type": "scatterpolar"
           }
          ],
          "scatterpolargl": [
           {
            "marker": {
             "colorbar": {
              "outlinewidth": 0,
              "ticks": ""
             }
            },
            "type": "scatterpolargl"
           }
          ],
          "scatterternary": [
           {
            "marker": {
             "colorbar": {
              "outlinewidth": 0,
              "ticks": ""
             }
            },
            "type": "scatterternary"
           }
          ],
          "surface": [
           {
            "colorbar": {
             "outlinewidth": 0,
             "ticks": ""
            },
            "colorscale": [
             [
              0,
              "#0d0887"
             ],
             [
              0.1111111111111111,
              "#46039f"
             ],
             [
              0.2222222222222222,
              "#7201a8"
             ],
             [
              0.3333333333333333,
              "#9c179e"
             ],
             [
              0.4444444444444444,
              "#bd3786"
             ],
             [
              0.5555555555555556,
              "#d8576b"
             ],
             [
              0.6666666666666666,
              "#ed7953"
             ],
             [
              0.7777777777777778,
              "#fb9f3a"
             ],
             [
              0.8888888888888888,
              "#fdca26"
             ],
             [
              1,
              "#f0f921"
             ]
            ],
            "type": "surface"
           }
          ],
          "table": [
           {
            "cells": {
             "fill": {
              "color": "#EBF0F8"
             },
             "line": {
              "color": "white"
             }
            },
            "header": {
             "fill": {
              "color": "#C8D4E3"
             },
             "line": {
              "color": "white"
             }
            },
            "type": "table"
           }
          ]
         },
         "layout": {
          "annotationdefaults": {
           "arrowcolor": "#2a3f5f",
           "arrowhead": 0,
           "arrowwidth": 1
          },
          "autotypenumbers": "strict",
          "coloraxis": {
           "colorbar": {
            "outlinewidth": 0,
            "ticks": ""
           }
          },
          "colorscale": {
           "diverging": [
            [
             0,
             "#8e0152"
            ],
            [
             0.1,
             "#c51b7d"
            ],
            [
             0.2,
             "#de77ae"
            ],
            [
             0.3,
             "#f1b6da"
            ],
            [
             0.4,
             "#fde0ef"
            ],
            [
             0.5,
             "#f7f7f7"
            ],
            [
             0.6,
             "#e6f5d0"
            ],
            [
             0.7,
             "#b8e186"
            ],
            [
             0.8,
             "#7fbc41"
            ],
            [
             0.9,
             "#4d9221"
            ],
            [
             1,
             "#276419"
            ]
           ],
           "sequential": [
            [
             0,
             "#0d0887"
            ],
            [
             0.1111111111111111,
             "#46039f"
            ],
            [
             0.2222222222222222,
             "#7201a8"
            ],
            [
             0.3333333333333333,
             "#9c179e"
            ],
            [
             0.4444444444444444,
             "#bd3786"
            ],
            [
             0.5555555555555556,
             "#d8576b"
            ],
            [
             0.6666666666666666,
             "#ed7953"
            ],
            [
             0.7777777777777778,
             "#fb9f3a"
            ],
            [
             0.8888888888888888,
             "#fdca26"
            ],
            [
             1,
             "#f0f921"
            ]
           ],
           "sequentialminus": [
            [
             0,
             "#0d0887"
            ],
            [
             0.1111111111111111,
             "#46039f"
            ],
            [
             0.2222222222222222,
             "#7201a8"
            ],
            [
             0.3333333333333333,
             "#9c179e"
            ],
            [
             0.4444444444444444,
             "#bd3786"
            ],
            [
             0.5555555555555556,
             "#d8576b"
            ],
            [
             0.6666666666666666,
             "#ed7953"
            ],
            [
             0.7777777777777778,
             "#fb9f3a"
            ],
            [
             0.8888888888888888,
             "#fdca26"
            ],
            [
             1,
             "#f0f921"
            ]
           ]
          },
          "colorway": [
           "#636efa",
           "#EF553B",
           "#00cc96",
           "#ab63fa",
           "#FFA15A",
           "#19d3f3",
           "#FF6692",
           "#B6E880",
           "#FF97FF",
           "#FECB52"
          ],
          "font": {
           "color": "#2a3f5f"
          },
          "geo": {
           "bgcolor": "white",
           "lakecolor": "white",
           "landcolor": "#E5ECF6",
           "showlakes": true,
           "showland": true,
           "subunitcolor": "white"
          },
          "hoverlabel": {
           "align": "left"
          },
          "hovermode": "closest",
          "mapbox": {
           "style": "light"
          },
          "paper_bgcolor": "white",
          "plot_bgcolor": "#E5ECF6",
          "polar": {
           "angularaxis": {
            "gridcolor": "white",
            "linecolor": "white",
            "ticks": ""
           },
           "bgcolor": "#E5ECF6",
           "radialaxis": {
            "gridcolor": "white",
            "linecolor": "white",
            "ticks": ""
           }
          },
          "scene": {
           "xaxis": {
            "backgroundcolor": "#E5ECF6",
            "gridcolor": "white",
            "gridwidth": 2,
            "linecolor": "white",
            "showbackground": true,
            "ticks": "",
            "zerolinecolor": "white"
           },
           "yaxis": {
            "backgroundcolor": "#E5ECF6",
            "gridcolor": "white",
            "gridwidth": 2,
            "linecolor": "white",
            "showbackground": true,
            "ticks": "",
            "zerolinecolor": "white"
           },
           "zaxis": {
            "backgroundcolor": "#E5ECF6",
            "gridcolor": "white",
            "gridwidth": 2,
            "linecolor": "white",
            "showbackground": true,
            "ticks": "",
            "zerolinecolor": "white"
           }
          },
          "shapedefaults": {
           "line": {
            "color": "#2a3f5f"
           }
          },
          "ternary": {
           "aaxis": {
            "gridcolor": "white",
            "linecolor": "white",
            "ticks": ""
           },
           "baxis": {
            "gridcolor": "white",
            "linecolor": "white",
            "ticks": ""
           },
           "bgcolor": "#E5ECF6",
           "caxis": {
            "gridcolor": "white",
            "linecolor": "white",
            "ticks": ""
           }
          },
          "title": {
           "x": 0.05
          },
          "xaxis": {
           "automargin": true,
           "gridcolor": "white",
           "linecolor": "white",
           "ticks": "",
           "title": {
            "standoff": 15
           },
           "zerolinecolor": "white",
           "zerolinewidth": 2
          },
          "yaxis": {
           "automargin": true,
           "gridcolor": "white",
           "linecolor": "white",
           "ticks": "",
           "title": {
            "standoff": 15
           },
           "zerolinecolor": "white",
           "zerolinewidth": 2
          }
         }
        },
        "title": {
         "text": "Cell types in biopsy types"
        },
        "width": 500,
        "xaxis": {
         "anchor": "y",
         "categoryarray": [
          "Superficial<br>Biopsy",
          "Organ<br>Donor"
         ],
         "categoryorder": "array",
         "domain": [
          0,
          1
         ],
         "title": {
          "text": "Biopsy type"
         }
        },
        "yaxis": {
         "anchor": "x",
         "domain": [
          0,
          1
         ],
         "title": {
          "text": "cells [%]"
         }
        }
       }
      }
     },
     "metadata": {},
     "output_type": "display_data"
    }
   ],
   "source": [
    "plt = px.bar(bt_ct,\n",
    "             x='BiopsyType',\n",
    "             y='Percentage',\n",
    "             color = 'Broad cell type',\n",
    "             title='Cell types in biopsy types',\n",
    "             width=500,\n",
    "             height=600,\n",
    "             category_orders={'BiopsyType':['Superficial<br>Biopsy', 'Organ<br>Donor']},\n",
    "             labels={'Percentage':'cells [%]',\n",
    "                     'BiopsyType':'Biopsy type',\n",
    "                     'Broad cell type':'Cell type'})\n",
    "\n",
    "plt.update_layout(font={'size':16})\n",
    "plt"
   ]
  },
  {
   "cell_type": "markdown",
   "id": "7dbd1702",
   "metadata": {},
   "source": [
    "## Cell type"
   ]
  },
  {
   "cell_type": "code",
   "execution_count": 31,
   "id": "b9da876d",
   "metadata": {},
   "outputs": [
    {
     "data": {
      "text/plain": [
       "Cell type\n",
       "dS                    24436\n",
       "Lumenal               14252\n",
       "Glandular             13100\n",
       "eS                    12675\n",
       "uSMC                   7746\n",
       "Endothelial ACKR1      7188\n",
       "SOX9                   3646\n",
       "PV MYH11               3414\n",
       "PV STEAP4              3345\n",
       "Ciliated               3189\n",
       "Other                  2923\n",
       "Lymphoid               2311\n",
       "Fibroblast C7           932\n",
       "Myeloid                 761\n",
       "Endothelial SEMA3G      389\n",
       "Name: count, dtype: int64"
      ]
     },
     "execution_count": 31,
     "metadata": {},
     "output_type": "execute_result"
    }
   ],
   "source": [
    "count('Cell type', data)"
   ]
  },
  {
   "cell_type": "markdown",
   "id": "42294d91",
   "metadata": {},
   "source": [
    "## Cell cycle phase"
   ]
  },
  {
   "cell_type": "code",
   "execution_count": 32,
   "id": "93b594f2",
   "metadata": {},
   "outputs": [
    {
     "data": {
      "text/plain": [
       "CellCycle Phase\n",
       "G1     94213\n",
       "S       3667\n",
       "G2M     2427\n",
       "Name: count, dtype: int64"
      ]
     },
     "execution_count": 32,
     "metadata": {},
     "output_type": "execute_result"
    }
   ],
   "source": [
    "count('CellCycle Phase', data)"
   ]
  },
  {
   "cell_type": "markdown",
   "id": "a105cdc9",
   "metadata": {},
   "source": [
    "# Variable exploration"
   ]
  },
  {
   "cell_type": "code",
   "execution_count": 33,
   "id": "bc7a432d",
   "metadata": {},
   "outputs": [
    {
     "data": {
      "text/plain": [
       "28614"
      ]
     },
     "execution_count": 33,
     "metadata": {},
     "output_type": "execute_result"
    }
   ],
   "source": [
    "len(data.var_names)"
   ]
  },
  {
   "cell_type": "code",
   "execution_count": 34,
   "id": "04accb98",
   "metadata": {},
   "outputs": [
    {
     "data": {
      "text/html": [
       "<div>\n",
       "<style scoped>\n",
       "    .dataframe tbody tr th:only-of-type {\n",
       "        vertical-align: middle;\n",
       "    }\n",
       "\n",
       "    .dataframe tbody tr th {\n",
       "        vertical-align: top;\n",
       "    }\n",
       "\n",
       "    .dataframe thead th {\n",
       "        text-align: right;\n",
       "    }\n",
       "</style>\n",
       "<table border=\"1\" class=\"dataframe\">\n",
       "  <thead>\n",
       "    <tr style=\"text-align: right;\">\n",
       "      <th></th>\n",
       "      <th>gene_ids</th>\n",
       "      <th>n_cells</th>\n",
       "      <th>n_cells_by_counts</th>\n",
       "      <th>mean_counts</th>\n",
       "      <th>log1p_mean_counts</th>\n",
       "      <th>pct_dropout_by_counts</th>\n",
       "      <th>total_counts</th>\n",
       "      <th>log1p_total_counts</th>\n",
       "    </tr>\n",
       "  </thead>\n",
       "  <tbody>\n",
       "    <tr>\n",
       "      <th>RP11-34P13.3</th>\n",
       "      <td>ENSG00000243485</td>\n",
       "      <td>87</td>\n",
       "      <td>76</td>\n",
       "      <td>0.000764</td>\n",
       "      <td>0.000763</td>\n",
       "      <td>99.924233</td>\n",
       "      <td>76.584961</td>\n",
       "      <td>4.351374</td>\n",
       "    </tr>\n",
       "    <tr>\n",
       "      <th>FAM138A</th>\n",
       "      <td>ENSG00000237613</td>\n",
       "      <td>17</td>\n",
       "      <td>14</td>\n",
       "      <td>0.000140</td>\n",
       "      <td>0.000140</td>\n",
       "      <td>99.986043</td>\n",
       "      <td>14.000000</td>\n",
       "      <td>2.708050</td>\n",
       "    </tr>\n",
       "    <tr>\n",
       "      <th>RP11-34P13.7</th>\n",
       "      <td>ENSG00000238009</td>\n",
       "      <td>209</td>\n",
       "      <td>172</td>\n",
       "      <td>0.001715</td>\n",
       "      <td>0.001713</td>\n",
       "      <td>99.828526</td>\n",
       "      <td>172.000000</td>\n",
       "      <td>5.153292</td>\n",
       "    </tr>\n",
       "    <tr>\n",
       "      <th>RP11-34P13.8</th>\n",
       "      <td>ENSG00000239945</td>\n",
       "      <td>17</td>\n",
       "      <td>15</td>\n",
       "      <td>0.000150</td>\n",
       "      <td>0.000150</td>\n",
       "      <td>99.985046</td>\n",
       "      <td>15.000000</td>\n",
       "      <td>2.772589</td>\n",
       "    </tr>\n",
       "    <tr>\n",
       "      <th>RP11-34P13.9</th>\n",
       "      <td>ENSG00000241599</td>\n",
       "      <td>11</td>\n",
       "      <td>5</td>\n",
       "      <td>0.000050</td>\n",
       "      <td>0.000050</td>\n",
       "      <td>99.995015</td>\n",
       "      <td>5.000000</td>\n",
       "      <td>1.791759</td>\n",
       "    </tr>\n",
       "    <tr>\n",
       "      <th>...</th>\n",
       "      <td>...</td>\n",
       "      <td>...</td>\n",
       "      <td>...</td>\n",
       "      <td>...</td>\n",
       "      <td>...</td>\n",
       "      <td>...</td>\n",
       "      <td>...</td>\n",
       "      <td>...</td>\n",
       "    </tr>\n",
       "    <tr>\n",
       "      <th>AC007325.2</th>\n",
       "      <td>ENSG00000277196</td>\n",
       "      <td>2321</td>\n",
       "      <td>1861</td>\n",
       "      <td>0.019564</td>\n",
       "      <td>0.019375</td>\n",
       "      <td>98.144696</td>\n",
       "      <td>1962.413208</td>\n",
       "      <td>7.582440</td>\n",
       "    </tr>\n",
       "    <tr>\n",
       "      <th>AL354822.1</th>\n",
       "      <td>ENSG00000278384</td>\n",
       "      <td>3360</td>\n",
       "      <td>2523</td>\n",
       "      <td>0.027353</td>\n",
       "      <td>0.026986</td>\n",
       "      <td>97.484722</td>\n",
       "      <td>2743.710938</td>\n",
       "      <td>7.917431</td>\n",
       "    </tr>\n",
       "    <tr>\n",
       "      <th>AC023491.2</th>\n",
       "      <td>ENSG00000278633</td>\n",
       "      <td>6</td>\n",
       "      <td>5</td>\n",
       "      <td>0.000050</td>\n",
       "      <td>0.000050</td>\n",
       "      <td>99.995015</td>\n",
       "      <td>5.000000</td>\n",
       "      <td>1.791759</td>\n",
       "    </tr>\n",
       "    <tr>\n",
       "      <th>AC004556.1</th>\n",
       "      <td>ENSG00000276345</td>\n",
       "      <td>22107</td>\n",
       "      <td>18806</td>\n",
       "      <td>0.216952</td>\n",
       "      <td>0.196349</td>\n",
       "      <td>81.251558</td>\n",
       "      <td>21762.740234</td>\n",
       "      <td>9.988001</td>\n",
       "    </tr>\n",
       "    <tr>\n",
       "      <th>AC240274.1</th>\n",
       "      <td>ENSG00000271254</td>\n",
       "      <td>10261</td>\n",
       "      <td>8726</td>\n",
       "      <td>0.094808</td>\n",
       "      <td>0.090579</td>\n",
       "      <td>91.300707</td>\n",
       "      <td>9509.932617</td>\n",
       "      <td>9.160197</td>\n",
       "    </tr>\n",
       "  </tbody>\n",
       "</table>\n",
       "<p>28614 rows × 8 columns</p>\n",
       "</div>"
      ],
      "text/plain": [
       "                     gene_ids  n_cells  n_cells_by_counts  mean_counts  \\\n",
       "RP11-34P13.3  ENSG00000243485       87                 76     0.000764   \n",
       "FAM138A       ENSG00000237613       17                 14     0.000140   \n",
       "RP11-34P13.7  ENSG00000238009      209                172     0.001715   \n",
       "RP11-34P13.8  ENSG00000239945       17                 15     0.000150   \n",
       "RP11-34P13.9  ENSG00000241599       11                  5     0.000050   \n",
       "...                       ...      ...                ...          ...   \n",
       "AC007325.2    ENSG00000277196     2321               1861     0.019564   \n",
       "AL354822.1    ENSG00000278384     3360               2523     0.027353   \n",
       "AC023491.2    ENSG00000278633        6                  5     0.000050   \n",
       "AC004556.1    ENSG00000276345    22107              18806     0.216952   \n",
       "AC240274.1    ENSG00000271254    10261               8726     0.094808   \n",
       "\n",
       "              log1p_mean_counts  pct_dropout_by_counts  total_counts  \\\n",
       "RP11-34P13.3           0.000763              99.924233     76.584961   \n",
       "FAM138A                0.000140              99.986043     14.000000   \n",
       "RP11-34P13.7           0.001713              99.828526    172.000000   \n",
       "RP11-34P13.8           0.000150              99.985046     15.000000   \n",
       "RP11-34P13.9           0.000050              99.995015      5.000000   \n",
       "...                         ...                    ...           ...   \n",
       "AC007325.2             0.019375              98.144696   1962.413208   \n",
       "AL354822.1             0.026986              97.484722   2743.710938   \n",
       "AC023491.2             0.000050              99.995015      5.000000   \n",
       "AC004556.1             0.196349              81.251558  21762.740234   \n",
       "AC240274.1             0.090579              91.300707   9509.932617   \n",
       "\n",
       "              log1p_total_counts  \n",
       "RP11-34P13.3            4.351374  \n",
       "FAM138A                 2.708050  \n",
       "RP11-34P13.7            5.153292  \n",
       "RP11-34P13.8            2.772589  \n",
       "RP11-34P13.9            1.791759  \n",
       "...                          ...  \n",
       "AC007325.2              7.582440  \n",
       "AL354822.1              7.917431  \n",
       "AC023491.2              1.791759  \n",
       "AC004556.1              9.988001  \n",
       "AC240274.1              9.160197  \n",
       "\n",
       "[28614 rows x 8 columns]"
      ]
     },
     "execution_count": 34,
     "metadata": {},
     "output_type": "execute_result"
    }
   ],
   "source": [
    "sc.pp.calculate_qc_metrics(data, inplace=True, log1p=True)\n",
    "data.var"
   ]
  },
  {
   "cell_type": "markdown",
   "id": "bc2f2f67",
   "metadata": {},
   "source": [
    "# Gene counts"
   ]
  },
  {
   "cell_type": "code",
   "execution_count": 39,
   "id": "71e1f02f",
   "metadata": {},
   "outputs": [
    {
     "name": "stdout",
     "output_type": "stream",
     "text": [
      "WARNING: saving figure to file figures\\scatter_mito.png\n"
     ]
    },
    {
     "data": {
      "image/png": "[encoded data removed]",
      "text/plain": [
       "<Figure size 676.875x600 with 2 Axes>"
      ]
     },
     "metadata": {
      "image/png": {
       "height": 596,
       "width": 684
      }
     },
     "output_type": "display_data"
    }
   ],
   "source": [
    "sc.pl.scatter(data, 'total_counts', 'n_genes_by_counts', color='percent_mito', save='_mito.png')"
   ]
  },
  {
   "cell_type": "markdown",
   "id": "b53276a8",
   "metadata": {},
   "source": [
    "There is no need for filtering based on mitochondrial gene expression percentage."
   ]
  },
  {
   "cell_type": "markdown",
   "id": "666b1438",
   "metadata": {},
   "source": [
    "# "
   ]
  }
 ],
 "metadata": {
  "kernelspec": {
   "display_name": ".venv",
   "language": "python",
   "name": "python3"
  },
  "language_info": {
   "codemirror_mode": {
    "name": "ipython",
    "version": 3
   },
   "file_extension": ".py",
   "mimetype": "text/x-python",
   "name": "python",
   "nbconvert_exporter": "python",
   "pygments_lexer": "ipython3",
   "version": "3.10.11"
  }
 },
 "nbformat": 4,
 "nbformat_minor": 5
}
