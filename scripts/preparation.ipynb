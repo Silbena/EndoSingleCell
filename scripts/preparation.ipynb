{
 "cells": [
  {
   "cell_type": "code",
   "execution_count": 1,
   "id": "6409a407",
   "metadata": {},
   "outputs": [],
   "source": [
    "import scanpy as sc\n",
    "from pathlib import Path"
   ]
  },
  {
   "cell_type": "markdown",
   "id": "27a33e6f",
   "metadata": {},
   "source": [
    "# Data preparation (based on QC)"
   ]
  },
  {
   "cell_type": "code",
   "execution_count": 3,
   "id": "6f2891e1",
   "metadata": {},
   "outputs": [],
   "source": [
    "data_file = Path('../data/endometrium_all.h5ad')\n",
    "data = sc.read_h5ad(data_file)"
   ]
  },
  {
   "cell_type": "markdown",
   "id": "5f9cd1c3",
   "metadata": {},
   "source": [
    "Filtering"
   ]
  },
  {
   "cell_type": "code",
   "execution_count": 4,
   "id": "546e7f57",
   "metadata": {},
   "outputs": [
    {
     "name": "stdout",
     "output_type": "stream",
     "text": [
      "100307 25839\n"
     ]
    }
   ],
   "source": [
    "sc.pp.filter_cells(data, min_genes=500)\n",
    "sc.pp.filter_genes(data, min_cells=10)\n",
    "print(len(data.obs_names), len(data.var_names))"
   ]
  },
  {
   "cell_type": "markdown",
   "id": "a42b2795",
   "metadata": {},
   "source": [
    "The number of cells did not change, which indicates that the dataset was already filtered. The scientists stated, that they had filtered out the cells with less then 500 genes, but did not emphasized, that the data they provided had already been normalized."
   ]
  },
  {
   "cell_type": "markdown",
   "id": "93eaad34",
   "metadata": {},
   "source": [
    "Doublet detection"
   ]
  },
  {
   "cell_type": "code",
   "execution_count": 5,
   "id": "f8523ef3",
   "metadata": {},
   "outputs": [],
   "source": [
    "sc.pp.scrublet(data, n_neighbors=20, batch_key='SampleID', sim_doublet_ratio=3.0)"
   ]
  },
  {
   "cell_type": "code",
   "execution_count": 6,
   "id": "d5e33460",
   "metadata": {},
   "outputs": [
    {
     "name": "stdout",
     "output_type": "stream",
     "text": [
      "0.0065299530441544455\n"
     ]
    }
   ],
   "source": [
    "doublet_percent = data.obs['predicted_doublet'].sum() / len(data.obs)\n",
    "print(doublet_percent)"
   ]
  },
  {
   "cell_type": "code",
   "execution_count": 7,
   "id": "5d67d563",
   "metadata": {},
   "outputs": [
    {
     "name": "stdout",
     "output_type": "stream",
     "text": [
      "0.0\n"
     ]
    }
   ],
   "source": [
    "data = data[~data.obs['predicted_doublet']].copy()\n",
    "\n",
    "doublet_percent = data.obs['predicted_doublet'].sum() / len(data.obs)\n",
    "print(doublet_percent)"
   ]
  },
  {
   "cell_type": "markdown",
   "id": "9f5e3e80",
   "metadata": {},
   "source": [
    "## Normalization"
   ]
  },
  {
   "cell_type": "code",
   "execution_count": 8,
   "id": "46a2ab0e",
   "metadata": {},
   "outputs": [
    {
     "name": "stdout",
     "output_type": "stream",
     "text": [
      "<Compressed Sparse Row sparse matrix of dtype 'float32'\n",
      "\twith 3842 stored elements and shape (1, 25839)>\n",
      "  Coords\tValues\n",
      "  (0, 16)\t1.5849624872207642\n",
      "  (0, 23)\t2.0\n",
      "  (0, 28)\t1.0\n",
      "  (0, 34)\t2.0\n",
      "  (0, 38)\t1.0\n",
      "  (0, 41)\t1.0\n",
      "  (0, 43)\t1.0\n",
      "  (0, 44)\t1.0\n",
      "  (0, 47)\t2.321928024291992\n",
      "  (0, 48)\t2.321928024291992\n",
      "  (0, 50)\t2.321928024291992\n",
      "  (0, 60)\t2.0\n",
      "  (0, 62)\t1.0\n",
      "  (0, 64)\t1.0\n",
      "  (0, 73)\t1.5849624872207642\n",
      "  (0, 84)\t2.321928024291992\n",
      "  (0, 125)\t4.247927665710449\n",
      "  (0, 131)\t1.0\n",
      "  (0, 146)\t1.5849624872207642\n",
      "  (0, 152)\t1.5849624872207642\n",
      "  (0, 157)\t3.8073549270629883\n",
      "  (0, 165)\t2.321928024291992\n",
      "  (0, 173)\t1.0\n",
      "  (0, 174)\t1.0\n",
      "  (0, 175)\t1.0\n",
      "  :\t:\n",
      "  (0, 25737)\t1.0\n",
      "  (0, 25738)\t1.5849624872207642\n",
      "  (0, 25739)\t1.5849624872207642\n",
      "  (0, 25742)\t1.0\n",
      "  (0, 25754)\t1.0\n",
      "  (0, 25755)\t1.0\n",
      "  (0, 25767)\t2.0\n",
      "  (0, 25768)\t1.5849624872207642\n",
      "  (0, 25791)\t2.0\n",
      "  (0, 25795)\t3.4594316482543945\n",
      "  (0, 25806)\t1.0\n",
      "  (0, 25807)\t1.0\n",
      "  (0, 25811)\t6.087462902069092\n",
      "  (0, 25812)\t6.087462902069092\n",
      "  (0, 25813)\t7.257388114929199\n",
      "  (0, 25814)\t7.098031997680664\n",
      "  (0, 25816)\t6.475733757019043\n",
      "  (0, 25817)\t7.330916881561279\n",
      "  (0, 25818)\t5.321928024291992\n",
      "  (0, 25819)\t2.0\n",
      "  (0, 25820)\t6.539158821105957\n",
      "  (0, 25821)\t3.4594316482543945\n",
      "  (0, 25822)\t1.0\n",
      "  (0, 25823)\t6.554588794708252\n",
      "  (0, 25834)\t1.0\n"
     ]
    }
   ],
   "source": [
    "print(data.X[0])"
   ]
  },
  {
   "cell_type": "code",
   "execution_count": 9,
   "id": "18afc27a",
   "metadata": {},
   "outputs": [
    {
     "name": "stdout",
     "output_type": "stream",
     "text": [
      "<Compressed Sparse Row sparse matrix of dtype 'float32'\n",
      "\twith 3842 stored elements and shape (1, 28614)>\n",
      "  Coords\tValues\n",
      "  (0, 21)\t2.0\n",
      "  (0, 28)\t3.0\n",
      "  (0, 33)\t1.0\n",
      "  (0, 40)\t3.0\n",
      "  (0, 44)\t1.0\n",
      "  (0, 47)\t1.0\n",
      "  (0, 49)\t1.0\n",
      "  (0, 50)\t1.0\n",
      "  (0, 53)\t4.0\n",
      "  (0, 54)\t4.0\n",
      "  (0, 56)\t4.0\n",
      "  (0, 67)\t3.0\n",
      "  (0, 70)\t1.0\n",
      "  (0, 72)\t1.0\n",
      "  (0, 81)\t2.0\n",
      "  (0, 92)\t4.0\n",
      "  (0, 137)\t18.0\n",
      "  (0, 143)\t1.0\n",
      "  (0, 159)\t2.0\n",
      "  (0, 165)\t2.0\n",
      "  (0, 170)\t13.0\n",
      "  (0, 179)\t4.0\n",
      "  (0, 187)\t1.0\n",
      "  (0, 188)\t1.0\n",
      "  (0, 189)\t1.0\n",
      "  :\t:\n",
      "  (0, 28498)\t1.0\n",
      "  (0, 28499)\t2.0\n",
      "  (0, 28500)\t2.0\n",
      "  (0, 28503)\t1.0\n",
      "  (0, 28515)\t1.0\n",
      "  (0, 28516)\t1.0\n",
      "  (0, 28532)\t3.0\n",
      "  (0, 28533)\t2.0\n",
      "  (0, 28560)\t3.0\n",
      "  (0, 28565)\t10.0\n",
      "  (0, 28577)\t1.0\n",
      "  (0, 28578)\t1.0\n",
      "  (0, 28582)\t67.0\n",
      "  (0, 28583)\t67.0\n",
      "  (0, 28584)\t152.0\n",
      "  (0, 28585)\t136.0\n",
      "  (0, 28587)\t88.0\n",
      "  (0, 28588)\t160.0\n",
      "  (0, 28589)\t39.0\n",
      "  (0, 28590)\t3.0\n",
      "  (0, 28591)\t92.0\n",
      "  (0, 28592)\t10.0\n",
      "  (0, 28593)\t1.0\n",
      "  (0, 28594)\t93.0\n",
      "  (0, 28608)\t1.0\n"
     ]
    }
   ],
   "source": [
    "print(data.raw.X[0])"
   ]
  },
  {
   "cell_type": "markdown",
   "id": "dff5c5c1",
   "metadata": {},
   "source": [
    "Teh data in data.X are normalized. The unnormalized data can be found in the data.raw.X."
   ]
  },
  {
   "cell_type": "markdown",
   "id": "558c2787",
   "metadata": {},
   "source": [
    "## Saving filtered data"
   ]
  },
  {
   "cell_type": "code",
   "execution_count": 10,
   "id": "08b4ff19",
   "metadata": {},
   "outputs": [],
   "source": [
    "filtered = Path('../data/endometrium_filtered.h5ad')\n",
    "data.write(filtered)"
   ]
  }
 ],
 "metadata": {
  "kernelspec": {
   "display_name": ".venv",
   "language": "python",
   "name": "python3"
  },
  "language_info": {
   "codemirror_mode": {
    "name": "ipython",
    "version": 3
   },
   "file_extension": ".py",
   "mimetype": "text/x-python",
   "name": "python",
   "nbconvert_exporter": "python",
   "pygments_lexer": "ipython3",
   "version": "3.10.11"
  }
 },
 "nbformat": 4,
 "nbformat_minor": 5
}
